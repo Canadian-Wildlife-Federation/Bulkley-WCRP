{
 "cells": [
  {
   "cell_type": "markdown",
   "metadata": {},
   "source": [
    "# Connectivity Status Assessment and Action Plan"
   ]
  },
  {
   "cell_type": "code",
   "execution_count": 2,
   "metadata": {
    "tags": [
     "remove-input",
     "remove-output"
    ]
   },
   "outputs": [],
   "source": [
    "import requests\n",
    "import json\n",
    "import pandas\n",
    "from myst_nb import glue\n",
    "\n",
    "def barrier_extent(barrier_type):\n",
    "\n",
    "    request = 'https://features.hillcrestgeo.ca/bcfishpass/functions/postgisftw.wcrp_barrier_extent/items.json?watershed_group_code=BULK&barrier_type=' + barrier_type\n",
    "\n",
    "    response_api = requests.get(request)\n",
    "    parse = response_api.text\n",
    "    result = json.loads(parse)\n",
    "\n",
    "    blocked_km = result[0]['all_habitat_blocked_km']\n",
    "    blocked_pct = result[0]['all_habitat_blocked_pct']\n",
    "\n",
    "    return blocked_km, blocked_pct\n",
    "\n",
    "def barrier_count(barrier_type):\n",
    "    request = 'https://features.hillcrestgeo.ca/bcfishpass/functions/postgisftw.wcrp_barrier_count/items.json?watershed_group_code=BULK&barrier_type=' + barrier_type\n",
    "\n",
    "    response_api = requests.get(request)\n",
    "    parse = response_api.text\n",
    "    result = json.loads(parse)\n",
    "\n",
    "    n_passable = result[0]['n_passable']\n",
    "    n_barrier = result[0]['n_barrier']\n",
    "    n_potential = result[0]['n_potential']\n",
    "    n_unknown = result[0]['n_unknown']\n",
    "\n",
    "    sum_bar = (n_passable, n_barrier, n_potential, n_unknown)\n",
    "\n",
    "    return n_passable, n_barrier, n_potential, n_unknown, sum(sum_bar)\n",
    "\n",
    "def barrier_severity(barrier_type):\n",
    "\n",
    "    request = 'https://features.hillcrestgeo.ca/bcfishpass/functions/postgisftw.wcrp_barrier_severity/items.json?watershed_group_code=BULK&barrier_type=' + barrier_type\n",
    "\n",
    "    response_api = requests.get(request)\n",
    "    parse = response_api.text\n",
    "    result = json.loads(parse)\n",
    "\n",
    "    n_assessed_barrier = result[0]['n_assessed_barrier']\n",
    "    n_assess_total = result[0]['n_assess_total']\n",
    "    pct_assessed_barrier = result[0]['pct_assessed_barrier']\n",
    "\n",
    "    return n_assessed_barrier, n_assess_total, pct_assessed_barrier\n",
    "\n",
    "def watershed_connectivity(habitat_type):\n",
    "\n",
    "    request = 'https://features.hillcrestgeo.ca/bcfishpass/functions/postgisftw.wcrp_watershed_connectivity_status/items.json?watershed_group_code=BULK&barrier_type=' + habitat_type\n",
    "\n",
    "    response_api = requests.get(request)\n",
    "    parse = response_api.text\n",
    "    result = json.loads(parse)\n",
    "\n",
    "    connect_stat = result[0]['connectivity_status']\n",
    "\n",
    "    return str(round(connect_stat))"
   ]
  },
  {
   "attachments": {},
   "cell_type": "markdown",
   "metadata": {},
   "source": [
    "```{include} ../content/ecoattributes-md.md\n",
    ":start-after: \"# Connectivity Status Assessment and Action Plan\"\n",
    ":end-before: \"# Barrier Types\"\n",
    "```"
   ]
  },
  {
   "cell_type": "code",
   "execution_count": 3,
   "metadata": {
    "tags": [
     "remove-input"
    ]
   },
   "outputs": [
    {
     "data": {
      "text/html": [
       "<style  type=\"text/css\" >\n",
       "#T_05c859dc_9674_11ed_865b_b445066bfd9brow0_col0,#T_05c859dc_9674_11ed_865b_b445066bfd9brow0_col1,#T_05c859dc_9674_11ed_865b_b445066bfd9brow0_col2,#T_05c859dc_9674_11ed_865b_b445066bfd9brow1_col0,#T_05c859dc_9674_11ed_865b_b445066bfd9brow1_col1,#T_05c859dc_9674_11ed_865b_b445066bfd9brow1_col3,#T_05c859dc_9674_11ed_865b_b445066bfd9brow1_col5,#T_05c859dc_9674_11ed_865b_b445066bfd9brow1_col6{\n",
       "            background-color:  white;\n",
       "        }#T_05c859dc_9674_11ed_865b_b445066bfd9brow0_col3{\n",
       "            background-color:  #ff0000;\n",
       "        }#T_05c859dc_9674_11ed_865b_b445066bfd9brow0_col4,#T_05c859dc_9674_11ed_865b_b445066bfd9brow1_col4{\n",
       "            background-color:  #ffff00;\n",
       "        }#T_05c859dc_9674_11ed_865b_b445066bfd9brow0_col5{\n",
       "            background-color:  #92d050;\n",
       "        }#T_05c859dc_9674_11ed_865b_b445066bfd9brow0_col6{\n",
       "            background-color:  #03853e;\n",
       "        }#T_05c859dc_9674_11ed_865b_b445066bfd9brow1_col2{\n",
       "            font-weight:  bold;\n",
       "        }</style><table id=\"T_05c859dc_9674_11ed_865b_b445066bfd9b\" ><thead>    <tr>        <th class=\"col_heading level0 col0\" >Target Species</th>        <th class=\"col_heading level0 col1\" >KEA</th>        <th class=\"col_heading level0 col2\" >Indicator</th>        <th class=\"col_heading level0 col3\" >Poor</th>        <th class=\"col_heading level0 col4\" >Fair</th>        <th class=\"col_heading level0 col5\" >Good</th>        <th class=\"col_heading level0 col6\" >Very Good</th>    </tr></thead><tbody>\n",
       "                <tr>\n",
       "                                <td id=\"T_05c859dc_9674_11ed_865b_b445066bfd9brow0_col0\" class=\"data row0 col0\" >Andromous Salmon</td>\n",
       "                        <td id=\"T_05c859dc_9674_11ed_865b_b445066bfd9brow0_col1\" class=\"data row0 col1\" >Available Habitat</td>\n",
       "                        <td id=\"T_05c859dc_9674_11ed_865b_b445066bfd9brow0_col2\" class=\"data row0 col2\" >% of total linear spawning habitat</td>\n",
       "                        <td id=\"T_05c859dc_9674_11ed_865b_b445066bfd9brow0_col3\" class=\"data row0 col3\" ><50%</td>\n",
       "                        <td id=\"T_05c859dc_9674_11ed_865b_b445066bfd9brow0_col4\" class=\"data row0 col4\" >51-75%</td>\n",
       "                        <td id=\"T_05c859dc_9674_11ed_865b_b445066bfd9brow0_col5\" class=\"data row0 col5\" >76-90%</td>\n",
       "                        <td id=\"T_05c859dc_9674_11ed_865b_b445066bfd9brow0_col6\" class=\"data row0 col6\" >>90%</td>\n",
       "            </tr>\n",
       "            <tr>\n",
       "                                <td id=\"T_05c859dc_9674_11ed_865b_b445066bfd9brow1_col0\" class=\"data row1 col0\" > </td>\n",
       "                        <td id=\"T_05c859dc_9674_11ed_865b_b445066bfd9brow1_col1\" class=\"data row1 col1\" > </td>\n",
       "                        <td id=\"T_05c859dc_9674_11ed_865b_b445066bfd9brow1_col2\" class=\"data row1 col2\" >Current Status:</td>\n",
       "                        <td id=\"T_05c859dc_9674_11ed_865b_b445066bfd9brow1_col3\" class=\"data row1 col3\" > </td>\n",
       "                        <td id=\"T_05c859dc_9674_11ed_865b_b445066bfd9brow1_col4\" class=\"data row1 col4\" >72</td>\n",
       "                        <td id=\"T_05c859dc_9674_11ed_865b_b445066bfd9brow1_col5\" class=\"data row1 col5\" > </td>\n",
       "                        <td id=\"T_05c859dc_9674_11ed_865b_b445066bfd9brow1_col6\" class=\"data row1 col6\" > </td>\n",
       "            </tr>\n",
       "    </tbody></table>"
      ],
      "text/plain": [
       "<pandas.io.formats.style.Styler at 0x14a38d6a5c8>"
      ]
     },
     "execution_count": 3,
     "metadata": {},
     "output_type": "execute_result"
    }
   ],
   "source": [
    "#creating table 7\n",
    "import pandas as pd\n",
    "import numpy as np\n",
    "import matplotlib as mpl\n",
    "import warnings\n",
    "\n",
    "warnings.filterwarnings('ignore')\n",
    "\n",
    "df = pd.DataFrame({\"Target Species\":[\"Andromous Salmon\",\" \"],\n",
    "                   \"KEA\":[\"Available Habitat\",\" \"],\n",
    "                   \"Indicator\":[\"% of total linear spawning habitat\",\"Current Status:\"],\n",
    "                   \"Poor\":[\"<50%\",\" \"],\n",
    "                   \"Fair\":[\"51-75%\",watershed_connectivity(\"ALL\")],\n",
    "                   \"Good\":[\"76-90%\",\" \"],\n",
    "                   \"Very Good\":[\">90%\", \" \"]\n",
    "                   })\n",
    "\n",
    "\n",
    "def highlighttab7(val):\n",
    "    red = '#ff0000;'\n",
    "    yellow = '#ffff00;'\n",
    "    lgreen = '#92d050;'\n",
    "    dgreen = '#03853e;'\n",
    "\n",
    "    if val==\"<50%\" : color = red\n",
    "    elif val[0:].isdigit() and int(val) < 50 : color = red\n",
    "    elif val==\"51-75%\"  : color = yellow\n",
    "    elif val[0:].isdigit() and (int(val) >= 51 and int(val) < 75) : color = yellow\n",
    "    elif val==\"76-90%\"  : color = lgreen\n",
    "    elif val[0:].isdigit() and (int(val) >= 76 and int(val) < 90) : color = lgreen \n",
    "    elif val ==\">90%\": color = dgreen\n",
    "    elif val[0:].isdigit() and int(val) >= 90 : color = dgreen \n",
    "    elif val == \"Current Status:\" : return \"font-weight: bold\"\n",
    "    else: color = 'white'\n",
    "    return 'background-color: %s' % color\n",
    "\n",
    "df.style.applymap(highlighttab7).hide_index()\n",
    "\n"
   ]
  },
  {
   "attachments": {},
   "cell_type": "markdown",
   "metadata": {},
   "source": [
    "**Comments**: Indicator rating definitions are based on the consensus decisions of the planning team. The current status is based on the CWF Barrier Prioritization Model output, which is current as of October 2022. "
   ]
  },
  {
   "cell_type": "code",
   "execution_count": 4,
   "metadata": {
    "tags": [
     "remove-input",
     "remove-output"
    ]
   },
   "outputs": [
    {
     "data": {
      "text/html": [
       "<style  type=\"text/css\" >\n",
       "    #T_05d0f036_9674_11ed_89bb_b445066bfd9b th {\n",
       "          text-align: left;\n",
       "    }#T_05d0f036_9674_11ed_89bb_b445066bfd9brow0_col0,#T_05d0f036_9674_11ed_89bb_b445066bfd9brow0_col1,#T_05d0f036_9674_11ed_89bb_b445066bfd9brow0_col2,#T_05d0f036_9674_11ed_89bb_b445066bfd9brow1_col0,#T_05d0f036_9674_11ed_89bb_b445066bfd9brow1_col1,#T_05d0f036_9674_11ed_89bb_b445066bfd9brow1_col3,#T_05d0f036_9674_11ed_89bb_b445066bfd9brow1_col5,#T_05d0f036_9674_11ed_89bb_b445066bfd9brow1_col6{\n",
       "            background-color:  white;\n",
       "        }#T_05d0f036_9674_11ed_89bb_b445066bfd9brow0_col3{\n",
       "            background-color:  #ff0000;\n",
       "        }#T_05d0f036_9674_11ed_89bb_b445066bfd9brow0_col4,#T_05d0f036_9674_11ed_89bb_b445066bfd9brow1_col4{\n",
       "            background-color:  #ffff00;\n",
       "        }#T_05d0f036_9674_11ed_89bb_b445066bfd9brow0_col5{\n",
       "            background-color:  #92d050;\n",
       "        }#T_05d0f036_9674_11ed_89bb_b445066bfd9brow0_col6{\n",
       "            background-color:  #03853e;\n",
       "        }#T_05d0f036_9674_11ed_89bb_b445066bfd9brow1_col2{\n",
       "            font-weight:  bold;\n",
       "        }</style><table id=\"T_05d0f036_9674_11ed_89bb_b445066bfd9b\" ><thead>    <tr>        <th class=\"col_heading level0 col0\" >Target Species</th>        <th class=\"col_heading level0 col1\" >KEA</th>        <th class=\"col_heading level0 col2\" >Indicator</th>        <th class=\"col_heading level0 col3\" >Poor</th>        <th class=\"col_heading level0 col4\" >Fair</th>        <th class=\"col_heading level0 col5\" >Good</th>        <th class=\"col_heading level0 col6\" >Very Good</th>    </tr></thead><tbody>\n",
       "                <tr>\n",
       "                                <td id=\"T_05d0f036_9674_11ed_89bb_b445066bfd9brow0_col0\" class=\"data row0 col0\" >Andromous Salmon</td>\n",
       "                        <td id=\"T_05d0f036_9674_11ed_89bb_b445066bfd9brow0_col1\" class=\"data row0 col1\" >Available Overwintering Habitat</td>\n",
       "                        <td id=\"T_05d0f036_9674_11ed_89bb_b445066bfd9brow0_col2\" class=\"data row0 col2\" >% of total linear rearing habitat accessible</td>\n",
       "                        <td id=\"T_05d0f036_9674_11ed_89bb_b445066bfd9brow0_col3\" class=\"data row0 col3\" ><50%</td>\n",
       "                        <td id=\"T_05d0f036_9674_11ed_89bb_b445066bfd9brow0_col4\" class=\"data row0 col4\" >51-75%</td>\n",
       "                        <td id=\"T_05d0f036_9674_11ed_89bb_b445066bfd9brow0_col5\" class=\"data row0 col5\" >76-90%</td>\n",
       "                        <td id=\"T_05d0f036_9674_11ed_89bb_b445066bfd9brow0_col6\" class=\"data row0 col6\" >>90%</td>\n",
       "            </tr>\n",
       "            <tr>\n",
       "                                <td id=\"T_05d0f036_9674_11ed_89bb_b445066bfd9brow1_col0\" class=\"data row1 col0\" ></td>\n",
       "                        <td id=\"T_05d0f036_9674_11ed_89bb_b445066bfd9brow1_col1\" class=\"data row1 col1\" ></td>\n",
       "                        <td id=\"T_05d0f036_9674_11ed_89bb_b445066bfd9brow1_col2\" class=\"data row1 col2\" >Current Status:</td>\n",
       "                        <td id=\"T_05d0f036_9674_11ed_89bb_b445066bfd9brow1_col3\" class=\"data row1 col3\" > </td>\n",
       "                        <td id=\"T_05d0f036_9674_11ed_89bb_b445066bfd9brow1_col4\" class=\"data row1 col4\" >70%</td>\n",
       "                        <td id=\"T_05d0f036_9674_11ed_89bb_b445066bfd9brow1_col5\" class=\"data row1 col5\" > </td>\n",
       "                        <td id=\"T_05d0f036_9674_11ed_89bb_b445066bfd9brow1_col6\" class=\"data row1 col6\" > </td>\n",
       "            </tr>\n",
       "    </tbody></table>"
      ],
      "text/plain": [
       "<pandas.io.formats.style.Styler at 0x14a396686c8>"
      ]
     },
     "metadata": {
      "scrapbook": {
       "mime_prefix": "",
       "name": "Table7"
      }
     },
     "output_type": "display_data"
    }
   ],
   "source": [
    "#creating table 7\n",
    "import pandas as pd\n",
    "import numpy as np\n",
    "import matplotlib as mpl\n",
    "import warnings\n",
    "from myst_nb import glue\n",
    "\n",
    "warnings.filterwarnings('ignore')\n",
    "\n",
    "df = pd.DataFrame({\"Target Species\":[\"Andromous Salmon\",\"\"],\n",
    "                   \"KEA\":[\"Available Overwintering Habitat\",\"\"],\n",
    "                   \"Indicator\":[\"% of total linear rearing habitat accessible\",\"Current Status:\"],\n",
    "                   \"Poor\":[\"<50%\",\" \"],\n",
    "                   \"Fair\":[\"51-75%\",\"70%\"],\n",
    "                   \"Good\":[\"76-90%\",\" \"],\n",
    "                   \"Very Good\":[\">90%\", \" \"]\n",
    "                   })\n",
    "\n",
    "def highlighttab7b(val):\n",
    "    red = '#ff0000;'\n",
    "    yellow = '#ffff00;'\n",
    "    lgreen = '#92d050;'\n",
    "    dgreen = '#03853e;'\n",
    "\n",
    "    if val==\"<50%\" : color = red\n",
    "    elif val[0:].isdigit() and int(val) < 50 : color = red\n",
    "    elif val==\"51-75%\"  : color = yellow\n",
    "    elif val==\"70%\"  : color = yellow\n",
    "    elif val[0:].isdigit() and (int(val) >= 51 and int(val) < 75) : color = yellow\n",
    "    elif val==\"76-90%\"  : color = lgreen\n",
    "    elif val[0:].isdigit() and (int(val) >= 76 and int(val) < 90) : color = lgreen \n",
    "    elif val ==\">90%\": color = dgreen\n",
    "    elif val[0:].isdigit() and int(val) >= 90 : color = dgreen \n",
    "    elif val == \"Current Status:\" : return \"font-weight: bold\"\n",
    "    else: color = 'white'\n",
    "    return 'background-color: %s' % color\n",
    "\n",
    "data = df.style.applymap(highlighttab7b).hide_index()\n",
    "\n",
    "data.set_table_styles(\n",
    "[dict(selector = 'th', props=[('text-align', 'left')])])\n",
    "\n",
    "glue(\"Table7\", data)\n"
   ]
  },
  {
   "attachments": {},
   "cell_type": "markdown",
   "metadata": {},
   "source": [
    "**Comments:**  Indicator rating definitions are based on the consensus decisions of the planning team. The current status is based on the CWF Barrier Prioritization Model output, which is current as of October 2022. "
   ]
  },
  {
   "attachments": {},
   "cell_type": "markdown",
   "metadata": {},
   "source": [
    "```{glue:figure} Table7\n",
    ":name: \"table7\"\n",
    "\n",
    "*Connectivity status assessment for spawning (a) and rearing (b) habitat in the Bulkley River watershed. The two KEAs - Accessible Spawning Habitat and Accessible Rearing Habitat - are evaluated by dividing the length of linear habitat (of each type) that is currently accessible to target species by the total length of all linear habitat (of each type) in the watershed.*\n",
    "```"
   ]
  },
  {
   "cell_type": "markdown",
   "metadata": {},
   "source": [
    "# Barrier Types"
   ]
  },
  {
   "attachments": {},
   "cell_type": "markdown",
   "metadata": {},
   "source": [
    "```{include} ../content/ecoattributes-md.md\n",
    ":start-after: \"# Barrier Types\"\n",
    ":end-before: \"### Small Dams (<3 m height)\"\n",
    "```"
   ]
  },
  {
   "cell_type": "code",
   "execution_count": 5,
   "metadata": {
    "tags": [
     "remove-input",
     "remove-output"
    ]
   },
   "outputs": [
    {
     "data": {
      "text/html": [
       "<style  type=\"text/css\" >\n",
       "    #T_09cf7c1c_9674_11ed_bf6a_b445066bfd9b th {\n",
       "          text-align: left;\n",
       "    }#T_09cf7c1c_9674_11ed_bf6a_b445066bfd9brow0_col0,#T_09cf7c1c_9674_11ed_bf6a_b445066bfd9brow1_col0,#T_09cf7c1c_9674_11ed_bf6a_b445066bfd9brow2_col0,#T_09cf7c1c_9674_11ed_bf6a_b445066bfd9brow3_col0,#T_09cf7c1c_9674_11ed_bf6a_b445066bfd9brow4_col0,#T_09cf7c1c_9674_11ed_bf6a_b445066bfd9brow5_col0,#T_09cf7c1c_9674_11ed_bf6a_b445066bfd9brow6_col0{\n",
       "            background-color:  white;\n",
       "        }#T_09cf7c1c_9674_11ed_bf6a_b445066bfd9brow0_col1,#T_09cf7c1c_9674_11ed_bf6a_b445066bfd9brow0_col2,#T_09cf7c1c_9674_11ed_bf6a_b445066bfd9brow2_col2,#T_09cf7c1c_9674_11ed_bf6a_b445066bfd9brow4_col2,#T_09cf7c1c_9674_11ed_bf6a_b445066bfd9brow5_col2{\n",
       "            background-color:  #ff0000;\n",
       "        }#T_09cf7c1c_9674_11ed_bf6a_b445066bfd9brow0_col3,#T_09cf7c1c_9674_11ed_bf6a_b445066bfd9brow1_col3,#T_09cf7c1c_9674_11ed_bf6a_b445066bfd9brow2_col1,#T_09cf7c1c_9674_11ed_bf6a_b445066bfd9brow2_col3,#T_09cf7c1c_9674_11ed_bf6a_b445066bfd9brow3_col1,#T_09cf7c1c_9674_11ed_bf6a_b445066bfd9brow3_col3,#T_09cf7c1c_9674_11ed_bf6a_b445066bfd9brow5_col3{\n",
       "            background-color:  #92d050;\n",
       "        }#T_09cf7c1c_9674_11ed_bf6a_b445066bfd9brow0_col4,#T_09cf7c1c_9674_11ed_bf6a_b445066bfd9brow1_col4{\n",
       "            font-weight:  bold;\n",
       "            background-color:  #ffff00;\n",
       "        }#T_09cf7c1c_9674_11ed_bf6a_b445066bfd9brow1_col1,#T_09cf7c1c_9674_11ed_bf6a_b445066bfd9brow1_col2,#T_09cf7c1c_9674_11ed_bf6a_b445066bfd9brow4_col1,#T_09cf7c1c_9674_11ed_bf6a_b445066bfd9brow5_col1,#T_09cf7c1c_9674_11ed_bf6a_b445066bfd9brow6_col1,#T_09cf7c1c_9674_11ed_bf6a_b445066bfd9brow6_col2,#T_09cf7c1c_9674_11ed_bf6a_b445066bfd9brow6_col3{\n",
       "            background-color:  #03853e;\n",
       "        }#T_09cf7c1c_9674_11ed_bf6a_b445066bfd9brow2_col4,#T_09cf7c1c_9674_11ed_bf6a_b445066bfd9brow3_col4{\n",
       "            font-weight:  bold;\n",
       "            background-color:  #92d050;\n",
       "        }#T_09cf7c1c_9674_11ed_bf6a_b445066bfd9brow3_col2,#T_09cf7c1c_9674_11ed_bf6a_b445066bfd9brow4_col3{\n",
       "            background-color:  #ffff00;\n",
       "        }#T_09cf7c1c_9674_11ed_bf6a_b445066bfd9brow4_col4,#T_09cf7c1c_9674_11ed_bf6a_b445066bfd9brow5_col4,#T_09cf7c1c_9674_11ed_bf6a_b445066bfd9brow6_col4{\n",
       "            font-weight:  bold;\n",
       "            background-color:  #03853e;\n",
       "        }</style><table id=\"T_09cf7c1c_9674_11ed_bf6a_b445066bfd9b\" ><thead>    <tr>        <th class=\"col_heading level0 col0\" >Barrier Types</th>        <th class=\"col_heading level0 col1\" >Extent</th>        <th class=\"col_heading level0 col2\" >Severity</th>        <th class=\"col_heading level0 col3\" >Irreversibility</th>        <th class=\"col_heading level0 col4\" >Overall Threat Rating:</th>    </tr></thead><tbody>\n",
       "                <tr>\n",
       "                                <td id=\"T_09cf7c1c_9674_11ed_bf6a_b445066bfd9brow0_col0\" class=\"data row0 col0\" >Road-Stream Crossings</td>\n",
       "                        <td id=\"T_09cf7c1c_9674_11ed_bf6a_b445066bfd9brow0_col1\" class=\"data row0 col1\" >Very High</td>\n",
       "                        <td id=\"T_09cf7c1c_9674_11ed_bf6a_b445066bfd9brow0_col2\" class=\"data row0 col2\" >Very High</td>\n",
       "                        <td id=\"T_09cf7c1c_9674_11ed_bf6a_b445066bfd9brow0_col3\" class=\"data row0 col3\" >Medium</td>\n",
       "                        <td id=\"T_09cf7c1c_9674_11ed_bf6a_b445066bfd9brow0_col4\" class=\"data row0 col4\" >High</td>\n",
       "            </tr>\n",
       "            <tr>\n",
       "                                <td id=\"T_09cf7c1c_9674_11ed_bf6a_b445066bfd9brow1_col0\" class=\"data row1 col0\" >Rail-Stream Crossings</td>\n",
       "                        <td id=\"T_09cf7c1c_9674_11ed_bf6a_b445066bfd9brow1_col1\" class=\"data row1 col1\" >Low</td>\n",
       "                        <td id=\"T_09cf7c1c_9674_11ed_bf6a_b445066bfd9brow1_col2\" class=\"data row1 col2\" >Low</td>\n",
       "                        <td id=\"T_09cf7c1c_9674_11ed_bf6a_b445066bfd9brow1_col3\" class=\"data row1 col3\" >Medium</td>\n",
       "                        <td id=\"T_09cf7c1c_9674_11ed_bf6a_b445066bfd9brow1_col4\" class=\"data row1 col4\" >High</td>\n",
       "            </tr>\n",
       "            <tr>\n",
       "                                <td id=\"T_09cf7c1c_9674_11ed_bf6a_b445066bfd9brow2_col0\" class=\"data row2 col0\" >Lateral Barriers</td>\n",
       "                        <td id=\"T_09cf7c1c_9674_11ed_bf6a_b445066bfd9brow2_col1\" class=\"data row2 col1\" >Medium</td>\n",
       "                        <td id=\"T_09cf7c1c_9674_11ed_bf6a_b445066bfd9brow2_col2\" class=\"data row2 col2\" >Very High</td>\n",
       "                        <td id=\"T_09cf7c1c_9674_11ed_bf6a_b445066bfd9brow2_col3\" class=\"data row2 col3\" >Medium</td>\n",
       "                        <td id=\"T_09cf7c1c_9674_11ed_bf6a_b445066bfd9brow2_col4\" class=\"data row2 col4\" >Medium</td>\n",
       "            </tr>\n",
       "            <tr>\n",
       "                                <td id=\"T_09cf7c1c_9674_11ed_bf6a_b445066bfd9brow3_col0\" class=\"data row3 col0\" >Natural Barriers</td>\n",
       "                        <td id=\"T_09cf7c1c_9674_11ed_bf6a_b445066bfd9brow3_col1\" class=\"data row3 col1\" >Medium</td>\n",
       "                        <td id=\"T_09cf7c1c_9674_11ed_bf6a_b445066bfd9brow3_col2\" class=\"data row3 col2\" >High</td>\n",
       "                        <td id=\"T_09cf7c1c_9674_11ed_bf6a_b445066bfd9brow3_col3\" class=\"data row3 col3\" >Medium</td>\n",
       "                        <td id=\"T_09cf7c1c_9674_11ed_bf6a_b445066bfd9brow3_col4\" class=\"data row3 col4\" >Medium</td>\n",
       "            </tr>\n",
       "            <tr>\n",
       "                                <td id=\"T_09cf7c1c_9674_11ed_bf6a_b445066bfd9brow4_col0\" class=\"data row4 col0\" >Large Dams(<3m height)</td>\n",
       "                        <td id=\"T_09cf7c1c_9674_11ed_bf6a_b445066bfd9brow4_col1\" class=\"data row4 col1\" >Low</td>\n",
       "                        <td id=\"T_09cf7c1c_9674_11ed_bf6a_b445066bfd9brow4_col2\" class=\"data row4 col2\" >Very High</td>\n",
       "                        <td id=\"T_09cf7c1c_9674_11ed_bf6a_b445066bfd9brow4_col3\" class=\"data row4 col3\" >High</td>\n",
       "                        <td id=\"T_09cf7c1c_9674_11ed_bf6a_b445066bfd9brow4_col4\" class=\"data row4 col4\" >Low</td>\n",
       "            </tr>\n",
       "            <tr>\n",
       "                                <td id=\"T_09cf7c1c_9674_11ed_bf6a_b445066bfd9brow5_col0\" class=\"data row5 col0\" >Small Dams(<3m height)</td>\n",
       "                        <td id=\"T_09cf7c1c_9674_11ed_bf6a_b445066bfd9brow5_col1\" class=\"data row5 col1\" >Low</td>\n",
       "                        <td id=\"T_09cf7c1c_9674_11ed_bf6a_b445066bfd9brow5_col2\" class=\"data row5 col2\" >Very High</td>\n",
       "                        <td id=\"T_09cf7c1c_9674_11ed_bf6a_b445066bfd9brow5_col3\" class=\"data row5 col3\" >Medium</td>\n",
       "                        <td id=\"T_09cf7c1c_9674_11ed_bf6a_b445066bfd9brow5_col4\" class=\"data row5 col4\" >Low</td>\n",
       "            </tr>\n",
       "            <tr>\n",
       "                                <td id=\"T_09cf7c1c_9674_11ed_bf6a_b445066bfd9brow6_col0\" class=\"data row6 col0\" >Trail-stream Crossings</td>\n",
       "                        <td id=\"T_09cf7c1c_9674_11ed_bf6a_b445066bfd9brow6_col1\" class=\"data row6 col1\" >Low</td>\n",
       "                        <td id=\"T_09cf7c1c_9674_11ed_bf6a_b445066bfd9brow6_col2\" class=\"data row6 col2\" >Low</td>\n",
       "                        <td id=\"T_09cf7c1c_9674_11ed_bf6a_b445066bfd9brow6_col3\" class=\"data row6 col3\" >Low</td>\n",
       "                        <td id=\"T_09cf7c1c_9674_11ed_bf6a_b445066bfd9brow6_col4\" class=\"data row6 col4\" >Low</td>\n",
       "            </tr>\n",
       "    </tbody></table>"
      ],
      "text/plain": [
       "<pandas.io.formats.style.Styler at 0x14a39619488>"
      ]
     },
     "metadata": {
      "scrapbook": {
       "mime_prefix": "",
       "name": "Table8"
      }
     },
     "output_type": "display_data"
    }
   ],
   "source": [
    "from ipywidgets import *\n",
    "import pandas as pd\n",
    "import warnings\n",
    "\n",
    "warnings.filterwarnings('ignore')\n",
    "\n",
    "#condition\n",
    "def condition(pct):\n",
    "    rating1 = \"\"\n",
    "    if pct < 30 : rating1 = \"Low\"\n",
    "    elif (pct >= 30) and (pct < 71) : rating1 = \"Medium\"\n",
    "    elif (pct >= 71) and (pct < 90) : rating1 = \"High\"\n",
    "    else : rating1 = \"Very High\"\n",
    "    return rating1\n",
    "\n",
    "#rating classifier\n",
    "def rating2(threat, barrier):\n",
    "    if threat == \"extent\":\n",
    "        if barrier == \"DAM\":\n",
    "            pct = barrier_extent(barrier)[1]\n",
    "            rating = condition(pct)\n",
    "        elif barrier == \"ROAD\":\n",
    "            pct = barrier_extent('ROAD, RESOURCE/OTHER')[1] + barrier_extent('ROAD, DEMOGRAPHIC')[1]\n",
    "            rating = condition(pct)\n",
    "        elif barrier == \"RAIL\":\n",
    "            pct = barrier_extent(barrier)[1]\n",
    "            rating = condition(pct)\n",
    "        elif barrier == \"TRAIL\":\n",
    "            pct = barrier_extent(barrier)[1]\n",
    "            rating = condition(pct)\n",
    "    elif threat == \"severity\":\n",
    "        if barrier == \"DAM\":\n",
    "            pct = barrier_severity(barrier)[2]\n",
    "            rating = condition(pct)\n",
    "        elif barrier == \"ROAD\":\n",
    "            pct = barrier_severity('ROAD, RESOURCE/OTHER')[2] + barrier_severity('ROAD, DEMOGRAPHIC')[2]\n",
    "            rating = condition(pct)\n",
    "        elif barrier == \"RAIL\":\n",
    "            pct = barrier_severity(barrier)[1]      \n",
    "            rating = condition(pct)\n",
    "        elif barrier == \"TRAIL\":\n",
    "            pct = barrier_severity(barrier)[1]      \n",
    "            rating = condition(pct)\n",
    "    return rating\n",
    "            \n",
    "\n",
    "        \n",
    "\n",
    "\n",
    "\n",
    "\n",
    "df = pd.DataFrame({\"Barrier Types\":[\"Road-Stream Crossings\",\"Rail-Stream Crossings\",\"Lateral Barriers\",\"Natural Barriers\",\"Large Dams(<3m height)\",\"Small Dams(<3m height)\",\"Trail-stream Crossings\"],\n",
    "                   \"Extent\":[rating2(\"extent\", \"ROAD\"),rating2(\"extent\", \"RAIL\"),\"Medium\",\"Medium\",rating2(\"extent\", \"DAM\"), \"Low\", rating2(\"extent\", \"TRAIL\")],\n",
    "                   \"Severity\":[rating2(\"severity\", \"ROAD\"),rating2(\"severity\", \"RAIL\"),\"Very High\",\"High\",rating2(\"severity\", \"DAM\"), rating2(\"severity\", \"DAM\"), rating2(\"severity\", \"TRAIL\")],\n",
    "                   \"Irreversibility\":[\"Medium\",\"Medium\",\"Medium\",\"Medium\",\"High\", \"Medium\", \"Low\"],\n",
    "                   \"Overall Threat Rating:\":[\"High\",\"High\",\"Medium\",\"Medium\", \"Low\", \"Low\", \"Low\"]\n",
    "                   }).style.set_properties(subset=[\"Overall Threat Rating:\"], **{'font-weight': 'bold'})\n",
    "\n",
    "def highlight(val):\n",
    "    red = '#ff0000;'\n",
    "    yellow = '#ffff00;'\n",
    "    lgreen = '#92d050;'\n",
    "    dgreen = '#03853e;'\n",
    "\n",
    "    if val==\"Very High\": color = red\n",
    "    elif val==\"High\": color = yellow\n",
    "    elif val==\"Medium\": color = lgreen\n",
    "    elif val ==\"Low\": color = dgreen\n",
    "    else: color = 'white'\n",
    "    return 'background-color: %s' % color\n",
    "\n",
    "#df = df.style.set_properties(subset=[\"Overall Threat Rating\"], **{'font-weight': 'bold'})\n",
    "\n",
    "data = df.applymap(highlight).hide_index()\n",
    "\n",
    "data.set_table_styles(\n",
    "[dict(selector = 'th', props=[('text-align', 'left')])])\n",
    "\n",
    "glue(\"Table8\", data)\n",
    "\n",
    "\n"
   ]
  },
  {
   "attachments": {},
   "cell_type": "markdown",
   "metadata": {},
   "source": [
    "```{glue:figure} Table8\n",
    ":name: \"table8\"\n",
    "\n",
    "*Barrier Types in the Bulkley River watershed and barrier rating assessment results. For each barrier type listed, \"Extent refers to the proportion of anadromous salmonid habitat that is being blocked by that barrier type, \"Severity\" is the proportion of structures for each barrier type that are known to block passage for target species based on field assessments, and \"Irreversibility\" is the degree to which the effects of a barrier type can be reversed and connectivity restored. The amount of habitat blocked used in this exercise is a representation of total amount of combined spawning and rearing habitat.*\n",
    "```"
   ]
  },
  {
   "cell_type": "code",
   "execution_count": 6,
   "metadata": {
    "tags": [
     "remove-input",
     "remove-output"
    ]
   },
   "outputs": [
    {
     "data": {
      "text/plain": [
       "10.65"
      ]
     },
     "metadata": {
      "scrapbook": {
       "mime_prefix": "",
       "name": "dam_km"
      }
     },
     "output_type": "display_data"
    },
    {
     "data": {
      "text/plain": [
       "1.65"
      ]
     },
     "metadata": {
      "scrapbook": {
       "mime_prefix": "",
       "name": "dam_pct"
      }
     },
     "output_type": "display_data"
    },
    {
     "data": {
      "text/plain": [
       "24"
      ]
     },
     "metadata": {
      "scrapbook": {
       "mime_prefix": "",
       "name": "total_barrier"
      }
     },
     "output_type": "display_data"
    },
    {
     "data": {
      "text/plain": [
       "36.04"
      ]
     },
     "metadata": {
      "scrapbook": {
       "mime_prefix": "",
       "name": "rail_km"
      }
     },
     "output_type": "display_data"
    },
    {
     "data": {
      "text/plain": [
       "5.58"
      ]
     },
     "metadata": {
      "scrapbook": {
       "mime_prefix": "",
       "name": "rail_pct"
      }
     },
     "output_type": "display_data"
    },
    {
     "data": {
      "text/plain": [
       "19"
      ]
     },
     "metadata": {
      "scrapbook": {
       "mime_prefix": "",
       "name": "rail_total_barrier"
      }
     },
     "output_type": "display_data"
    },
    {
     "data": {
      "text/plain": [
       "58"
      ]
     },
     "metadata": {
      "scrapbook": {
       "mime_prefix": "",
       "name": "rail_sev"
      }
     },
     "output_type": "display_data"
    }
   ],
   "source": [
    "import requests\n",
    "import json\n",
    "import pandas\n",
    "from myst_nb import glue\n",
    "\n",
    "\n",
    "\n",
    "#glue class for variables to allow embedding in markdown\n",
    "glue(\"dam_km\", barrier_extent('DAM')[0])\n",
    "glue(\"dam_pct\", barrier_extent('DAM')[1])\n",
    "glue(\"total_barrier\", barrier_severity('DAM')[1])\n",
    "\n",
    "#glue class for rail-stream crossings\n",
    "glue(\"rail_km\", barrier_extent('RAIL')[0])\n",
    "glue(\"rail_pct\", barrier_extent('RAIL')[1])\n",
    "glue(\"rail_total_barrier\", barrier_severity('RAIL')[1])\n",
    "glue(\"rail_sev\", round(barrier_severity('RAIL')[2]))\n"
   ]
  },
  {
   "cell_type": "code",
   "execution_count": 7,
   "metadata": {
    "tags": [
     "remove-input",
     "remove-output"
    ]
   },
   "outputs": [
    {
     "data": {
      "text/plain": [
       "357.44"
      ]
     },
     "metadata": {
      "scrapbook": {
       "mime_prefix": "",
       "name": "resource_km"
      }
     },
     "output_type": "display_data"
    },
    {
     "data": {
      "text/plain": [
       "55"
      ]
     },
     "metadata": {
      "scrapbook": {
       "mime_prefix": "",
       "name": "resource_pct"
      }
     },
     "output_type": "display_data"
    },
    {
     "data": {
      "text/plain": [
       "241.89000000000001"
      ]
     },
     "metadata": {
      "scrapbook": {
       "mime_prefix": "",
       "name": "demo_km"
      }
     },
     "output_type": "display_data"
    },
    {
     "data": {
      "text/plain": [
       "37"
      ]
     },
     "metadata": {
      "scrapbook": {
       "mime_prefix": "",
       "name": "demo_pct"
      }
     },
     "output_type": "display_data"
    },
    {
     "data": {
      "text/plain": [
       "61"
      ]
     },
     "metadata": {
      "scrapbook": {
       "mime_prefix": "",
       "name": "resource_sev"
      }
     },
     "output_type": "display_data"
    },
    {
     "data": {
      "text/plain": [
       "81"
      ]
     },
     "metadata": {
      "scrapbook": {
       "mime_prefix": "",
       "name": "demo_sev"
      }
     },
     "output_type": "display_data"
    },
    {
     "data": {
      "text/plain": [
       "973"
      ]
     },
     "metadata": {
      "scrapbook": {
       "mime_prefix": "",
       "name": "sum"
      }
     },
     "output_type": "display_data"
    }
   ],
   "source": [
    "#glue class for variables to allow embedding in markdown\n",
    "glue(\"resource_km\", barrier_extent('ROAD, RESOURCE/OTHER')[0])\n",
    "glue(\"resource_pct\", round(barrier_extent('ROAD, RESOURCE/OTHER')[1]))\n",
    "glue(\"demo_km\", barrier_extent('ROAD, DEMOGRAPHIC')[0])\n",
    "glue(\"demo_pct\", round(barrier_extent('ROAD, DEMOGRAPHIC')[1]))\n",
    "glue(\"resource_sev\", round(barrier_severity('ROAD, RESOURCE/OTHER')[2]))\n",
    "glue(\"demo_sev\", round(barrier_severity('ROAD, DEMOGRAPHIC')[2]))\n",
    "\n",
    "sum_road = (barrier_severity('ROAD, RESOURCE/OTHER')[1], barrier_severity('ROAD, DEMOGRAPHIC')[1])\n",
    "\n",
    "\n",
    "glue(\"sum\", sum(sum_road))"
   ]
  },
  {
   "attachments": {},
   "cell_type": "markdown",
   "metadata": {},
   "source": [
    "```{include} ../content/ecoattributes-md.md\n",
    ":start-after: \"### Small Dams (<3 m height)\"\n",
    ":end-before: \"# Goals\"\n",
    "```"
   ]
  },
  {
   "attachments": {},
   "cell_type": "markdown",
   "metadata": {},
   "source": [
    "\n",
    "\n",
    "```{figure} ../figures/figure3.png\n",
    "---\n",
    "height: 400px\n",
    "width: 1000px\n",
    "name: directive-fig\n",
    "---\n",
    "*Situation analysis developed by the planning team to identify factors that contribute to fragmentation (orange boxes), biophysical results (brown boxes), and potential strategies/actions to improve connectivity (yellow hexagons) for target species in the Bulkley River watershed.*\n",
    "```"
   ]
  },
  {
   "cell_type": "markdown",
   "metadata": {},
   "source": [
    "# Goals\n"
   ]
  },
  {
   "cell_type": "code",
   "execution_count": 8,
   "metadata": {
    "tags": [
     "remove-input",
     "remove-output"
    ]
   },
   "outputs": [
    {
     "data": {
      "text/html": [
       "<style  type=\"text/css\" >\n",
       "    #T_0fc6b936_9674_11ed_bcc2_b445066bfd9b th {\n",
       "          text-align: left;\n",
       "    }#T_0fc6b936_9674_11ed_bcc2_b445066bfd9brow0_col0,#T_0fc6b936_9674_11ed_bcc2_b445066bfd9brow0_col1,#T_0fc6b936_9674_11ed_bcc2_b445066bfd9brow1_col0,#T_0fc6b936_9674_11ed_bcc2_b445066bfd9brow1_col1{\n",
       "            text-align:  left;\n",
       "        }</style><table id=\"T_0fc6b936_9674_11ed_bcc2_b445066bfd9b\" ><thead>    <tr>        <th class=\"col_heading level0 col0\" >Goal #</th>        <th class=\"col_heading level0 col1\" >Goal</th>    </tr></thead><tbody>\n",
       "                <tr>\n",
       "                                <td id=\"T_0fc6b936_9674_11ed_bcc2_b445066bfd9brow0_col0\" class=\"data row0 col0\" >1</td>\n",
       "                        <td id=\"T_0fc6b936_9674_11ed_bcc2_b445066bfd9brow0_col1\" class=\"data row0 col1\" >By 2031, the percent (%) of total linear spawning habitat accessible to anadromous salmonids will increase from 88% to 95% within the Bulkley River watershed (i.e., reconnect at least 86 km of spawning habitat).</td>\n",
       "            </tr>\n",
       "            <tr>\n",
       "                                <td id=\"T_0fc6b936_9674_11ed_bcc2_b445066bfd9brow1_col0\" class=\"data row1 col0\" >2</td>\n",
       "                        <td id=\"T_0fc6b936_9674_11ed_bcc2_b445066bfd9brow1_col1\" class=\"data row1 col1\" >By 2031, the percent (%) of total linear rearing habitat accessible to anadromous salmonids will increase from 70% to 80% within the Bulkley River watershed (i.e., reconnect at least 211 km of rearing habitat).</td>\n",
       "            </tr>\n",
       "    </tbody></table>"
      ],
      "text/plain": [
       "<pandas.io.formats.style.Styler at 0x14a3960b288>"
      ]
     },
     "metadata": {
      "scrapbook": {
       "mime_prefix": "",
       "name": "Table9"
      }
     },
     "output_type": "display_data"
    }
   ],
   "source": [
    "#creating table 7\n",
    "import warnings\n",
    "\n",
    "warnings.filterwarnings('ignore')\n",
    "import pandas as pd\n",
    "import numpy as np\n",
    "\n",
    "df = pd.DataFrame({\"Goal #\": [1,2],\n",
    "                   \"Goal\": [\"By 2031, the percent (%) of total linear spawning habitat accessible to anadromous salmonids will increase from 88% to 95% within the Bulkley River watershed (i.e., reconnect at least 86 km of spawning habitat).\",\n",
    "                            \"By 2031, the percent (%) of total linear rearing habitat accessible to anadromous salmonids will increase from 70% to 80% within the Bulkley River watershed (i.e., reconnect at least 211 km of rearing habitat).\"]\n",
    "                    })\n",
    "\n",
    "data = df.style.hide_index().set_properties(**{'text-align': 'left'})\n",
    "\n",
    "data.set_table_styles(\n",
    "[dict(selector = 'th', props=[('text-align', 'left')])])\n",
    "\n",
    "glue(\"Table9\", data)\n"
   ]
  },
  {
   "attachments": {},
   "cell_type": "markdown",
   "metadata": {},
   "source": [
    "```{glue:figure} Table9\n",
    ":name: \"table9\"\n",
    "\n",
    "*Goals to improve spawning (1) and rearing (2) habitat connectivity for target species in the Bulkley River watershed over the lifespan of the WCRP (2021-2031). The goals were established through discussions with the planning team and represent the resulting desired state of connectivity in the watershed. The goals are subject to change as more information and data are collected over the course of the plan timeline (e.g., the current connectivity status is updated based on barrier field assessments).*\n",
    "```"
   ]
  },
  {
   "attachments": {},
   "cell_type": "markdown",
   "metadata": {},
   "source": [
    "```{include} ../content/ecoattributes-md.md\n",
    ":start-after: \"# Goals\"\n",
    ":end-before: \"## Strategy 1: Barrier Remediation\"\n",
    "```"
   ]
  },
  {
   "cell_type": "code",
   "execution_count": 9,
   "metadata": {
    "tags": [
     "remove-input"
    ]
   },
   "outputs": [
    {
     "data": {
      "text/html": [
       "<style  type=\"text/css\" >\n",
       "    #T_0fd2ad6e_9674_11ed_a844_b445066bfd9b th {\n",
       "          text-align: left;\n",
       "    }#T_0fd2ad6e_9674_11ed_a844_b445066bfd9brow0_col0,#T_0fd2ad6e_9674_11ed_a844_b445066bfd9brow0_col1,#T_0fd2ad6e_9674_11ed_a844_b445066bfd9brow0_col2,#T_0fd2ad6e_9674_11ed_a844_b445066bfd9brow1_col0,#T_0fd2ad6e_9674_11ed_a844_b445066bfd9brow1_col1,#T_0fd2ad6e_9674_11ed_a844_b445066bfd9brow1_col2,#T_0fd2ad6e_9674_11ed_a844_b445066bfd9brow2_col0,#T_0fd2ad6e_9674_11ed_a844_b445066bfd9brow2_col1,#T_0fd2ad6e_9674_11ed_a844_b445066bfd9brow2_col2,#T_0fd2ad6e_9674_11ed_a844_b445066bfd9brow3_col0,#T_0fd2ad6e_9674_11ed_a844_b445066bfd9brow3_col1,#T_0fd2ad6e_9674_11ed_a844_b445066bfd9brow3_col2,#T_0fd2ad6e_9674_11ed_a844_b445066bfd9brow4_col0,#T_0fd2ad6e_9674_11ed_a844_b445066bfd9brow4_col1,#T_0fd2ad6e_9674_11ed_a844_b445066bfd9brow4_col2,#T_0fd2ad6e_9674_11ed_a844_b445066bfd9brow5_col0,#T_0fd2ad6e_9674_11ed_a844_b445066bfd9brow5_col1,#T_0fd2ad6e_9674_11ed_a844_b445066bfd9brow5_col2,#T_0fd2ad6e_9674_11ed_a844_b445066bfd9brow6_col0,#T_0fd2ad6e_9674_11ed_a844_b445066bfd9brow6_col1,#T_0fd2ad6e_9674_11ed_a844_b445066bfd9brow6_col2,#T_0fd2ad6e_9674_11ed_a844_b445066bfd9brow7_col0,#T_0fd2ad6e_9674_11ed_a844_b445066bfd9brow7_col1,#T_0fd2ad6e_9674_11ed_a844_b445066bfd9brow7_col2,#T_0fd2ad6e_9674_11ed_a844_b445066bfd9brow8_col0,#T_0fd2ad6e_9674_11ed_a844_b445066bfd9brow8_col1,#T_0fd2ad6e_9674_11ed_a844_b445066bfd9brow8_col2{\n",
       "            background-color:  white;\n",
       "            text-align:  left;\n",
       "        }#T_0fd2ad6e_9674_11ed_a844_b445066bfd9brow0_col3,#T_0fd2ad6e_9674_11ed_a844_b445066bfd9brow0_col5,#T_0fd2ad6e_9674_11ed_a844_b445066bfd9brow1_col3,#T_0fd2ad6e_9674_11ed_a844_b445066bfd9brow1_col5,#T_0fd2ad6e_9674_11ed_a844_b445066bfd9brow4_col4,#T_0fd2ad6e_9674_11ed_a844_b445066bfd9brow4_col5,#T_0fd2ad6e_9674_11ed_a844_b445066bfd9brow5_col4,#T_0fd2ad6e_9674_11ed_a844_b445066bfd9brow5_col5,#T_0fd2ad6e_9674_11ed_a844_b445066bfd9brow7_col4,#T_0fd2ad6e_9674_11ed_a844_b445066bfd9brow7_col5,#T_0fd2ad6e_9674_11ed_a844_b445066bfd9brow8_col3,#T_0fd2ad6e_9674_11ed_a844_b445066bfd9brow8_col5{\n",
       "            background-color:  #ffff00;\n",
       "            text-align:  left;\n",
       "        }#T_0fd2ad6e_9674_11ed_a844_b445066bfd9brow0_col4,#T_0fd2ad6e_9674_11ed_a844_b445066bfd9brow1_col4,#T_0fd2ad6e_9674_11ed_a844_b445066bfd9brow3_col4,#T_0fd2ad6e_9674_11ed_a844_b445066bfd9brow4_col3,#T_0fd2ad6e_9674_11ed_a844_b445066bfd9brow5_col3,#T_0fd2ad6e_9674_11ed_a844_b445066bfd9brow6_col3,#T_0fd2ad6e_9674_11ed_a844_b445066bfd9brow6_col4,#T_0fd2ad6e_9674_11ed_a844_b445066bfd9brow6_col5,#T_0fd2ad6e_9674_11ed_a844_b445066bfd9brow7_col3{\n",
       "            background-color:  #92d050;\n",
       "            text-align:  left;\n",
       "        }#T_0fd2ad6e_9674_11ed_a844_b445066bfd9brow2_col3,#T_0fd2ad6e_9674_11ed_a844_b445066bfd9brow2_col4,#T_0fd2ad6e_9674_11ed_a844_b445066bfd9brow2_col5,#T_0fd2ad6e_9674_11ed_a844_b445066bfd9brow3_col3,#T_0fd2ad6e_9674_11ed_a844_b445066bfd9brow3_col5,#T_0fd2ad6e_9674_11ed_a844_b445066bfd9brow8_col4{\n",
       "            background-color:  #03853e;\n",
       "            text-align:  left;\n",
       "        }</style><table id=\"T_0fd2ad6e_9674_11ed_a844_b445066bfd9b\" ><thead>    <tr>        <th class=\"col_heading level0 col0\" >ID</th>        <th class=\"col_heading level0 col1\" >Actions</th>        <th class=\"col_heading level0 col2\" >Details</th>        <th class=\"col_heading level0 col3\" >Feasibility</th>        <th class=\"col_heading level0 col4\" >Impact</th>        <th class=\"col_heading level0 col5\" >Effectiveness</th>    </tr></thead><tbody>\n",
       "                <tr>\n",
       "                                <td id=\"T_0fd2ad6e_9674_11ed_a844_b445066bfd9brow0_col0\" class=\"data row0 col0\" >1.1</td>\n",
       "                        <td id=\"T_0fd2ad6e_9674_11ed_a844_b445066bfd9brow0_col1\" class=\"data row0 col1\" >\r\n",
       "  Remove and decommission barriers\r\n",
       "  </td>\n",
       "                        <td id=\"T_0fd2ad6e_9674_11ed_a844_b445066bfd9brow0_col2\" class=\"data row0 col2\" >\r\n",
       "  This action represents some projects that would be led by the\r\n",
       "  planning team with conservation funds (e.g., orphaned barriers or those owned\r\n",
       "  by individuals), while other remediation projects would be the responsibility\r\n",
       "  of the barrier owner. Industry will have to be engaged to successfully\r\n",
       "  implement this intervention.\r\n",
       "  </td>\n",
       "                        <td id=\"T_0fd2ad6e_9674_11ed_a844_b445066bfd9brow0_col3\" class=\"data row0 col3\" >Medium</td>\n",
       "                        <td id=\"T_0fd2ad6e_9674_11ed_a844_b445066bfd9brow0_col4\" class=\"data row0 col4\" >Very high</td>\n",
       "                        <td id=\"T_0fd2ad6e_9674_11ed_a844_b445066bfd9brow0_col5\" class=\"data row0 col5\" >Need more information</td>\n",
       "            </tr>\n",
       "            <tr>\n",
       "                                <td id=\"T_0fd2ad6e_9674_11ed_a844_b445066bfd9brow1_col0\" class=\"data row1 col0\" >1.2</td>\n",
       "                        <td id=\"T_0fd2ad6e_9674_11ed_a844_b445066bfd9brow1_col1\" class=\"data row1 col1\" >\r\n",
       "  Upgrade and resize crossings\r\n",
       "  </td>\n",
       "                        <td id=\"T_0fd2ad6e_9674_11ed_a844_b445066bfd9brow1_col2\" class=\"data row1 col2\" >\r\n",
       "  Examples include installing larger culverts, replacing closed- with\r\n",
       "  open-bottom culverts, or upgrading from culverts to bridges. Important to\r\n",
       "  engage with the agriculture community for some crossing upgrades.\r\n",
       "  </td>\n",
       "                        <td id=\"T_0fd2ad6e_9674_11ed_a844_b445066bfd9brow1_col3\" class=\"data row1 col3\" >Medium</td>\n",
       "                        <td id=\"T_0fd2ad6e_9674_11ed_a844_b445066bfd9brow1_col4\" class=\"data row1 col4\" >Very high</td>\n",
       "                        <td id=\"T_0fd2ad6e_9674_11ed_a844_b445066bfd9brow1_col5\" class=\"data row1 col5\" >Need more information</td>\n",
       "            </tr>\n",
       "            <tr>\n",
       "                                <td id=\"T_0fd2ad6e_9674_11ed_a844_b445066bfd9brow2_col0\" class=\"data row2 col0\" >1.3</td>\n",
       "                        <td id=\"T_0fd2ad6e_9674_11ed_a844_b445066bfd9brow2_col1\" class=\"data row2 col1\" >\r\n",
       "  Install temporary\r\n",
       "  mitigation \r\n",
       "  </td>\n",
       "                        <td id=\"T_0fd2ad6e_9674_11ed_a844_b445066bfd9brow2_col2\" class=\"data row2 col2\" >\r\n",
       "  Examples may include installing fish ladders on barriers that cannot\r\n",
       "  be remediated; however, temporary mitigation does not replace the need\r\n",
       "  for barrier remediation and removal. There are specific cases where temporary\r\n",
       "  fixes are appropriate, but we will focus on long-term solutions wherever\r\n",
       "  possible.\r\n",
       "  </td>\n",
       "                        <td id=\"T_0fd2ad6e_9674_11ed_a844_b445066bfd9brow2_col3\" class=\"data row2 col3\" >High</td>\n",
       "                        <td id=\"T_0fd2ad6e_9674_11ed_a844_b445066bfd9brow2_col4\" class=\"data row2 col4\" >High</td>\n",
       "                        <td id=\"T_0fd2ad6e_9674_11ed_a844_b445066bfd9brow2_col5\" class=\"data row2 col5\" >Effective</td>\n",
       "            </tr>\n",
       "            <tr>\n",
       "                                <td id=\"T_0fd2ad6e_9674_11ed_a844_b445066bfd9brow3_col0\" class=\"data row3 col0\" >1.4</td>\n",
       "                        <td id=\"T_0fd2ad6e_9674_11ed_a844_b445066bfd9brow3_col1\" class=\"data row3 col1\" >\r\n",
       "  Raise funds to remediate barriers\r\n",
       "  </td>\n",
       "                        <td id=\"T_0fd2ad6e_9674_11ed_a844_b445066bfd9brow3_col2\" class=\"data row3 col2\" >\r\n",
       "  See “Funding Sources” for more information.\r\n",
       "  Consider inviting potential funders to a fundraising sub-committee.\r\n",
       "  </td>\n",
       "                        <td id=\"T_0fd2ad6e_9674_11ed_a844_b445066bfd9brow3_col3\" class=\"data row3 col3\" >High</td>\n",
       "                        <td id=\"T_0fd2ad6e_9674_11ed_a844_b445066bfd9brow3_col4\" class=\"data row3 col4\" >Very high</td>\n",
       "                        <td id=\"T_0fd2ad6e_9674_11ed_a844_b445066bfd9brow3_col5\" class=\"data row3 col5\" >Effective</td>\n",
       "            </tr>\n",
       "            <tr>\n",
       "                                <td id=\"T_0fd2ad6e_9674_11ed_a844_b445066bfd9brow4_col0\" class=\"data row4 col0\" >1.5</td>\n",
       "                        <td id=\"T_0fd2ad6e_9674_11ed_a844_b445066bfd9brow4_col1\" class=\"data row4 col1\" >\r\n",
       "  Request regulatory\r\n",
       "  action for non-compliant crossings\r\n",
       "  </td>\n",
       "                        <td id=\"T_0fd2ad6e_9674_11ed_a844_b445066bfd9brow4_col2\" class=\"data row4 col2\" >\r\n",
       "  Request provincial and/or federal agencies to require that targeted,\r\n",
       "  high-priority barriers be remediated. This should be a last resort after\r\n",
       "  working to engage barrier owners and ground-truthing the situation. It will\r\n",
       "  be important to identify obstacles to applying compliance and enforcement\r\n",
       "  measures in order to provide the appropriate information on these\r\n",
       "  opportunities.\r\n",
       "   \r\n",
       "  For example,\r\n",
       "  advocating for increased discretionary decisions to remove barriers to fish.\r\n",
       "  One action could be to submit barrier assessment data to show proof that\r\n",
       "  regulations are not being followed.\r\n",
       "  </td>\n",
       "                        <td id=\"T_0fd2ad6e_9674_11ed_a844_b445066bfd9brow4_col3\" class=\"data row4 col3\" >Very high</td>\n",
       "                        <td id=\"T_0fd2ad6e_9674_11ed_a844_b445066bfd9brow4_col4\" class=\"data row4 col4\" >Medium</td>\n",
       "                        <td id=\"T_0fd2ad6e_9674_11ed_a844_b445066bfd9brow4_col5\" class=\"data row4 col5\" >Need more information</td>\n",
       "            </tr>\n",
       "            <tr>\n",
       "                                <td id=\"T_0fd2ad6e_9674_11ed_a844_b445066bfd9brow5_col0\" class=\"data row5 col0\" >1.6</td>\n",
       "                        <td id=\"T_0fd2ad6e_9674_11ed_a844_b445066bfd9brow5_col1\" class=\"data row5 col1\" >\r\n",
       "  Engage with CN to\r\n",
       "  address their barriers\r\n",
       "  </td>\n",
       "                        <td id=\"T_0fd2ad6e_9674_11ed_a844_b445066bfd9brow5_col2\" class=\"data row5 col2\" >\r\n",
       "  Build relationships with CN to open a two-way discussion on the\r\n",
       "  scale, priority and impact to their business of barrier remediation. Include\r\n",
       "  the financial and ecological cost/benefits of remediation options, with\r\n",
       "  emphasis on the financial. This could start as a letter from both First\r\n",
       "  Nations to show that each community, elected chief, and hereditary house sees\r\n",
       "  this as an issue that needs to be resolved.\r\n",
       "  </td>\n",
       "                        <td id=\"T_0fd2ad6e_9674_11ed_a844_b445066bfd9brow5_col3\" class=\"data row5 col3\" >Very high</td>\n",
       "                        <td id=\"T_0fd2ad6e_9674_11ed_a844_b445066bfd9brow5_col4\" class=\"data row5 col4\" >Medium</td>\n",
       "                        <td id=\"T_0fd2ad6e_9674_11ed_a844_b445066bfd9brow5_col5\" class=\"data row5 col5\" >Need more information</td>\n",
       "            </tr>\n",
       "            <tr>\n",
       "                                <td id=\"T_0fd2ad6e_9674_11ed_a844_b445066bfd9brow6_col0\" class=\"data row6 col0\" >1.7</td>\n",
       "                        <td id=\"T_0fd2ad6e_9674_11ed_a844_b445066bfd9brow6_col1\" class=\"data row6 col1\" >\r\n",
       "  Knowledge Gap: Continue\r\n",
       "  updating the barrier prioritization model\r\n",
       "  </td>\n",
       "                        <td id=\"T_0fd2ad6e_9674_11ed_a844_b445066bfd9brow6_col2\" class=\"data row6 col2\" >\r\n",
       "  The model has been updated to reflect 2021 field assessments and\r\n",
       "  intermediate barrier review.  \r\n",
       "  </td>\n",
       "                        <td id=\"T_0fd2ad6e_9674_11ed_a844_b445066bfd9brow6_col3\" class=\"data row6 col3\" >Very high</td>\n",
       "                        <td id=\"T_0fd2ad6e_9674_11ed_a844_b445066bfd9brow6_col4\" class=\"data row6 col4\" >Very high</td>\n",
       "                        <td id=\"T_0fd2ad6e_9674_11ed_a844_b445066bfd9brow6_col5\" class=\"data row6 col5\" >Very effective</td>\n",
       "            </tr>\n",
       "            <tr>\n",
       "                                <td id=\"T_0fd2ad6e_9674_11ed_a844_b445066bfd9brow7_col0\" class=\"data row7 col0\" >1.8</td>\n",
       "                        <td id=\"T_0fd2ad6e_9674_11ed_a844_b445066bfd9brow7_col1\" class=\"data row7 col1\" >\r\n",
       "  Knowledge Gap: Adapt the\r\n",
       "  provincial fish passage framework to account for adult fish and low-flow\r\n",
       "  conditions\r\n",
       "  </td>\n",
       "                        <td id=\"T_0fd2ad6e_9674_11ed_a844_b445066bfd9brow7_col2\" class=\"data row7 col2\" >\r\n",
       "   \r\n",
       "  </td>\n",
       "                        <td id=\"T_0fd2ad6e_9674_11ed_a844_b445066bfd9brow7_col3\" class=\"data row7 col3\" >Very high</td>\n",
       "                        <td id=\"T_0fd2ad6e_9674_11ed_a844_b445066bfd9brow7_col4\" class=\"data row7 col4\" >Medium</td>\n",
       "                        <td id=\"T_0fd2ad6e_9674_11ed_a844_b445066bfd9brow7_col5\" class=\"data row7 col5\" >Need more information</td>\n",
       "            </tr>\n",
       "            <tr>\n",
       "                                <td id=\"T_0fd2ad6e_9674_11ed_a844_b445066bfd9brow8_col0\" class=\"data row8 col0\" >1.9</td>\n",
       "                        <td id=\"T_0fd2ad6e_9674_11ed_a844_b445066bfd9brow8_col1\" class=\"data row8 col1\" >\r\n",
       "  Knowledge Gap: Assess barriers by applying adapted version\r\n",
       "  of the provincial fish passage framework \r\n",
       "  </td>\n",
       "                        <td id=\"T_0fd2ad6e_9674_11ed_a844_b445066bfd9brow8_col2\" class=\"data row8 col2\" >\r\n",
       "  The first three steps are, (1) barrier assessments, (2) habitat\r\n",
       "  confirmations, and (3) remediation designs. Barrier assessment data should be\r\n",
       "  captured in the PSCIS database, which is available to all partners.\r\n",
       "   \r\n",
       "  85 field assessments were performed in 2021.\r\n",
       "  </td>\n",
       "                        <td id=\"T_0fd2ad6e_9674_11ed_a844_b445066bfd9brow8_col3\" class=\"data row8 col3\" >Medium</td>\n",
       "                        <td id=\"T_0fd2ad6e_9674_11ed_a844_b445066bfd9brow8_col4\" class=\"data row8 col4\" >High</td>\n",
       "                        <td id=\"T_0fd2ad6e_9674_11ed_a844_b445066bfd9brow8_col5\" class=\"data row8 col5\" >Need more information</td>\n",
       "            </tr>\n",
       "    </tbody></table>"
      ],
      "text/plain": [
       "<pandas.io.formats.style.Styler at 0x14a39546708>"
      ]
     },
     "metadata": {},
     "output_type": "display_data"
    }
   ],
   "source": [
    "import numpy as np\n",
    "from IPython.display import display\n",
    "import pandas as pd\n",
    "\n",
    "data = pd.read_csv('../tables/Strategy1.csv', index_col=False, skip_blank_lines=False )\n",
    " \n",
    "def fix_table(val):\n",
    "    return str(val)\n",
    "\n",
    "def highlighttab7(val):\n",
    "    red = '#ff0000;'\n",
    "    yellow = '#ffff00;'\n",
    "    lgreen = '#92d050;'\n",
    "    dgreen = '#03853e;'\n",
    "\n",
    "\n",
    "    if val==\"Medium\" or val==\"Need more information\": color = yellow\n",
    "    elif val==\"Very high\" or val==\"Very effective\" or val==\"Very High\" or val==\"Very Effective\": color = lgreen\n",
    "    elif val ==\"High\" or val==\"Effective\": color = dgreen \n",
    "    else: color = 'white'\n",
    "    return 'background-color: %s' % color\n",
    "\n",
    "#data = data.replace(np.nan, '', regex=True)\n",
    "\n",
    "data = data.applymap(fix_table)\n",
    "\n",
    "\n",
    "data = data.style.applymap(highlighttab7).hide_index().set_properties(**{'text-align': 'left'})\n",
    "data = data.set_table_styles(\n",
    "[dict(selector = 'th', props=[('text-align', 'left')])])\n",
    "\n",
    "display(data)\n"
   ]
  },
  {
   "attachments": {},
   "cell_type": "markdown",
   "metadata": {},
   "source": [
    "\n",
    "## Strategy 2: Barrier Prevention\n"
   ]
  },
  {
   "cell_type": "code",
   "execution_count": 10,
   "metadata": {
    "tags": [
     "remove-input"
    ]
   },
   "outputs": [
    {
     "data": {
      "text/html": [
       "<style  type=\"text/css\" >\n",
       "    #T_0fdddbd4_9674_11ed_8ff2_b445066bfd9b th {\n",
       "          text-align: left;\n",
       "    }#T_0fdddbd4_9674_11ed_8ff2_b445066bfd9brow0_col0,#T_0fdddbd4_9674_11ed_8ff2_b445066bfd9brow0_col1,#T_0fdddbd4_9674_11ed_8ff2_b445066bfd9brow0_col2,#T_0fdddbd4_9674_11ed_8ff2_b445066bfd9brow1_col0,#T_0fdddbd4_9674_11ed_8ff2_b445066bfd9brow1_col1,#T_0fdddbd4_9674_11ed_8ff2_b445066bfd9brow1_col2{\n",
       "            background-color:  white;\n",
       "            text-align:  left;\n",
       "        }#T_0fdddbd4_9674_11ed_8ff2_b445066bfd9brow0_col3{\n",
       "            background-color:  #03853e;\n",
       "            text-align:  left;\n",
       "        }#T_0fdddbd4_9674_11ed_8ff2_b445066bfd9brow0_col4,#T_0fdddbd4_9674_11ed_8ff2_b445066bfd9brow0_col5,#T_0fdddbd4_9674_11ed_8ff2_b445066bfd9brow1_col3,#T_0fdddbd4_9674_11ed_8ff2_b445066bfd9brow1_col4,#T_0fdddbd4_9674_11ed_8ff2_b445066bfd9brow1_col5{\n",
       "            background-color:  #ffff00;\n",
       "            text-align:  left;\n",
       "        }</style><table id=\"T_0fdddbd4_9674_11ed_8ff2_b445066bfd9b\" ><thead>    <tr>        <th class=\"col_heading level0 col0\" >\r  ID\r  </th>        <th class=\"col_heading level0 col1\" >\r  Actions\r  </th>        <th class=\"col_heading level0 col2\" >\r  Details\r  </th>        <th class=\"col_heading level0 col3\" >\r  Feasibility\r  </th>        <th class=\"col_heading level0 col4\" >\r  Impact\r  </th>        <th class=\"col_heading level0 col5\" >\r  Effectiveness\r  </th>    </tr></thead><tbody>\n",
       "                <tr>\n",
       "                                <td id=\"T_0fdddbd4_9674_11ed_8ff2_b445066bfd9brow0_col0\" class=\"data row0 col0\" >2.1</td>\n",
       "                        <td id=\"T_0fdddbd4_9674_11ed_8ff2_b445066bfd9brow0_col1\" class=\"data row0 col1\" >\r  Work with forestry licensees to\r  improve their aquatic connectivity practices\r  </td>\n",
       "                        <td id=\"T_0fdddbd4_9674_11ed_8ff2_b445066bfd9brow0_col2\" class=\"data row0 col2\" >\r  This should include encouraging\r  better consultation before crossings are installed in the first place.\r  </td>\n",
       "                        <td id=\"T_0fdddbd4_9674_11ed_8ff2_b445066bfd9brow0_col3\" class=\"data row0 col3\" >High</td>\n",
       "                        <td id=\"T_0fdddbd4_9674_11ed_8ff2_b445066bfd9brow0_col4\" class=\"data row0 col4\" >Medium</td>\n",
       "                        <td id=\"T_0fdddbd4_9674_11ed_8ff2_b445066bfd9brow0_col5\" class=\"data row0 col5\" >Need more information</td>\n",
       "            </tr>\n",
       "            <tr>\n",
       "                                <td id=\"T_0fdddbd4_9674_11ed_8ff2_b445066bfd9brow1_col0\" class=\"data row1 col0\" >2.2</td>\n",
       "                        <td id=\"T_0fdddbd4_9674_11ed_8ff2_b445066bfd9brow1_col1\" class=\"data row1 col1\" >\r  Monitor new crossing installation compliance with\r  regulations regarding fish passage\r  </td>\n",
       "                        <td id=\"T_0fdddbd4_9674_11ed_8ff2_b445066bfd9brow1_col2\" class=\"data row1 col2\" >\r  This action could be directly tied to action 3.3 - First Nations\r  guardianship program.\r  </td>\n",
       "                        <td id=\"T_0fdddbd4_9674_11ed_8ff2_b445066bfd9brow1_col3\" class=\"data row1 col3\" >Medium</td>\n",
       "                        <td id=\"T_0fdddbd4_9674_11ed_8ff2_b445066bfd9brow1_col4\" class=\"data row1 col4\" >Medium</td>\n",
       "                        <td id=\"T_0fdddbd4_9674_11ed_8ff2_b445066bfd9brow1_col5\" class=\"data row1 col5\" >Need more information</td>\n",
       "            </tr>\n",
       "    </tbody></table>"
      ],
      "text/plain": [
       "<pandas.io.formats.style.Styler at 0x14a39675108>"
      ]
     },
     "execution_count": 10,
     "metadata": {},
     "output_type": "execute_result"
    }
   ],
   "source": [
    "data = pd.read_csv('../tables/Strategy2.csv', escapechar='\\n', index_col=False)\n",
    "\n",
    "data = data.replace(np.nan, '', regex=True)\n",
    "\n",
    "data = data.applymap(fix_table)\n",
    "\n",
    "data = data.style.applymap(highlighttab7).hide_index().set_properties(**{'text-align': 'left'})\n",
    "\n",
    "data.set_table_styles(\n",
    "[dict(selector = 'th', props=[('text-align', 'left')])])\n"
   ]
  },
  {
   "attachments": {},
   "cell_type": "markdown",
   "metadata": {},
   "source": [
    "## Strategy 3: Strengthen Indigenous Connections to Land and Water\n"
   ]
  },
  {
   "cell_type": "code",
   "execution_count": 11,
   "metadata": {
    "tags": [
     "remove-input"
    ]
   },
   "outputs": [
    {
     "data": {
      "text/html": [
       "<style  type=\"text/css\" >\n",
       "    #T_0febe066_9674_11ed_92eb_b445066bfd9b th {\n",
       "          text-align: left;\n",
       "    }#T_0febe066_9674_11ed_92eb_b445066bfd9brow0_col0,#T_0febe066_9674_11ed_92eb_b445066bfd9brow0_col1,#T_0febe066_9674_11ed_92eb_b445066bfd9brow0_col2,#T_0febe066_9674_11ed_92eb_b445066bfd9brow1_col0,#T_0febe066_9674_11ed_92eb_b445066bfd9brow1_col1,#T_0febe066_9674_11ed_92eb_b445066bfd9brow1_col2,#T_0febe066_9674_11ed_92eb_b445066bfd9brow2_col0,#T_0febe066_9674_11ed_92eb_b445066bfd9brow2_col1,#T_0febe066_9674_11ed_92eb_b445066bfd9brow2_col2,#T_0febe066_9674_11ed_92eb_b445066bfd9brow3_col0,#T_0febe066_9674_11ed_92eb_b445066bfd9brow3_col1,#T_0febe066_9674_11ed_92eb_b445066bfd9brow3_col2{\n",
       "            background-color:  white;\n",
       "            text-align:  left;\n",
       "        }#T_0febe066_9674_11ed_92eb_b445066bfd9brow0_col3,#T_0febe066_9674_11ed_92eb_b445066bfd9brow0_col5,#T_0febe066_9674_11ed_92eb_b445066bfd9brow1_col4,#T_0febe066_9674_11ed_92eb_b445066bfd9brow1_col5,#T_0febe066_9674_11ed_92eb_b445066bfd9brow2_col4,#T_0febe066_9674_11ed_92eb_b445066bfd9brow2_col5{\n",
       "            background-color:  #03853e;\n",
       "            text-align:  left;\n",
       "        }#T_0febe066_9674_11ed_92eb_b445066bfd9brow0_col4,#T_0febe066_9674_11ed_92eb_b445066bfd9brow1_col3,#T_0febe066_9674_11ed_92eb_b445066bfd9brow2_col3,#T_0febe066_9674_11ed_92eb_b445066bfd9brow3_col3,#T_0febe066_9674_11ed_92eb_b445066bfd9brow3_col4,#T_0febe066_9674_11ed_92eb_b445066bfd9brow3_col5{\n",
       "            background-color:  #92d050;\n",
       "            text-align:  left;\n",
       "        }</style><table id=\"T_0febe066_9674_11ed_92eb_b445066bfd9b\" ><thead>    <tr>        <th class=\"col_heading level0 col0\" >ID</th>        <th class=\"col_heading level0 col1\" >Actions</th>        <th class=\"col_heading level0 col2\" >Details</th>        <th class=\"col_heading level0 col3\" >Feasibility</th>        <th class=\"col_heading level0 col4\" >Impact</th>        <th class=\"col_heading level0 col5\" >Effectiveness</th>    </tr></thead><tbody>\n",
       "                <tr>\n",
       "                                <td id=\"T_0febe066_9674_11ed_92eb_b445066bfd9brow0_col0\" class=\"data row0 col0\" >3.1</td>\n",
       "                        <td id=\"T_0febe066_9674_11ed_92eb_b445066bfd9brow0_col1\" class=\"data row0 col1\" >\r\n",
       "  Develop a First Nations Youth\r\n",
       "  Mentorship capacity building program\r\n",
       "  </td>\n",
       "                        <td id=\"T_0febe066_9674_11ed_92eb_b445066bfd9brow0_col2\" class=\"data row0 col2\" >\r\n",
       "  The program should emphasize:\r\n",
       "  (1) working with First Nations youth, with emphasis on females, to help build\r\n",
       "  capacity around waterway management, and (2) two-way mentorship to strengthen\r\n",
       "  relationships and knowledge sharing with non-Indigenous youth (e.g., sharing\r\n",
       "  knowledge on the importance of the land and the watershed according to Ayook,\r\n",
       "  Adaakw, Inuk Nu'at'en, and Yintahk).\r\n",
       "  </td>\n",
       "                        <td id=\"T_0febe066_9674_11ed_92eb_b445066bfd9brow0_col3\" class=\"data row0 col3\" >High</td>\n",
       "                        <td id=\"T_0febe066_9674_11ed_92eb_b445066bfd9brow0_col4\" class=\"data row0 col4\" >Very high</td>\n",
       "                        <td id=\"T_0febe066_9674_11ed_92eb_b445066bfd9brow0_col5\" class=\"data row0 col5\" >Effective</td>\n",
       "            </tr>\n",
       "            <tr>\n",
       "                                <td id=\"T_0febe066_9674_11ed_92eb_b445066bfd9brow1_col0\" class=\"data row1 col0\" >3.2</td>\n",
       "                        <td id=\"T_0febe066_9674_11ed_92eb_b445066bfd9brow1_col1\" class=\"data row1 col1\" >\r\n",
       "  Engage with Wilp/Yikh for work to\r\n",
       "  occur in their territory\r\n",
       "  </td>\n",
       "                        <td id=\"T_0febe066_9674_11ed_92eb_b445066bfd9brow1_col2\" class=\"data row1 col2\" >\r\n",
       "  Obtain permission from the appropriate Wilp/Yihk before conducting\r\n",
       "  any work, including barrier assessments, habitat confirmations, and\r\n",
       "  remediation work.  \r\n",
       "  </td>\n",
       "                        <td id=\"T_0febe066_9674_11ed_92eb_b445066bfd9brow1_col3\" class=\"data row1 col3\" >Very High</td>\n",
       "                        <td id=\"T_0febe066_9674_11ed_92eb_b445066bfd9brow1_col4\" class=\"data row1 col4\" >High</td>\n",
       "                        <td id=\"T_0febe066_9674_11ed_92eb_b445066bfd9brow1_col5\" class=\"data row1 col5\" >Effective</td>\n",
       "            </tr>\n",
       "            <tr>\n",
       "                                <td id=\"T_0febe066_9674_11ed_92eb_b445066bfd9brow2_col0\" class=\"data row2 col0\" >3.3</td>\n",
       "                        <td id=\"T_0febe066_9674_11ed_92eb_b445066bfd9brow2_col1\" class=\"data row2 col1\" >\r\n",
       "  First Nations guardianship program to monitor fish passage\r\n",
       "  in the watershed\r\n",
       "  </td>\n",
       "                        <td id=\"T_0febe066_9674_11ed_92eb_b445066bfd9brow2_col2\" class=\"data row2 col2\" >\r\n",
       "   \r\n",
       "  </td>\n",
       "                        <td id=\"T_0febe066_9674_11ed_92eb_b445066bfd9brow2_col3\" class=\"data row2 col3\" >Very High</td>\n",
       "                        <td id=\"T_0febe066_9674_11ed_92eb_b445066bfd9brow2_col4\" class=\"data row2 col4\" >High</td>\n",
       "                        <td id=\"T_0febe066_9674_11ed_92eb_b445066bfd9brow2_col5\" class=\"data row2 col5\" >Effective</td>\n",
       "            </tr>\n",
       "            <tr>\n",
       "                                <td id=\"T_0febe066_9674_11ed_92eb_b445066bfd9brow3_col0\" class=\"data row3 col0\" >3.4</td>\n",
       "                        <td id=\"T_0febe066_9674_11ed_92eb_b445066bfd9brow3_col1\" class=\"data row3 col1\" >\r\n",
       "  Knowledge Gap: Identify\r\n",
       "  traditional use areas to help inform where to improve connectivity\r\n",
       "  </td>\n",
       "                        <td id=\"T_0febe066_9674_11ed_92eb_b445066bfd9brow3_col2\" class=\"data row3 col2\" >\r\n",
       "  Used as decision support to\r\n",
       "  choose which projects to proceed with. This information is proprietary, can\r\n",
       "  only be used with permission, and should not be communicated externally.\r\n",
       "  Proper protocols will be followed to ensure this knowledge and information is\r\n",
       "  protected by the knowledge holders.\r\n",
       "  </td>\n",
       "                        <td id=\"T_0febe066_9674_11ed_92eb_b445066bfd9brow3_col3\" class=\"data row3 col3\" >Very High</td>\n",
       "                        <td id=\"T_0febe066_9674_11ed_92eb_b445066bfd9brow3_col4\" class=\"data row3 col4\" >Very high</td>\n",
       "                        <td id=\"T_0febe066_9674_11ed_92eb_b445066bfd9brow3_col5\" class=\"data row3 col5\" >Very Effective</td>\n",
       "            </tr>\n",
       "    </tbody></table>"
      ],
      "text/plain": [
       "<pandas.io.formats.style.Styler at 0x14a39689dc8>"
      ]
     },
     "execution_count": 11,
     "metadata": {},
     "output_type": "execute_result"
    }
   ],
   "source": [
    "data = pd.read_csv('../tables/Strategy3.csv', index_col=False)\n",
    "\n",
    "data = data.replace(np.nan, '', regex=True)\n",
    "\n",
    "data = data.applymap(fix_table)\n",
    "\n",
    "data = data.style.applymap(highlighttab7).hide_index().set_properties(**{'text-align': 'left'})\n",
    "\n",
    "data.set_table_styles(\n",
    "[dict(selector = 'th', props=[('text-align', 'left')])])\n"
   ]
  },
  {
   "attachments": {},
   "cell_type": "markdown",
   "metadata": {},
   "source": [
    "## Strategy 4: Planning and Progress Tracking\n"
   ]
  },
  {
   "cell_type": "code",
   "execution_count": 12,
   "metadata": {
    "tags": [
     "remove-input"
    ]
   },
   "outputs": [
    {
     "data": {
      "text/html": [
       "<style  type=\"text/css\" >\n",
       "    #T_0ffa3428_9674_11ed_b073_b445066bfd9b th {\n",
       "          text-align: left;\n",
       "    }#T_0ffa3428_9674_11ed_b073_b445066bfd9brow0_col0,#T_0ffa3428_9674_11ed_b073_b445066bfd9brow0_col1,#T_0ffa3428_9674_11ed_b073_b445066bfd9brow0_col2,#T_0ffa3428_9674_11ed_b073_b445066bfd9brow1_col0,#T_0ffa3428_9674_11ed_b073_b445066bfd9brow1_col1,#T_0ffa3428_9674_11ed_b073_b445066bfd9brow1_col2,#T_0ffa3428_9674_11ed_b073_b445066bfd9brow2_col0,#T_0ffa3428_9674_11ed_b073_b445066bfd9brow2_col1,#T_0ffa3428_9674_11ed_b073_b445066bfd9brow2_col2{\n",
       "            background-color:  white;\n",
       "            text-align:  left;\n",
       "        }</style><table id=\"T_0ffa3428_9674_11ed_b073_b445066bfd9b\" ><thead>    <tr>        <th class=\"col_heading level0 col0\" >ID</th>        <th class=\"col_heading level0 col1\" >Actions</th>        <th class=\"col_heading level0 col2\" >Details</th>    </tr></thead><tbody>\n",
       "                <tr>\n",
       "                                <td id=\"T_0ffa3428_9674_11ed_b073_b445066bfd9brow0_col0\" class=\"data row0 col0\" >4.1</td>\n",
       "                        <td id=\"T_0ffa3428_9674_11ed_b073_b445066bfd9brow0_col1\" class=\"data row0 col1\" >\r\n",
       "  Implement the WCRP Progress\r\n",
       "  Tracking Plan \r\n",
       "  </td>\n",
       "                        <td id=\"T_0ffa3428_9674_11ed_b073_b445066bfd9brow0_col2\" class=\"data row0 col2\" >\r\n",
       "  The WCRP Progress Tracking Plan\r\n",
       "  will help the team to determine whether we are achieving our goals and\r\n",
       "  objectives\r\n",
       "  </td>\n",
       "            </tr>\n",
       "            <tr>\n",
       "                                <td id=\"T_0ffa3428_9674_11ed_b073_b445066bfd9brow1_col0\" class=\"data row1 col0\" >4.2</td>\n",
       "                        <td id=\"T_0ffa3428_9674_11ed_b073_b445066bfd9brow1_col1\" class=\"data row1 col1\" >\r\n",
       "  Develop a data catalogue on all\r\n",
       "  current information related to aquatic connectivity in the Bulkley Watershed\r\n",
       "  </td>\n",
       "                        <td id=\"T_0ffa3428_9674_11ed_b073_b445066bfd9brow1_col2\" class=\"data row1 col2\" >\r\n",
       "   \r\n",
       "  </td>\n",
       "            </tr>\n",
       "            <tr>\n",
       "                                <td id=\"T_0ffa3428_9674_11ed_b073_b445066bfd9brow2_col0\" class=\"data row2 col0\" >4.3</td>\n",
       "                        <td id=\"T_0ffa3428_9674_11ed_b073_b445066bfd9brow2_col1\" class=\"data row2 col1\" >\r\n",
       "  Explore expanding this WCRP to include the Morice River\r\n",
       "  Watershed\r\n",
       "  </td>\n",
       "                        <td id=\"T_0ffa3428_9674_11ed_b073_b445066bfd9brow2_col2\" class=\"data row2 col2\" >\r\n",
       "   \r\n",
       "  </td>\n",
       "            </tr>\n",
       "    </tbody></table>"
      ],
      "text/plain": [
       "<pandas.io.formats.style.Styler at 0x14a35a55308>"
      ]
     },
     "execution_count": 12,
     "metadata": {},
     "output_type": "execute_result"
    }
   ],
   "source": [
    "import pandas as pd\n",
    "\n",
    "data = pd.read_csv('../tables/Strategy4.csv', index_col=False)\n",
    "\n",
    "\n",
    "\n",
    "\n",
    "data = data.applymap(fix_table)\n",
    "\n",
    "data = data.style.applymap(highlighttab7).hide_index().set_properties(**{'text-align': 'left'})\n",
    "\n",
    "data.set_table_styles(\n",
    "[dict(selector = 'th', props=[('text-align', 'left')])])\n"
   ]
  },
  {
   "attachments": {},
   "cell_type": "markdown",
   "metadata": {},
   "source": [
    "```{include} ../content/ecoattributes-md.md\n",
    ":start-after: \"## Strategy 4: Planning and Progress Tracking\"\n",
    ":end-before: \"# Operational Plan\"\n",
    "```"
   ]
  },
  {
   "attachments": {},
   "cell_type": "markdown",
   "metadata": {},
   "source": [
    "\n",
    "```{figure} ../figures/figure4.png\n",
    "---\n",
    "height: 400px\n",
    "width: 1000px\n",
    "name: fig4\n",
    "---\n",
    "*Theory of change developed by the planning team for the actions identified under Strategy 1: Barrier Remediation in the Bulkley River watershed.*\n",
    "```\n",
    "```{figure} ../figures/figure5.png\n",
    "---\n",
    "height: 400px\n",
    "width: 1000px\n",
    "name: fig5\n",
    "---\n",
    "*Theory of change developed by the planning team for the actions identified under Strategy 2: Barrier Prevention in the Bulkley River watershed.*\n",
    "```\n"
   ]
  },
  {
   "attachments": {},
   "cell_type": "markdown",
   "metadata": {},
   "source": [
    "# Operational Plan\n",
    "\n",
    "```{include} ../content/ecoattributes-md.md\n",
    ":start-after: \"# Operational Plan\"\n",
    ":end-before: \"# Funding Sources\"\n",
    "```"
   ]
  },
  {
   "cell_type": "code",
   "execution_count": 13,
   "metadata": {
    "tags": [
     "remove-input",
     "remove-output"
    ]
   },
   "outputs": [
    {
     "data": {
      "text/html": [
       "<style  type=\"text/css\" >\n",
       "    #T_100570a8_9674_11ed_832e_b445066bfd9b th {\n",
       "          text-align: left;\n",
       "    }#T_100570a8_9674_11ed_832e_b445066bfd9brow0_col0,#T_100570a8_9674_11ed_832e_b445066bfd9brow0_col1,#T_100570a8_9674_11ed_832e_b445066bfd9brow0_col2,#T_100570a8_9674_11ed_832e_b445066bfd9brow0_col3,#T_100570a8_9674_11ed_832e_b445066bfd9brow10_col0,#T_100570a8_9674_11ed_832e_b445066bfd9brow10_col1,#T_100570a8_9674_11ed_832e_b445066bfd9brow10_col2,#T_100570a8_9674_11ed_832e_b445066bfd9brow10_col3,#T_100570a8_9674_11ed_832e_b445066bfd9brow13_col0,#T_100570a8_9674_11ed_832e_b445066bfd9brow13_col1,#T_100570a8_9674_11ed_832e_b445066bfd9brow13_col2,#T_100570a8_9674_11ed_832e_b445066bfd9brow13_col3,#T_100570a8_9674_11ed_832e_b445066bfd9brow18_col0,#T_100570a8_9674_11ed_832e_b445066bfd9brow18_col1,#T_100570a8_9674_11ed_832e_b445066bfd9brow18_col2,#T_100570a8_9674_11ed_832e_b445066bfd9brow18_col3,#T_100570a8_9674_11ed_832e_b445066bfd9brow22_col0,#T_100570a8_9674_11ed_832e_b445066bfd9brow22_col1,#T_100570a8_9674_11ed_832e_b445066bfd9brow22_col2,#T_100570a8_9674_11ed_832e_b445066bfd9brow22_col3,#T_100570a8_9674_11ed_832e_b445066bfd9brow23_col0,#T_100570a8_9674_11ed_832e_b445066bfd9brow23_col1,#T_100570a8_9674_11ed_832e_b445066bfd9brow23_col2,#T_100570a8_9674_11ed_832e_b445066bfd9brow23_col3,#T_100570a8_9674_11ed_832e_b445066bfd9brow24_col0,#T_100570a8_9674_11ed_832e_b445066bfd9brow24_col1,#T_100570a8_9674_11ed_832e_b445066bfd9brow24_col2,#T_100570a8_9674_11ed_832e_b445066bfd9brow24_col3{\n",
       "            background-color:  black;\n",
       "             color:  white;\n",
       "            text-align:  left;\n",
       "        }#T_100570a8_9674_11ed_832e_b445066bfd9brow1_col0,#T_100570a8_9674_11ed_832e_b445066bfd9brow1_col1,#T_100570a8_9674_11ed_832e_b445066bfd9brow1_col2,#T_100570a8_9674_11ed_832e_b445066bfd9brow1_col3,#T_100570a8_9674_11ed_832e_b445066bfd9brow2_col0,#T_100570a8_9674_11ed_832e_b445066bfd9brow2_col1,#T_100570a8_9674_11ed_832e_b445066bfd9brow2_col2,#T_100570a8_9674_11ed_832e_b445066bfd9brow2_col3,#T_100570a8_9674_11ed_832e_b445066bfd9brow3_col0,#T_100570a8_9674_11ed_832e_b445066bfd9brow3_col1,#T_100570a8_9674_11ed_832e_b445066bfd9brow3_col2,#T_100570a8_9674_11ed_832e_b445066bfd9brow3_col3,#T_100570a8_9674_11ed_832e_b445066bfd9brow4_col0,#T_100570a8_9674_11ed_832e_b445066bfd9brow4_col1,#T_100570a8_9674_11ed_832e_b445066bfd9brow4_col2,#T_100570a8_9674_11ed_832e_b445066bfd9brow4_col3,#T_100570a8_9674_11ed_832e_b445066bfd9brow5_col0,#T_100570a8_9674_11ed_832e_b445066bfd9brow5_col1,#T_100570a8_9674_11ed_832e_b445066bfd9brow5_col2,#T_100570a8_9674_11ed_832e_b445066bfd9brow5_col3,#T_100570a8_9674_11ed_832e_b445066bfd9brow6_col0,#T_100570a8_9674_11ed_832e_b445066bfd9brow6_col1,#T_100570a8_9674_11ed_832e_b445066bfd9brow6_col2,#T_100570a8_9674_11ed_832e_b445066bfd9brow6_col3,#T_100570a8_9674_11ed_832e_b445066bfd9brow7_col0,#T_100570a8_9674_11ed_832e_b445066bfd9brow7_col1,#T_100570a8_9674_11ed_832e_b445066bfd9brow7_col2,#T_100570a8_9674_11ed_832e_b445066bfd9brow7_col3,#T_100570a8_9674_11ed_832e_b445066bfd9brow8_col0,#T_100570a8_9674_11ed_832e_b445066bfd9brow8_col1,#T_100570a8_9674_11ed_832e_b445066bfd9brow8_col2,#T_100570a8_9674_11ed_832e_b445066bfd9brow8_col3,#T_100570a8_9674_11ed_832e_b445066bfd9brow9_col0,#T_100570a8_9674_11ed_832e_b445066bfd9brow9_col1,#T_100570a8_9674_11ed_832e_b445066bfd9brow9_col2,#T_100570a8_9674_11ed_832e_b445066bfd9brow9_col3,#T_100570a8_9674_11ed_832e_b445066bfd9brow11_col0,#T_100570a8_9674_11ed_832e_b445066bfd9brow11_col1,#T_100570a8_9674_11ed_832e_b445066bfd9brow11_col2,#T_100570a8_9674_11ed_832e_b445066bfd9brow11_col3,#T_100570a8_9674_11ed_832e_b445066bfd9brow12_col0,#T_100570a8_9674_11ed_832e_b445066bfd9brow12_col1,#T_100570a8_9674_11ed_832e_b445066bfd9brow12_col2,#T_100570a8_9674_11ed_832e_b445066bfd9brow12_col3,#T_100570a8_9674_11ed_832e_b445066bfd9brow14_col0,#T_100570a8_9674_11ed_832e_b445066bfd9brow14_col1,#T_100570a8_9674_11ed_832e_b445066bfd9brow14_col2,#T_100570a8_9674_11ed_832e_b445066bfd9brow14_col3,#T_100570a8_9674_11ed_832e_b445066bfd9brow15_col0,#T_100570a8_9674_11ed_832e_b445066bfd9brow15_col1,#T_100570a8_9674_11ed_832e_b445066bfd9brow15_col2,#T_100570a8_9674_11ed_832e_b445066bfd9brow15_col3,#T_100570a8_9674_11ed_832e_b445066bfd9brow16_col0,#T_100570a8_9674_11ed_832e_b445066bfd9brow16_col1,#T_100570a8_9674_11ed_832e_b445066bfd9brow16_col2,#T_100570a8_9674_11ed_832e_b445066bfd9brow16_col3,#T_100570a8_9674_11ed_832e_b445066bfd9brow17_col0,#T_100570a8_9674_11ed_832e_b445066bfd9brow17_col1,#T_100570a8_9674_11ed_832e_b445066bfd9brow17_col2,#T_100570a8_9674_11ed_832e_b445066bfd9brow17_col3,#T_100570a8_9674_11ed_832e_b445066bfd9brow19_col0,#T_100570a8_9674_11ed_832e_b445066bfd9brow19_col1,#T_100570a8_9674_11ed_832e_b445066bfd9brow19_col2,#T_100570a8_9674_11ed_832e_b445066bfd9brow19_col3,#T_100570a8_9674_11ed_832e_b445066bfd9brow20_col0,#T_100570a8_9674_11ed_832e_b445066bfd9brow20_col1,#T_100570a8_9674_11ed_832e_b445066bfd9brow20_col2,#T_100570a8_9674_11ed_832e_b445066bfd9brow20_col3,#T_100570a8_9674_11ed_832e_b445066bfd9brow21_col0,#T_100570a8_9674_11ed_832e_b445066bfd9brow21_col1,#T_100570a8_9674_11ed_832e_b445066bfd9brow21_col2,#T_100570a8_9674_11ed_832e_b445066bfd9brow21_col3{\n",
       "            text-align:  left;\n",
       "        }</style><table id=\"T_100570a8_9674_11ed_832e_b445066bfd9b\" ><thead>    <tr>        <th class=\"col_heading level0 col0\" >Strategy / Actions</th>        <th class=\"col_heading level0 col1\" >Lead(s) [1]</th>        <th class=\"col_heading level0 col2\" >Participants3</th>        <th class=\"col_heading level0 col3\" >Total Budget</th>    </tr></thead><tbody>\n",
       "                <tr>\n",
       "                                <td id=\"T_100570a8_9674_11ed_832e_b445066bfd9brow0_col0\" class=\"data row0 col0\" >\r\n",
       "  Strategy 1: Barrier\r\n",
       "  Remediation\r\n",
       "  </td>\n",
       "                        <td id=\"T_100570a8_9674_11ed_832e_b445066bfd9brow0_col1\" class=\"data row0 col1\" ></td>\n",
       "                        <td id=\"T_100570a8_9674_11ed_832e_b445066bfd9brow0_col2\" class=\"data row0 col2\" ></td>\n",
       "                        <td id=\"T_100570a8_9674_11ed_832e_b445066bfd9brow0_col3\" class=\"data row0 col3\" >\r\n",
       "  $66,385,830.00\r\n",
       "  </td>\n",
       "            </tr>\n",
       "            <tr>\n",
       "                                <td id=\"T_100570a8_9674_11ed_832e_b445066bfd9brow1_col0\" class=\"data row1 col0\" >\r\n",
       "  1.1 – Remove and decommission barriers\r\n",
       "  </td>\n",
       "                        <td id=\"T_100570a8_9674_11ed_832e_b445066bfd9brow1_col1\" class=\"data row1 col1\" >\r\n",
       "  CWF, SERN\r\n",
       "  </td>\n",
       "                        <td id=\"T_100570a8_9674_11ed_832e_b445066bfd9brow1_col2\" class=\"data row1 col2\" >\r\n",
       "  Office of the Wet'suwet'en, Skeena Watershed Conservation\r\n",
       "  Coalition, Ministry of Transportation and Infrastructure (MoTI), Fisheries\r\n",
       "  and Oceans Canada (DFO), Ministry of Environment (MoE)\r\n",
       "  </td>\n",
       "                        <td id=\"T_100570a8_9674_11ed_832e_b445066bfd9brow1_col3\" class=\"data row1 col3\" >\r\n",
       "  $5,248,000.00\r\n",
       "  </td>\n",
       "            </tr>\n",
       "            <tr>\n",
       "                                <td id=\"T_100570a8_9674_11ed_832e_b445066bfd9brow2_col0\" class=\"data row2 col0\" >\r\n",
       "  1.2 – Upgrade and resize crossings\r\n",
       "  </td>\n",
       "                        <td id=\"T_100570a8_9674_11ed_832e_b445066bfd9brow2_col1\" class=\"data row2 col1\" >\r\n",
       "  CWF, SERN\r\n",
       "  </td>\n",
       "                        <td id=\"T_100570a8_9674_11ed_832e_b445066bfd9brow2_col2\" class=\"data row2 col2\" >\r\n",
       "  Office of the Wet'suwet'en, Skeena Watershed Conservation\r\n",
       "  Coalition, MoTI, DFO, MoE\r\n",
       "  </td>\n",
       "                        <td id=\"T_100570a8_9674_11ed_832e_b445066bfd9brow2_col3\" class=\"data row2 col3\" >\r\n",
       "  $57,072,000.00\r\n",
       "  </td>\n",
       "            </tr>\n",
       "            <tr>\n",
       "                                <td id=\"T_100570a8_9674_11ed_832e_b445066bfd9brow3_col0\" class=\"data row3 col0\" >\r\n",
       "  1.3 – Install temporary mitigation\r\n",
       "  </td>\n",
       "                        <td id=\"T_100570a8_9674_11ed_832e_b445066bfd9brow3_col1\" class=\"data row3 col1\" >\r\n",
       "  SERN\r\n",
       "  </td>\n",
       "                        <td id=\"T_100570a8_9674_11ed_832e_b445066bfd9brow3_col2\" class=\"data row3 col2\" >\r\n",
       "  Office of the Wet'suwet'en, Skeena Watershed Conservation\r\n",
       "  Coalition, MoTI, DFO, MoE, CWF\r\n",
       "  </td>\n",
       "                        <td id=\"T_100570a8_9674_11ed_832e_b445066bfd9brow3_col3\" class=\"data row3 col3\" >\r\n",
       "  $3,280,000.00\r\n",
       "  </td>\n",
       "            </tr>\n",
       "            <tr>\n",
       "                                <td id=\"T_100570a8_9674_11ed_832e_b445066bfd9brow4_col0\" class=\"data row4 col0\" >\r\n",
       "  1.4 – Raise funds to remediate barriers\r\n",
       "  </td>\n",
       "                        <td id=\"T_100570a8_9674_11ed_832e_b445066bfd9brow4_col1\" class=\"data row4 col1\" >\r\n",
       "  CWF, SERN\r\n",
       "  </td>\n",
       "                        <td id=\"T_100570a8_9674_11ed_832e_b445066bfd9brow4_col2\" class=\"data row4 col2\" >\r\n",
       "  Office of the Wet'suwet'en, BCTS\r\n",
       "  </td>\n",
       "                        <td id=\"T_100570a8_9674_11ed_832e_b445066bfd9brow4_col3\" class=\"data row4 col3\" >\r\n",
       "  $400,000.00\r\n",
       "  </td>\n",
       "            </tr>\n",
       "            <tr>\n",
       "                                <td id=\"T_100570a8_9674_11ed_832e_b445066bfd9brow5_col0\" class=\"data row5 col0\" >\r\n",
       "  1.5 –\r\n",
       "  Request regulatory action for non-compliant crossings\r\n",
       "  </td>\n",
       "                        <td id=\"T_100570a8_9674_11ed_832e_b445066bfd9brow5_col1\" class=\"data row5 col1\" >\r\n",
       "  TBD\r\n",
       "  </td>\n",
       "                        <td id=\"T_100570a8_9674_11ed_832e_b445066bfd9brow5_col2\" class=\"data row5 col2\" >\r\n",
       "  Office of the Wet'suwet'en, CWF\r\n",
       "  </td>\n",
       "                        <td id=\"T_100570a8_9674_11ed_832e_b445066bfd9brow5_col3\" class=\"data row5 col3\" >\r\n",
       "  $0.00\r\n",
       "  </td>\n",
       "            </tr>\n",
       "            <tr>\n",
       "                                <td id=\"T_100570a8_9674_11ed_832e_b445066bfd9brow6_col0\" class=\"data row6 col0\" >\r\n",
       "  1.6 – Engage with CN to address their barriers\r\n",
       "  </td>\n",
       "                        <td id=\"T_100570a8_9674_11ed_832e_b445066bfd9brow6_col1\" class=\"data row6 col1\" >\r\n",
       "  SERN\r\n",
       "  </td>\n",
       "                        <td id=\"T_100570a8_9674_11ed_832e_b445066bfd9brow6_col2\" class=\"data row6 col2\" >\r\n",
       "  CWF, ESI/SSAF\r\n",
       "  </td>\n",
       "                        <td id=\"T_100570a8_9674_11ed_832e_b445066bfd9brow6_col3\" class=\"data row6 col3\" >\r\n",
       "  $100,000.00\r\n",
       "  </td>\n",
       "            </tr>\n",
       "            <tr>\n",
       "                                <td id=\"T_100570a8_9674_11ed_832e_b445066bfd9brow7_col0\" class=\"data row7 col0\" >\r\n",
       "  1.7 – Knowledge Gap: Continue updating\r\n",
       "  the barrier prioritization model\r\n",
       "  </td>\n",
       "                        <td id=\"T_100570a8_9674_11ed_832e_b445066bfd9brow7_col1\" class=\"data row7 col1\" >\r\n",
       "  CWF\r\n",
       "  </td>\n",
       "                        <td id=\"T_100570a8_9674_11ed_832e_b445066bfd9brow7_col2\" class=\"data row7 col2\" >\r\n",
       "  Witset First Nation, SERN\r\n",
       "  </td>\n",
       "                        <td id=\"T_100570a8_9674_11ed_832e_b445066bfd9brow7_col3\" class=\"data row7 col3\" >\r\n",
       "  $200,000.00\r\n",
       "  </td>\n",
       "            </tr>\n",
       "            <tr>\n",
       "                                <td id=\"T_100570a8_9674_11ed_832e_b445066bfd9brow8_col0\" class=\"data row8 col0\" >\r\n",
       "  1.8\r\n",
       "  - Knowledge Gap: Adapt the provincial fish passage framework to account for\r\n",
       "  adult fish and low flow conditions\r\n",
       "  </td>\n",
       "                        <td id=\"T_100570a8_9674_11ed_832e_b445066bfd9brow8_col1\" class=\"data row8 col1\" >\r\n",
       "  CWF\r\n",
       "  </td>\n",
       "                        <td id=\"T_100570a8_9674_11ed_832e_b445066bfd9brow8_col2\" class=\"data row8 col2\" >\r\n",
       "  TBD\r\n",
       "  </td>\n",
       "                        <td id=\"T_100570a8_9674_11ed_832e_b445066bfd9brow8_col3\" class=\"data row8 col3\" >\r\n",
       "  TBD\r\n",
       "  </td>\n",
       "            </tr>\n",
       "            <tr>\n",
       "                                <td id=\"T_100570a8_9674_11ed_832e_b445066bfd9brow9_col0\" class=\"data row9 col0\" >\r\n",
       "  1.9 – Knowledge Gap: Assess barriers by\r\n",
       "  applying adapted version of the provincial fish passage framework\r\n",
       "  </td>\n",
       "                        <td id=\"T_100570a8_9674_11ed_832e_b445066bfd9brow9_col1\" class=\"data row9 col1\" >\r\n",
       "  Fish Passage Technical Working Group, CWF, SERN\r\n",
       "  </td>\n",
       "                        <td id=\"T_100570a8_9674_11ed_832e_b445066bfd9brow9_col2\" class=\"data row9 col2\" >\r\n",
       "  Witset First Nation, ESI/SSAF\r\n",
       "  </td>\n",
       "                        <td id=\"T_100570a8_9674_11ed_832e_b445066bfd9brow9_col3\" class=\"data row9 col3\" >\r\n",
       "  $22,830.00\r\n",
       "  </td>\n",
       "            </tr>\n",
       "            <tr>\n",
       "                                <td id=\"T_100570a8_9674_11ed_832e_b445066bfd9brow10_col0\" class=\"data row10 col0\" >\r\n",
       "  Strategy 2: Barrier\r\n",
       "  Prevention\r\n",
       "  </td>\n",
       "                        <td id=\"T_100570a8_9674_11ed_832e_b445066bfd9brow10_col1\" class=\"data row10 col1\" ></td>\n",
       "                        <td id=\"T_100570a8_9674_11ed_832e_b445066bfd9brow10_col2\" class=\"data row10 col2\" ></td>\n",
       "                        <td id=\"T_100570a8_9674_11ed_832e_b445066bfd9brow10_col3\" class=\"data row10 col3\" >\r\n",
       "  $200,000.00\r\n",
       "  </td>\n",
       "            </tr>\n",
       "            <tr>\n",
       "                                <td id=\"T_100570a8_9674_11ed_832e_b445066bfd9brow11_col0\" class=\"data row11 col0\" >\r\n",
       "  2.1 – Work\r\n",
       "  with forestry licensees to improve their aquatic connectivity practices\r\n",
       "  </td>\n",
       "                        <td id=\"T_100570a8_9674_11ed_832e_b445066bfd9brow11_col1\" class=\"data row11 col1\" >\r\n",
       "  SERN\r\n",
       "  </td>\n",
       "                        <td id=\"T_100570a8_9674_11ed_832e_b445066bfd9brow11_col2\" class=\"data row11 col2\" >\r\n",
       "  Witset First Nation, ESI/SSAF\r\n",
       "  </td>\n",
       "                        <td id=\"T_100570a8_9674_11ed_832e_b445066bfd9brow11_col3\" class=\"data row11 col3\" >\r\n",
       "  $100,000.00\r\n",
       "  </td>\n",
       "            </tr>\n",
       "            <tr>\n",
       "                                <td id=\"T_100570a8_9674_11ed_832e_b445066bfd9brow12_col0\" class=\"data row12 col0\" >\r\n",
       "  2.2 – Monitor\r\n",
       "  new crossing installation compliance with regulations regarding fish passage\r\n",
       "  </td>\n",
       "                        <td id=\"T_100570a8_9674_11ed_832e_b445066bfd9brow12_col1\" class=\"data row12 col1\" >\r\n",
       "  TBD\r\n",
       "  </td>\n",
       "                        <td id=\"T_100570a8_9674_11ed_832e_b445066bfd9brow12_col2\" class=\"data row12 col2\" >\r\n",
       "  Witset First Nation, ESI/SSAF\r\n",
       "  </td>\n",
       "                        <td id=\"T_100570a8_9674_11ed_832e_b445066bfd9brow12_col3\" class=\"data row12 col3\" >\r\n",
       "  $100,000.00\r\n",
       "  </td>\n",
       "            </tr>\n",
       "            <tr>\n",
       "                                <td id=\"T_100570a8_9674_11ed_832e_b445066bfd9brow13_col0\" class=\"data row13 col0\" >\r\n",
       "  Strategy 3: Strengthen\r\n",
       "  Indigenous Connections to Land and Water\r\n",
       "  </td>\n",
       "                        <td id=\"T_100570a8_9674_11ed_832e_b445066bfd9brow13_col1\" class=\"data row13 col1\" ></td>\n",
       "                        <td id=\"T_100570a8_9674_11ed_832e_b445066bfd9brow13_col2\" class=\"data row13 col2\" ></td>\n",
       "                        <td id=\"T_100570a8_9674_11ed_832e_b445066bfd9brow13_col3\" class=\"data row13 col3\" >\r\n",
       "  $420,000.00\r\n",
       "  </td>\n",
       "            </tr>\n",
       "            <tr>\n",
       "                                <td id=\"T_100570a8_9674_11ed_832e_b445066bfd9brow14_col0\" class=\"data row14 col0\" >\r\n",
       "  3.1 – Develop\r\n",
       "  a First Nations Youth Mentorship capacity building program\r\n",
       "  </td>\n",
       "                        <td id=\"T_100570a8_9674_11ed_832e_b445066bfd9brow14_col1\" class=\"data row14 col1\" >\r\n",
       "  ESI/SSAF\r\n",
       "  </td>\n",
       "                        <td id=\"T_100570a8_9674_11ed_832e_b445066bfd9brow14_col2\" class=\"data row14 col2\" >\r\n",
       "  CWF + CCC, Witset First Nation (Nico Ridge Consulting\r\n",
       "  Inc.), SERN\r\n",
       "  </td>\n",
       "                        <td id=\"T_100570a8_9674_11ed_832e_b445066bfd9brow14_col3\" class=\"data row14 col3\" >\r\n",
       "  $100,000.00\r\n",
       "  </td>\n",
       "            </tr>\n",
       "            <tr>\n",
       "                                <td id=\"T_100570a8_9674_11ed_832e_b445066bfd9brow15_col0\" class=\"data row15 col0\" >\r\n",
       "  3.2 – Engage\r\n",
       "  with Wilp/House Groups for work to occur in their territory\r\n",
       "  </td>\n",
       "                        <td id=\"T_100570a8_9674_11ed_832e_b445066bfd9brow15_col1\" class=\"data row15 col1\" >\r\n",
       "  ESI/SSAF\r\n",
       "  </td>\n",
       "                        <td id=\"T_100570a8_9674_11ed_832e_b445066bfd9brow15_col2\" class=\"data row15 col2\" >\r\n",
       "  CWF, SERN\r\n",
       "  </td>\n",
       "                        <td id=\"T_100570a8_9674_11ed_832e_b445066bfd9brow15_col3\" class=\"data row15 col3\" >\r\n",
       "  $20,000.00\r\n",
       "  </td>\n",
       "            </tr>\n",
       "            <tr>\n",
       "                                <td id=\"T_100570a8_9674_11ed_832e_b445066bfd9brow16_col0\" class=\"data row16 col0\" >\r\n",
       "  3.3 – First\r\n",
       "  Nations guardianship program to monitor fish passage in the watershed\r\n",
       "  </td>\n",
       "                        <td id=\"T_100570a8_9674_11ed_832e_b445066bfd9brow16_col1\" class=\"data row16 col1\" >\r\n",
       "  ESI/SSAF\r\n",
       "  </td>\n",
       "                        <td id=\"T_100570a8_9674_11ed_832e_b445066bfd9brow16_col2\" class=\"data row16 col2\" >\r\n",
       "  Witset First Nation, SERN, Office of the Wet'suwet'en\r\n",
       "  </td>\n",
       "                        <td id=\"T_100570a8_9674_11ed_832e_b445066bfd9brow16_col3\" class=\"data row16 col3\" >\r\n",
       "  $150,000.00\r\n",
       "  </td>\n",
       "            </tr>\n",
       "            <tr>\n",
       "                                <td id=\"T_100570a8_9674_11ed_832e_b445066bfd9brow17_col0\" class=\"data row17 col0\" >\r\n",
       "  3.4 – Knowledge\r\n",
       "  Gap: Identify traditional use areas to help inform where to improve\r\n",
       "  connectivity\r\n",
       "  </td>\n",
       "                        <td id=\"T_100570a8_9674_11ed_832e_b445066bfd9brow17_col1\" class=\"data row17 col1\" >\r\n",
       "  ESI/SSAF\r\n",
       "  </td>\n",
       "                        <td id=\"T_100570a8_9674_11ed_832e_b445066bfd9brow17_col2\" class=\"data row17 col2\" >\r\n",
       "  CWF\r\n",
       "  </td>\n",
       "                        <td id=\"T_100570a8_9674_11ed_832e_b445066bfd9brow17_col3\" class=\"data row17 col3\" >\r\n",
       "  $150,000.00\r\n",
       "  </td>\n",
       "            </tr>\n",
       "            <tr>\n",
       "                                <td id=\"T_100570a8_9674_11ed_832e_b445066bfd9brow18_col0\" class=\"data row18 col0\" >\r\n",
       "  Strategy 4: Progress\r\n",
       "  Tracking Plan\r\n",
       "  </td>\n",
       "                        <td id=\"T_100570a8_9674_11ed_832e_b445066bfd9brow18_col1\" class=\"data row18 col1\" >\r\n",
       "   \r\n",
       "  </td>\n",
       "                        <td id=\"T_100570a8_9674_11ed_832e_b445066bfd9brow18_col2\" class=\"data row18 col2\" >\r\n",
       "   \r\n",
       "  </td>\n",
       "                        <td id=\"T_100570a8_9674_11ed_832e_b445066bfd9brow18_col3\" class=\"data row18 col3\" >\r\n",
       "  TBD\r\n",
       "  </td>\n",
       "            </tr>\n",
       "            <tr>\n",
       "                                <td id=\"T_100570a8_9674_11ed_832e_b445066bfd9brow19_col0\" class=\"data row19 col0\" >\r\n",
       "  4.1– Implement the\r\n",
       "  WCRP Progress Tracking Plan \r\n",
       "  </td>\n",
       "                        <td id=\"T_100570a8_9674_11ed_832e_b445066bfd9brow19_col1\" class=\"data row19 col1\" >\r\n",
       "  CWF, SERN\r\n",
       "  </td>\n",
       "                        <td id=\"T_100570a8_9674_11ed_832e_b445066bfd9brow19_col2\" class=\"data row19 col2\" >\r\n",
       "  TBD\r\n",
       "  </td>\n",
       "                        <td id=\"T_100570a8_9674_11ed_832e_b445066bfd9brow19_col3\" class=\"data row19 col3\" >\r\n",
       "  TBD\r\n",
       "  </td>\n",
       "            </tr>\n",
       "            <tr>\n",
       "                                <td id=\"T_100570a8_9674_11ed_832e_b445066bfd9brow20_col0\" class=\"data row20 col0\" >\r\n",
       "  4.2 – Develop a\r\n",
       "  data catalogue on all current information related to aquatic connectivity in\r\n",
       "  the Bulkley Watershed\r\n",
       "  </td>\n",
       "                        <td id=\"T_100570a8_9674_11ed_832e_b445066bfd9brow20_col1\" class=\"data row20 col1\" >\r\n",
       "  TBD\r\n",
       "  </td>\n",
       "                        <td id=\"T_100570a8_9674_11ed_832e_b445066bfd9brow20_col2\" class=\"data row20 col2\" >\r\n",
       "  CWF\r\n",
       "  </td>\n",
       "                        <td id=\"T_100570a8_9674_11ed_832e_b445066bfd9brow20_col3\" class=\"data row20 col3\" >\r\n",
       "  TBD\r\n",
       "  </td>\n",
       "            </tr>\n",
       "            <tr>\n",
       "                                <td id=\"T_100570a8_9674_11ed_832e_b445066bfd9brow21_col0\" class=\"data row21 col0\" >\r\n",
       "  4.3 – Expand this\r\n",
       "  WCRP to include the Morice River Watershed\r\n",
       "  </td>\n",
       "                        <td id=\"T_100570a8_9674_11ed_832e_b445066bfd9brow21_col1\" class=\"data row21 col1\" >\r\n",
       "  TBD\r\n",
       "  </td>\n",
       "                        <td id=\"T_100570a8_9674_11ed_832e_b445066bfd9brow21_col2\" class=\"data row21 col2\" >\r\n",
       "  CWF\r\n",
       "  </td>\n",
       "                        <td id=\"T_100570a8_9674_11ed_832e_b445066bfd9brow21_col3\" class=\"data row21 col3\" >\r\n",
       "  $50,000.00\r\n",
       "  </td>\n",
       "            </tr>\n",
       "            <tr>\n",
       "                                <td id=\"T_100570a8_9674_11ed_832e_b445066bfd9brow22_col0\" class=\"data row22 col0\" >\r\n",
       "              Total:\r\n",
       "  </td>\n",
       "                        <td id=\"T_100570a8_9674_11ed_832e_b445066bfd9brow22_col1\" class=\"data row22 col1\" ></td>\n",
       "                        <td id=\"T_100570a8_9674_11ed_832e_b445066bfd9brow22_col2\" class=\"data row22 col2\" ></td>\n",
       "                        <td id=\"T_100570a8_9674_11ed_832e_b445066bfd9brow22_col3\" class=\"data row22 col3\" >\r\n",
       "  $67,005,830.00\r\n",
       "  </td>\n",
       "            </tr>\n",
       "            <tr>\n",
       "                                <td id=\"T_100570a8_9674_11ed_832e_b445066bfd9brow23_col0\" class=\"data row23 col0\" >\r\n",
       "  Fundraising\r\n",
       "  total:\r\n",
       "  </td>\n",
       "                        <td id=\"T_100570a8_9674_11ed_832e_b445066bfd9brow23_col1\" class=\"data row23 col1\" ></td>\n",
       "                        <td id=\"T_100570a8_9674_11ed_832e_b445066bfd9brow23_col2\" class=\"data row23 col2\" ></td>\n",
       "                        <td id=\"T_100570a8_9674_11ed_832e_b445066bfd9brow23_col3\" class=\"data row23 col3\" >\r\n",
       "  $9,105,830\r\n",
       "  </td>\n",
       "            </tr>\n",
       "            <tr>\n",
       "                                <td id=\"T_100570a8_9674_11ed_832e_b445066bfd9brow24_col0\" class=\"data row24 col0\" >\r\n",
       "  Proponent/government\r\n",
       "  contribution total:\r\n",
       "  </td>\n",
       "                        <td id=\"T_100570a8_9674_11ed_832e_b445066bfd9brow24_col1\" class=\"data row24 col1\" ></td>\n",
       "                        <td id=\"T_100570a8_9674_11ed_832e_b445066bfd9brow24_col2\" class=\"data row24 col2\" ></td>\n",
       "                        <td id=\"T_100570a8_9674_11ed_832e_b445066bfd9brow24_col3\" class=\"data row24 col3\" >\r\n",
       "  $57,900,000\r\n",
       "  </td>\n",
       "            </tr>\n",
       "    </tbody></table>"
      ],
      "text/plain": [
       "<pandas.io.formats.style.Styler at 0x14a393ff288>"
      ]
     },
     "metadata": {
      "scrapbook": {
       "mime_prefix": "",
       "name": "Table11"
      }
     },
     "output_type": "display_data"
    }
   ],
   "source": [
    "from IPython.display import display\n",
    "import pandas as pd\n",
    "import numpy as np\n",
    "\n",
    "def df_operation(val):\n",
    "    return \"background-color: black; color: white\"\n",
    "\n",
    "\n",
    "data = pd.read_csv('../tables/Table13.csv', index_col=False)\n",
    "\n",
    "data = data.replace(np.nan, '', regex=True)\n",
    "\n",
    "rows = pd.IndexSlice[[0,10,13,18,22,23,24], :]\n",
    "\n",
    "data = data.style.applymap(df_operation, subset=rows).hide_index().set_properties(**{'text-align': 'left'})\n",
    "data.set_table_styles(\n",
    "[dict(selector = 'th', props=[('text-align', 'left')])])\n",
    "\n",
    "glue(\"Table11\", data)"
   ]
  },
  {
   "attachments": {},
   "cell_type": "markdown",
   "metadata": {},
   "source": [
    "```{glue:figure} Table11\n",
    ":name: \"table11\"\n",
    "\n",
    "*Operational plan to support the implementation of strategies and actions to improve connectivity for target species in the Bulkley River watershed.*\n",
    "```"
   ]
  },
  {
   "cell_type": "markdown",
   "metadata": {},
   "source": [
    "# Funding Sources"
   ]
  },
  {
   "cell_type": "code",
   "execution_count": 14,
   "metadata": {
    "tags": [
     "remove-input",
     "remove-output"
    ]
   },
   "outputs": [
    {
     "data": {
      "text/html": [
       "<style  type=\"text/css\" >\n",
       "    #T_100f23ee_9674_11ed_aff4_b445066bfd9b th {\n",
       "          text-align: left;\n",
       "    }#T_100f23ee_9674_11ed_aff4_b445066bfd9brow0_col0,#T_100f23ee_9674_11ed_aff4_b445066bfd9brow0_col1,#T_100f23ee_9674_11ed_aff4_b445066bfd9brow1_col0,#T_100f23ee_9674_11ed_aff4_b445066bfd9brow1_col1,#T_100f23ee_9674_11ed_aff4_b445066bfd9brow2_col0,#T_100f23ee_9674_11ed_aff4_b445066bfd9brow2_col1,#T_100f23ee_9674_11ed_aff4_b445066bfd9brow3_col0,#T_100f23ee_9674_11ed_aff4_b445066bfd9brow3_col1,#T_100f23ee_9674_11ed_aff4_b445066bfd9brow4_col0,#T_100f23ee_9674_11ed_aff4_b445066bfd9brow4_col1,#T_100f23ee_9674_11ed_aff4_b445066bfd9brow5_col0,#T_100f23ee_9674_11ed_aff4_b445066bfd9brow5_col1,#T_100f23ee_9674_11ed_aff4_b445066bfd9brow6_col0,#T_100f23ee_9674_11ed_aff4_b445066bfd9brow6_col1,#T_100f23ee_9674_11ed_aff4_b445066bfd9brow7_col0,#T_100f23ee_9674_11ed_aff4_b445066bfd9brow7_col1,#T_100f23ee_9674_11ed_aff4_b445066bfd9brow8_col0,#T_100f23ee_9674_11ed_aff4_b445066bfd9brow8_col1,#T_100f23ee_9674_11ed_aff4_b445066bfd9brow9_col0,#T_100f23ee_9674_11ed_aff4_b445066bfd9brow9_col1,#T_100f23ee_9674_11ed_aff4_b445066bfd9brow10_col0,#T_100f23ee_9674_11ed_aff4_b445066bfd9brow10_col1,#T_100f23ee_9674_11ed_aff4_b445066bfd9brow11_col0,#T_100f23ee_9674_11ed_aff4_b445066bfd9brow11_col1,#T_100f23ee_9674_11ed_aff4_b445066bfd9brow12_col0,#T_100f23ee_9674_11ed_aff4_b445066bfd9brow12_col1,#T_100f23ee_9674_11ed_aff4_b445066bfd9brow13_col0,#T_100f23ee_9674_11ed_aff4_b445066bfd9brow13_col1{\n",
       "            text-align:  left;\n",
       "        }</style><table id=\"T_100f23ee_9674_11ed_aff4_b445066bfd9b\" ><thead>    <tr>        <th class=\"col_heading level0 col0\" >Funding Source</th>        <th class=\"col_heading level0 col1\" >Spending Restrictions and Other Consideration</th>    </tr></thead><tbody>\n",
       "                <tr>\n",
       "                                <td id=\"T_100f23ee_9674_11ed_aff4_b445066bfd9brow0_col0\" class=\"data row0 col0\" >\r\n",
       "  Land Based Investment\r\n",
       "  Strategy\r\n",
       "  </td>\n",
       "                        <td id=\"T_100f23ee_9674_11ed_aff4_b445066bfd9brow0_col1\" class=\"data row0 col1\" >\r\n",
       "  Assessment and remediation\r\n",
       "  of fish passage using provincial strategic approach. Primarily for\r\n",
       "  remediation of Ministry-owned/orphaned barriers on forest service roads.\r\n",
       "  </td>\n",
       "            </tr>\n",
       "            <tr>\n",
       "                                <td id=\"T_100f23ee_9674_11ed_aff4_b445066bfd9brow1_col0\" class=\"data row1 col0\" >\r\n",
       "  Environmental Enhancement\r\n",
       "  Fund\r\n",
       "  </td>\n",
       "                        <td id=\"T_100f23ee_9674_11ed_aff4_b445066bfd9brow1_col1\" class=\"data row1 col1\" >\r\n",
       "  Fish and wildlife passage\r\n",
       "  improvements and restoration at stream and animal crossings at MOTI roads\r\n",
       "  including culvert retrofits and replacement to restore Pacific salmon and\r\n",
       "  trout access, and wildlife tunnels. Primarily for crossings linked to highway\r\n",
       "  infrastructure.\r\n",
       "  </td>\n",
       "            </tr>\n",
       "            <tr>\n",
       "                                <td id=\"T_100f23ee_9674_11ed_aff4_b445066bfd9brow2_col0\" class=\"data row2 col0\" >\r\n",
       "  Community Salmon Program\r\n",
       "  </td>\n",
       "                        <td id=\"T_100f23ee_9674_11ed_aff4_b445066bfd9brow2_col1\" class=\"data row2 col1\" >\r\n",
       "  For projects supporting the protection, conservation and\r\n",
       "  enhancement or rehabilitation of Pacific salmonids and their habitat. Funding\r\n",
       "  for volunteer and not-for-profit community-based groups. Applicant must have\r\n",
       "  a significant volunteer component to their group and to the project. Requires\r\n",
       "  50% match for funding (volunteer, in-kind, donation or other grants). \r\n",
       "  </td>\n",
       "            </tr>\n",
       "            <tr>\n",
       "                                <td id=\"T_100f23ee_9674_11ed_aff4_b445066bfd9brow3_col0\" class=\"data row3 col0\" >\r\n",
       "  Northern Boundary and\r\n",
       "  Transboundary Rivers Restoration and Enhancement Fund\r\n",
       "  </td>\n",
       "                        <td id=\"T_100f23ee_9674_11ed_aff4_b445066bfd9brow3_col1\" class=\"data row3 col1\" >\r\n",
       "  Supports three activities:\r\n",
       "  (1) develop improved information for resource management; (2) rehabilitate\r\n",
       "  and restore marine and freshwater habitat; and (3) enhance wild stock\r\n",
       "  production through low technology techniques. Emphasis for funding is on\r\n",
       "  stocks managed under the Pacific Salmon Treaty and that contribute\r\n",
       "  significantly to the fisheries in the project area.\r\n",
       "  </td>\n",
       "            </tr>\n",
       "            <tr>\n",
       "                                <td id=\"T_100f23ee_9674_11ed_aff4_b445066bfd9brow4_col0\" class=\"data row4 col0\" >\r\n",
       "  Habitat Conservation Trust\r\n",
       "  Foundation Enhancement and Restoration Grants\r\n",
       "  </td>\n",
       "                        <td id=\"T_100f23ee_9674_11ed_aff4_b445066bfd9brow4_col1\" class=\"data row4 col1\" >\r\n",
       "  Projects that focus on freshwater wild fish, native\r\n",
       "  wildlife species and their habitats, have the potential to achieve a\r\n",
       "  significant conservation outcome, while maintaining or enhancing\r\n",
       "  opportunities for fishing, hunting, trapping, wildlife viewing and associated\r\n",
       "  outdoor recreational activities. Primary focus is on provincially managed\r\n",
       "  fisheries such as Steelhead and Westslope Cutthroat Trout. Requires 50%\r\n",
       "  funding match.\r\n",
       "  </td>\n",
       "            </tr>\n",
       "            <tr>\n",
       "                                <td id=\"T_100f23ee_9674_11ed_aff4_b445066bfd9brow5_col0\" class=\"data row5 col0\" >\r\n",
       "  Environmental Damages Fund\r\n",
       "  </td>\n",
       "                        <td id=\"T_100f23ee_9674_11ed_aff4_b445066bfd9brow5_col1\" class=\"data row5 col1\" >\r\n",
       "  Direct funds received from\r\n",
       "  fines, court orders and voluntary payments to priority projects that will\r\n",
       "  benefit Canada’s natural environment, under four categories of improvement\r\n",
       "  (in order of preference): (1) restoration, (2) environmental quality\r\n",
       "  improvement, (3) research and development, and (4) education and awareness.\r\n",
       "  </td>\n",
       "            </tr>\n",
       "            <tr>\n",
       "                                <td id=\"T_100f23ee_9674_11ed_aff4_b445066bfd9brow6_col0\" class=\"data row6 col0\" >\r\n",
       "  Federal Gas Tax Fund -\r\n",
       "  Community Works Fund\r\n",
       "  </td>\n",
       "                        <td id=\"T_100f23ee_9674_11ed_aff4_b445066bfd9brow6_col1\" class=\"data row6 col1\" >\r\n",
       "  Funding available to local governments from federal gas\r\n",
       "  tax, with funds to be allocated for a variety of municipal\r\n",
       "  projects/initiatives, including local roads/bridges and disaster mitigation.\r\n",
       "  </td>\n",
       "            </tr>\n",
       "            <tr>\n",
       "                                <td id=\"T_100f23ee_9674_11ed_aff4_b445066bfd9brow7_col0\" class=\"data row7 col0\" >\r\n",
       "  Disaster Mitigation and\r\n",
       "  Adaptation Fund\r\n",
       "  </td>\n",
       "                        <td id=\"T_100f23ee_9674_11ed_aff4_b445066bfd9brow7_col1\" class=\"data row7 col1\" >\r\n",
       "  For those projects where\r\n",
       "  flood risk is high: funding available to local, regional, and provincial\r\n",
       "  governments, private sector, non-profit organizations, and Indigenous groups\r\n",
       "  for projects aimed at reducing the socio-economic, environmental and cultural\r\n",
       "  impacts triggered by natural hazards and extreme weather events and taking\r\n",
       "  into consideration current and future impacts of climate change in\r\n",
       "  communities and infrastructure at high risk. Includes both new construction\r\n",
       "  of public infrastructure and modification/reinforcement of existing\r\n",
       "  infrastructure. Projects must have a minimum of $20 M in eligible\r\n",
       "  expenditures and can be bundled together. \r\n",
       "  </td>\n",
       "            </tr>\n",
       "            <tr>\n",
       "                                <td id=\"T_100f23ee_9674_11ed_aff4_b445066bfd9brow8_col0\" class=\"data row8 col0\" >\r\n",
       "  Community Gaming Grants\r\n",
       "  </td>\n",
       "                        <td id=\"T_100f23ee_9674_11ed_aff4_b445066bfd9brow8_col1\" class=\"data row8 col1\" >\r\n",
       "  Funding for non-profit organizations (check funding\r\n",
       "  program guidelines for specific eligibility requirements) for programs that\r\n",
       "  help to protect and improve the environment by: (1) conserving or\r\n",
       "  revitalizing local ecosystems, (2) reducing greenhouse gas emissions, (3) providing\r\n",
       "  community education or engagement opportunities related to the environment\r\n",
       "  and agriculture or (4) supporting the welfare of domestic animals and/or\r\n",
       "  wildlife. Grants range from $100K-250K per year.\r\n",
       "  </td>\n",
       "            </tr>\n",
       "            <tr>\n",
       "                                <td id=\"T_100f23ee_9674_11ed_aff4_b445066bfd9brow9_col0\" class=\"data row9 col0\" >\r\n",
       "  Sitka Foundation\r\n",
       "  </td>\n",
       "                        <td id=\"T_100f23ee_9674_11ed_aff4_b445066bfd9brow9_col1\" class=\"data row9 col1\" >\r\n",
       "  Funding for registered\r\n",
       "  charities, universities, and government agencies (qualified Canadian\r\n",
       "  organizations) for projects related to coastline and watershed conservation\r\n",
       "  and climate change in four key areas: \r\n",
       "  1. land, water, and ocean conservation\r\n",
       "  2. scientific research for nature and the environment\r\n",
       "  3. public engagement around the importance of a healthy environment\r\n",
       "  4. innovative conservation efforts in Canadian communities, at the local,\r\n",
       "  provincial, and federal levels\r\n",
       "  </td>\n",
       "            </tr>\n",
       "            <tr>\n",
       "                                <td id=\"T_100f23ee_9674_11ed_aff4_b445066bfd9brow10_col0\" class=\"data row10 col0\" >\r\n",
       "  TULA Foundation\r\n",
       "  </td>\n",
       "                        <td id=\"T_100f23ee_9674_11ed_aff4_b445066bfd9brow10_col1\" class=\"data row10 col1\" >\r\n",
       "  Supports various environmental programs of interest to\r\n",
       "  the Foundation on a case-by-case basis.\r\n",
       "  </td>\n",
       "            </tr>\n",
       "            <tr>\n",
       "                                <td id=\"T_100f23ee_9674_11ed_aff4_b445066bfd9brow11_col0\" class=\"data row11 col0\" >\r\n",
       "  Vancouver Foundation\r\n",
       "  </td>\n",
       "                        <td id=\"T_100f23ee_9674_11ed_aff4_b445066bfd9brow11_col1\" class=\"data row11 col1\" >\r\n",
       "  Granting agency for\r\n",
       "  community, social and environmental initiatives for qualified Canadian\r\n",
       "  organizations (charitable organizations, universities, government agencies).\r\n",
       "  Granting programs change on an annual basis. \r\n",
       "  </td>\n",
       "            </tr>\n",
       "            <tr>\n",
       "                                <td id=\"T_100f23ee_9674_11ed_aff4_b445066bfd9brow12_col0\" class=\"data row12 col0\" >\r\n",
       "  BC Conservation Foundation Small\r\n",
       "  Project Fund\r\n",
       "  </td>\n",
       "                        <td id=\"T_100f23ee_9674_11ed_aff4_b445066bfd9brow12_col1\" class=\"data row12 col1\" >\r\n",
       "  Funding available to non-profits, fish and wildlife\r\n",
       "  clubs (sportsmen’s associations), businesses, local/regional governments,\r\n",
       "  public organizations and First Nations for projects with demonstrated\r\n",
       "  positive impact for fish, wildlife and habitat, including outreach programs.\r\n",
       "  Preference given to projects where BCCF is not the sole funder.\r\n",
       "  </td>\n",
       "            </tr>\n",
       "            <tr>\n",
       "                                <td id=\"T_100f23ee_9674_11ed_aff4_b445066bfd9brow13_col0\" class=\"data row13 col0\" >\r\n",
       "  Real Estate Foundation of BC\r\n",
       "  General Grants\r\n",
       "   \r\n",
       "  </td>\n",
       "                        <td id=\"T_100f23ee_9674_11ed_aff4_b445066bfd9brow13_col1\" class=\"data row13 col1\" >\r\n",
       "  Funding for First Nations,\r\n",
       "  charities and societies, non-governmental organizations, universities and\r\n",
       "  colleges, trade associations, local and regional governments, and social\r\n",
       "  enterprises registered as C3s for sustainable land use and real estate\r\n",
       "  practices in BC. Funds up to 50% of cash portion of a project.\r\n",
       "  </td>\n",
       "            </tr>\n",
       "    </tbody></table>"
      ],
      "text/plain": [
       "<pandas.io.formats.style.Styler at 0x14a39437d48>"
      ]
     },
     "metadata": {
      "scrapbook": {
       "mime_prefix": "",
       "name": "Table12"
      }
     },
     "output_type": "display_data"
    }
   ],
   "source": [
    "from IPython.display import display\n",
    "import pandas as pd\n",
    "\n",
    "data = pd.read_csv('../tables/Table14.csv', index_col=False)\n",
    "\n",
    "data = data.style.hide_index().set_properties(**{'text-align': 'left'})\n",
    "\n",
    "data.set_table_styles(\n",
    "[dict(selector = 'th', props=[('text-align', 'left')])])\n",
    "\n",
    "glue(\"Table12\", data)"
   ]
  },
  {
   "attachments": {},
   "cell_type": "markdown",
   "metadata": {},
   "source": [
    "```{glue:figure} Table12\n",
    ":name: \"table12\"\n",
    "\n",
    "*Potential funding sources for plan implementation in the Bulkley River watershed. The Canadian Wildlife Federation and the planning team can coordinate proposal submission through these sources.*\n",
    "```"
   ]
  }
 ],
 "metadata": {
  "kernelspec": {
   "display_name": "Python 3.7.12 ('test')",
   "language": "python",
   "name": "python3"
  },
  "language_info": {
   "codemirror_mode": {
    "name": "ipython",
    "version": 3
   },
   "file_extension": ".py",
   "mimetype": "text/x-python",
   "name": "python",
   "nbconvert_exporter": "python",
   "pygments_lexer": "ipython3",
   "version": "3.7.12 | packaged by conda-forge | (default, Oct 26 2021, 05:35:01) [MSC v.1916 64 bit (AMD64)]"
  },
  "orig_nbformat": 4,
  "vscode": {
   "interpreter": {
    "hash": "4d32f471e4c787df35246a436d6b5da50fcc80632abe0dd119be69a8b3537624"
   }
  }
 },
 "nbformat": 4,
 "nbformat_minor": 2
}
