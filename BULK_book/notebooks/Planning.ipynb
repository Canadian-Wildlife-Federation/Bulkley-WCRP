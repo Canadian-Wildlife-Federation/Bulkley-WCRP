{
 "cells": [
  {
   "attachments": {},
   "cell_type": "markdown",
   "metadata": {},
   "source": [
    "```{include} ../content/planning-md.md\n",
    ":end-before: \"# Planning Team\"\n",
    "```"
   ]
  },
  {
   "cell_type": "markdown",
   "metadata": {},
   "source": [
    "# Planning Team"
   ]
  },
  {
   "cell_type": "code",
   "execution_count": 4,
   "metadata": {
    "tags": [
     "remove-input",
     "remove-output"
    ]
   },
   "outputs": [
    {
     "data": {
      "text/html": [
       "<style  type=\"text/css\" >\n",
       "    #T_5b08790a_9673_11ed_8eaf_b445066bfd9b th {\n",
       "          text-align: left;\n",
       "    }#T_5b08790a_9673_11ed_8eaf_b445066bfd9brow0_col0,#T_5b08790a_9673_11ed_8eaf_b445066bfd9brow0_col1,#T_5b08790a_9673_11ed_8eaf_b445066bfd9brow1_col0,#T_5b08790a_9673_11ed_8eaf_b445066bfd9brow1_col1,#T_5b08790a_9673_11ed_8eaf_b445066bfd9brow2_col0,#T_5b08790a_9673_11ed_8eaf_b445066bfd9brow2_col1,#T_5b08790a_9673_11ed_8eaf_b445066bfd9brow3_col0,#T_5b08790a_9673_11ed_8eaf_b445066bfd9brow3_col1,#T_5b08790a_9673_11ed_8eaf_b445066bfd9brow4_col0,#T_5b08790a_9673_11ed_8eaf_b445066bfd9brow4_col1,#T_5b08790a_9673_11ed_8eaf_b445066bfd9brow5_col0,#T_5b08790a_9673_11ed_8eaf_b445066bfd9brow5_col1,#T_5b08790a_9673_11ed_8eaf_b445066bfd9brow6_col0,#T_5b08790a_9673_11ed_8eaf_b445066bfd9brow6_col1,#T_5b08790a_9673_11ed_8eaf_b445066bfd9brow7_col0,#T_5b08790a_9673_11ed_8eaf_b445066bfd9brow7_col1,#T_5b08790a_9673_11ed_8eaf_b445066bfd9brow8_col0,#T_5b08790a_9673_11ed_8eaf_b445066bfd9brow8_col1,#T_5b08790a_9673_11ed_8eaf_b445066bfd9brow9_col0,#T_5b08790a_9673_11ed_8eaf_b445066bfd9brow9_col1,#T_5b08790a_9673_11ed_8eaf_b445066bfd9brow10_col0,#T_5b08790a_9673_11ed_8eaf_b445066bfd9brow10_col1,#T_5b08790a_9673_11ed_8eaf_b445066bfd9brow11_col0,#T_5b08790a_9673_11ed_8eaf_b445066bfd9brow11_col1,#T_5b08790a_9673_11ed_8eaf_b445066bfd9brow12_col0,#T_5b08790a_9673_11ed_8eaf_b445066bfd9brow12_col1,#T_5b08790a_9673_11ed_8eaf_b445066bfd9brow13_col0,#T_5b08790a_9673_11ed_8eaf_b445066bfd9brow13_col1,#T_5b08790a_9673_11ed_8eaf_b445066bfd9brow14_col0,#T_5b08790a_9673_11ed_8eaf_b445066bfd9brow14_col1,#T_5b08790a_9673_11ed_8eaf_b445066bfd9brow15_col0,#T_5b08790a_9673_11ed_8eaf_b445066bfd9brow15_col1,#T_5b08790a_9673_11ed_8eaf_b445066bfd9brow16_col0,#T_5b08790a_9673_11ed_8eaf_b445066bfd9brow16_col1,#T_5b08790a_9673_11ed_8eaf_b445066bfd9brow17_col0,#T_5b08790a_9673_11ed_8eaf_b445066bfd9brow17_col1,#T_5b08790a_9673_11ed_8eaf_b445066bfd9brow18_col0,#T_5b08790a_9673_11ed_8eaf_b445066bfd9brow18_col1{\n",
       "            text-align:  left;\n",
       "        }</style><table id=\"T_5b08790a_9673_11ed_8eaf_b445066bfd9b\" ><thead>    <tr>        <th class=\"col_heading level0 col0\" >Name</th>        <th class=\"col_heading level0 col1\" >Organization</th>    </tr></thead><tbody>\n",
       "                <tr>\n",
       "                                <td id=\"T_5b08790a_9673_11ed_8eaf_b445066bfd9brow0_col0\" class=\"data row0 col0\" >Betty Rebellato</td>\n",
       "                        <td id=\"T_5b08790a_9673_11ed_8eaf_b445066bfd9brow0_col1\" class=\"data row0 col1\" >Canadian Wildlife Federation</td>\n",
       "            </tr>\n",
       "            <tr>\n",
       "                                <td id=\"T_5b08790a_9673_11ed_8eaf_b445066bfd9brow1_col0\" class=\"data row1 col0\" >Nick Mazany-Wright</td>\n",
       "                        <td id=\"T_5b08790a_9673_11ed_8eaf_b445066bfd9brow1_col1\" class=\"data row1 col1\" >Canadian Wildlife Federation</td>\n",
       "            </tr>\n",
       "            <tr>\n",
       "                                <td id=\"T_5b08790a_9673_11ed_8eaf_b445066bfd9brow2_col0\" class=\"data row2 col0\" >Justin Duncan</td>\n",
       "                        <td id=\"T_5b08790a_9673_11ed_8eaf_b445066bfd9brow2_col1\" class=\"data row2 col1\" >Canadian Wildlife Federation</td>\n",
       "            </tr>\n",
       "            <tr>\n",
       "                                <td id=\"T_5b08790a_9673_11ed_8eaf_b445066bfd9brow3_col0\" class=\"data row3 col0\" >Nicolas Lapointe</td>\n",
       "                        <td id=\"T_5b08790a_9673_11ed_8eaf_b445066bfd9brow3_col1\" class=\"data row3 col1\" >Canadian Wildlife Federation</td>\n",
       "            </tr>\n",
       "            <tr>\n",
       "                                <td id=\"T_5b08790a_9673_11ed_8eaf_b445066bfd9brow4_col0\" class=\"data row4 col0\" >Sarah Sra</td>\n",
       "                        <td id=\"T_5b08790a_9673_11ed_8eaf_b445066bfd9brow4_col1\" class=\"data row4 col1\" >Canadian Wildlife Federation</td>\n",
       "            </tr>\n",
       "            <tr>\n",
       "                                <td id=\"T_5b08790a_9673_11ed_8eaf_b445066bfd9brow5_col0\" class=\"data row5 col0\" >Simon Norris</td>\n",
       "                        <td id=\"T_5b08790a_9673_11ed_8eaf_b445066bfd9brow5_col1\" class=\"data row5 col1\" >Hillcrest Geographics</td>\n",
       "            </tr>\n",
       "            <tr>\n",
       "                                <td id=\"T_5b08790a_9673_11ed_8eaf_b445066bfd9brow6_col0\" class=\"data row6 col0\" >Natalie Newman</td>\n",
       "                        <td id=\"T_5b08790a_9673_11ed_8eaf_b445066bfd9brow6_col1\" class=\"data row6 col1\" >Department of Fisheries and Oceans Canada</td>\n",
       "            </tr>\n",
       "            <tr>\n",
       "                                <td id=\"T_5b08790a_9673_11ed_8eaf_b445066bfd9brow7_col0\" class=\"data row7 col0\" >Peter Dekoning</td>\n",
       "                        <td id=\"T_5b08790a_9673_11ed_8eaf_b445066bfd9brow7_col1\" class=\"data row7 col1\" >Department of Fisheries and Oceans Canada</td>\n",
       "            </tr>\n",
       "            <tr>\n",
       "                                <td id=\"T_5b08790a_9673_11ed_8eaf_b445066bfd9brow8_col0\" class=\"data row8 col0\" >Sandra Devcic</td>\n",
       "                        <td id=\"T_5b08790a_9673_11ed_8eaf_b445066bfd9brow8_col1\" class=\"data row8 col1\" >Department of Fisheries and Oceans Canada</td>\n",
       "            </tr>\n",
       "            <tr>\n",
       "                                <td id=\"T_5b08790a_9673_11ed_8eaf_b445066bfd9brow9_col0\" class=\"data row9 col0\" >Brian Williams</td>\n",
       "                        <td id=\"T_5b08790a_9673_11ed_8eaf_b445066bfd9brow9_col1\" class=\"data row9 col1\" >Gitxsan Nation</td>\n",
       "            </tr>\n",
       "            <tr>\n",
       "                                <td id=\"T_5b08790a_9673_11ed_8eaf_b445066bfd9brow10_col0\" class=\"data row10 col0\" >Elaine Sampson</td>\n",
       "                        <td id=\"T_5b08790a_9673_11ed_8eaf_b445066bfd9brow10_col1\" class=\"data row10 col1\" >Gitxsan Nation</td>\n",
       "            </tr>\n",
       "            <tr>\n",
       "                                <td id=\"T_5b08790a_9673_11ed_8eaf_b445066bfd9brow11_col0\" class=\"data row11 col0\" >Gordon Sebastian</td>\n",
       "                        <td id=\"T_5b08790a_9673_11ed_8eaf_b445066bfd9brow11_col1\" class=\"data row11 col1\" >Gitxsan Nation</td>\n",
       "            </tr>\n",
       "            <tr>\n",
       "                                <td id=\"T_5b08790a_9673_11ed_8eaf_b445066bfd9brow12_col0\" class=\"data row12 col0\" >John Degagne</td>\n",
       "                        <td id=\"T_5b08790a_9673_11ed_8eaf_b445066bfd9brow12_col1\" class=\"data row12 col1\" >Ministry of Forests, Lands and Natural Resource Operations</td>\n",
       "            </tr>\n",
       "            <tr>\n",
       "                                <td id=\"T_5b08790a_9673_11ed_8eaf_b445066bfd9brow13_col0\" class=\"data row13 col0\" >Al Irvine</td>\n",
       "                        <td id=\"T_5b08790a_9673_11ed_8eaf_b445066bfd9brow13_col1\" class=\"data row13 col1\" >Society for Ecosystem Restoration in Northern BC</td>\n",
       "            </tr>\n",
       "            <tr>\n",
       "                                <td id=\"T_5b08790a_9673_11ed_8eaf_b445066bfd9brow14_col0\" class=\"data row14 col0\" >Sean Mitchell</td>\n",
       "                        <td id=\"T_5b08790a_9673_11ed_8eaf_b445066bfd9brow14_col1\" class=\"data row14 col1\" >Skeena Sustainability Assessment Forum</td>\n",
       "            </tr>\n",
       "            <tr>\n",
       "                                <td id=\"T_5b08790a_9673_11ed_8eaf_b445066bfd9brow15_col0\" class=\"data row15 col0\" >Jesse Stoeppler</td>\n",
       "                        <td id=\"T_5b08790a_9673_11ed_8eaf_b445066bfd9brow15_col1\" class=\"data row15 col1\" >Skeena Watershed Conservation Coalition</td>\n",
       "            </tr>\n",
       "            <tr>\n",
       "                                <td id=\"T_5b08790a_9673_11ed_8eaf_b445066bfd9brow16_col0\" class=\"data row16 col0\" >David Dewit</td>\n",
       "                        <td id=\"T_5b08790a_9673_11ed_8eaf_b445066bfd9brow16_col1\" class=\"data row16 col1\" >Office of the Wet’suwet’en</td>\n",
       "            </tr>\n",
       "            <tr>\n",
       "                                <td id=\"T_5b08790a_9673_11ed_8eaf_b445066bfd9brow17_col0\" class=\"data row17 col0\" >Mike Ridsdale</td>\n",
       "                        <td id=\"T_5b08790a_9673_11ed_8eaf_b445066bfd9brow17_col1\" class=\"data row17 col1\" >Office of the Wet’suwet’en</td>\n",
       "            </tr>\n",
       "            <tr>\n",
       "                                <td id=\"T_5b08790a_9673_11ed_8eaf_b445066bfd9brow18_col0\" class=\"data row18 col0\" >Dallas Nikal</td>\n",
       "                        <td id=\"T_5b08790a_9673_11ed_8eaf_b445066bfd9brow18_col1\" class=\"data row18 col1\" >Witset First Nation</td>\n",
       "            </tr>\n",
       "    </tbody></table>"
      ],
      "text/plain": [
       "<pandas.io.formats.style.Styler at 0x1f967d57108>"
      ]
     },
     "metadata": {
      "scrapbook": {
       "mime_prefix": "",
       "name": "Table1"
      }
     },
     "output_type": "display_data"
    }
   ],
   "source": [
    "import pandas as pd\n",
    "import warnings\n",
    "from myst_nb import glue\n",
    "#from IPython.display import display, HTML\n",
    "\n",
    "warnings.filterwarnings('ignore')\n",
    "\n",
    "\n",
    "data = pd.read_csv('../tables/planning_team.csv', index_col=False)\n",
    "\n",
    "data = data.style.hide_index().set_properties(**{'text-align': 'left'})\n",
    "\n",
    "data.set_table_styles(\n",
    "[dict(selector = 'th', props=[('text-align', 'left')])])\n",
    "\n",
    "glue(\"Table1\", data)\n",
    "\n",
    "\n",
    "#newerror\n"
   ]
  },
  {
   "attachments": {},
   "cell_type": "markdown",
   "metadata": {},
   "source": [
    "```{glue:figure} Table1\n",
    ":name: \"table1\"\n",
    "\n",
    "*Bulkley River watershed WCRP planning team members. Planning team members contributed to the development of this plan by participating in a series of workshops and document and data review. The plan was generated based on the input and feedback of the local groups and organizations list in this table.*\n",
    "```"
   ]
  },
  {
   "cell_type": "markdown",
   "metadata": {},
   "source": [
    "# Key Actors\n",
    "\n"
   ]
  },
  {
   "cell_type": "code",
   "execution_count": 5,
   "metadata": {
    "tags": [
     "remove-input",
     "remove-output"
    ]
   },
   "outputs": [
    {
     "data": {
      "text/html": [
       "<style  type=\"text/css\" >\n",
       "    #T_6209a550_9673_11ed_a701_b445066bfd9b th {\n",
       "          text-align: left;\n",
       "    }#T_6209a550_9673_11ed_a701_b445066bfd9brow0_col0,#T_6209a550_9673_11ed_a701_b445066bfd9brow0_col1,#T_6209a550_9673_11ed_a701_b445066bfd9brow1_col0,#T_6209a550_9673_11ed_a701_b445066bfd9brow1_col1,#T_6209a550_9673_11ed_a701_b445066bfd9brow2_col0,#T_6209a550_9673_11ed_a701_b445066bfd9brow2_col1,#T_6209a550_9673_11ed_a701_b445066bfd9brow3_col0,#T_6209a550_9673_11ed_a701_b445066bfd9brow3_col1,#T_6209a550_9673_11ed_a701_b445066bfd9brow4_col0,#T_6209a550_9673_11ed_a701_b445066bfd9brow4_col1,#T_6209a550_9673_11ed_a701_b445066bfd9brow5_col0,#T_6209a550_9673_11ed_a701_b445066bfd9brow5_col1,#T_6209a550_9673_11ed_a701_b445066bfd9brow6_col0,#T_6209a550_9673_11ed_a701_b445066bfd9brow6_col1,#T_6209a550_9673_11ed_a701_b445066bfd9brow7_col0,#T_6209a550_9673_11ed_a701_b445066bfd9brow7_col1,#T_6209a550_9673_11ed_a701_b445066bfd9brow8_col0,#T_6209a550_9673_11ed_a701_b445066bfd9brow8_col1,#T_6209a550_9673_11ed_a701_b445066bfd9brow9_col0,#T_6209a550_9673_11ed_a701_b445066bfd9brow9_col1,#T_6209a550_9673_11ed_a701_b445066bfd9brow10_col0,#T_6209a550_9673_11ed_a701_b445066bfd9brow10_col1,#T_6209a550_9673_11ed_a701_b445066bfd9brow11_col0,#T_6209a550_9673_11ed_a701_b445066bfd9brow11_col1,#T_6209a550_9673_11ed_a701_b445066bfd9brow12_col0,#T_6209a550_9673_11ed_a701_b445066bfd9brow12_col1{\n",
       "            text-align:  left;\n",
       "        }</style><table id=\"T_6209a550_9673_11ed_a701_b445066bfd9b\" ><thead>    <tr>        <th class=\"col_heading level0 col0\" >Individual or Organization Name</th>        <th class=\"col_heading level0 col1\" >Role and Primary Interest</th>    </tr></thead><tbody>\n",
       "                <tr>\n",
       "                                <td id=\"T_6209a550_9673_11ed_a701_b445066bfd9brow0_col0\" class=\"data row0 col0\" >B.C. Fish Passage Technical Working Group</td>\n",
       "                        <td id=\"T_6209a550_9673_11ed_a701_b445066bfd9brow0_col1\" class=\"data row0 col1\" >The provincial government of B.C. can assist with local knowledge, data, expertise and can help facilitate barrier remediation work. </td>\n",
       "            </tr>\n",
       "            <tr>\n",
       "                                <td id=\"T_6209a550_9673_11ed_a701_b445066bfd9brow1_col0\" class=\"data row1 col0\" >Cindy Verbeek/ A Rocha Canada, Upper Bulkley Streamkeepers</td>\n",
       "                        <td id=\"T_6209a550_9673_11ed_a701_b445066bfd9brow1_col1\" class=\"data row1 col1\" >A Rocha educates and coordinates environmental stewardship activities for local people in the upper Bulkley watershed and can advise and support where needed.  A Rocha Canada runs the Upper Bulkley River Streamkeepers project working with local environmental organizations, churches, schools, governments and citizens to ensure the watershed is healthy and flourishing. They have bio-inventory surveying data, water temperature data, and can help ensure that salmon reach their spawning ground. </td>\n",
       "            </tr>\n",
       "            <tr>\n",
       "                                <td id=\"T_6209a550_9673_11ed_a701_b445066bfd9brow2_col0\" class=\"data row2 col0\" >Canadian National Rail (CN Rail)</td>\n",
       "                        <td id=\"T_6209a550_9673_11ed_a701_b445066bfd9brow2_col1\" class=\"data row2 col1\" >CN Rail is a major proponent and barrier owner that can play a role in improving and replacing crossings in the valley bottom of the Bulkley River watershed. </td>\n",
       "            </tr>\n",
       "            <tr>\n",
       "                                <td id=\"T_6209a550_9673_11ed_a701_b445066bfd9brow3_col0\" class=\"data row3 col0\" >David Wilford – Ministry of Forests, Lands, Natural Resource Operations and Rural Development (FLNRO)</td>\n",
       "                        <td id=\"T_6209a550_9673_11ed_a701_b445066bfd9brow3_col1\" class=\"data row3 col1\" >Dave Wilford is a hydrologist and researcher working in the watershed. </td>\n",
       "            </tr>\n",
       "            <tr>\n",
       "                                <td id=\"T_6209a550_9673_11ed_a701_b445066bfd9brow4_col0\" class=\"data row4 col0\" >Gitksan Watershed Authorities</td>\n",
       "                        <td id=\"T_6209a550_9673_11ed_a701_b445066bfd9brow4_col1\" class=\"data row4 col1\" >Gitksan Watershed Authorities is a traditional and science-based body of fisheries professionals, biologists, field technicians, community leaders and support staff. This group is governed according to the traditional Gitksan house system. The GWA functions to represent the Gitksan for the management of fisheries on the Skeena and within the Gitksan territories.</td>\n",
       "            </tr>\n",
       "            <tr>\n",
       "                                <td id=\"T_6209a550_9673_11ed_a701_b445066bfd9brow5_col0\" class=\"data row5 col0\" >Jeff Anderson</td>\n",
       "                        <td id=\"T_6209a550_9673_11ed_a701_b445066bfd9brow5_col1\" class=\"data row5 col1\" >Jeff Anderson is a hydrologist at Geomorphic Consulting working in the watershed. </td>\n",
       "            </tr>\n",
       "            <tr>\n",
       "                                <td id=\"T_6209a550_9673_11ed_a701_b445066bfd9brow6_col0\" class=\"data row6 col0\" >Skeena Knowledge Trust</td>\n",
       "                        <td id=\"T_6209a550_9673_11ed_a701_b445066bfd9brow6_col1\" class=\"data row6 col1\" >The Skeena Knowledge Trust can help with data management. </td>\n",
       "            </tr>\n",
       "            <tr>\n",
       "                                <td id=\"T_6209a550_9673_11ed_a701_b445066bfd9brow7_col0\" class=\"data row7 col0\" >Ken Rabnett</td>\n",
       "                        <td id=\"T_6209a550_9673_11ed_a701_b445066bfd9brow7_col1\" class=\"data row7 col1\" >Ken Rabnett is a researcher, field lead and an excellent source of local knowledge.</td>\n",
       "            </tr>\n",
       "            <tr>\n",
       "                                <td id=\"T_6209a550_9673_11ed_a701_b445066bfd9brow8_col0\" class=\"data row8 col0\" >Ministry of Transportation and Infrastructure (MOTI)</td>\n",
       "                        <td id=\"T_6209a550_9673_11ed_a701_b445066bfd9brow8_col1\" class=\"data row8 col1\" >MOTI is a major proponent and barrier owner that can play a role in improving and replacing crossings in the valley bottom of the Bulkley River watershed.</td>\n",
       "            </tr>\n",
       "            <tr>\n",
       "                                <td id=\"T_6209a550_9673_11ed_a701_b445066bfd9brow9_col0\" class=\"data row9 col0\" >Ministry of Forests, Lands, Natural Resource Operations, and Rural Development (FLNRORD)</td>\n",
       "                        <td id=\"T_6209a550_9673_11ed_a701_b445066bfd9brow9_col1\" class=\"data row9 col1\" >FLNRORD can assist with engineering and design work for remediation projects. </td>\n",
       "            </tr>\n",
       "            <tr>\n",
       "                                <td id=\"T_6209a550_9673_11ed_a701_b445066bfd9brow10_col0\" class=\"data row10 col0\" >Environmental Stewardship Initiative – Skeena Sustainability Assessment Forum (ESI:SSAF)</td>\n",
       "                        <td id=\"T_6209a550_9673_11ed_a701_b445066bfd9brow10_col1\" class=\"data row10 col1\" >ESI:SSAF is a forum that allows first Nations and the Province to Fully collaborate to enhance environmental sustainability, and to address First Nation’s long standing concerns with stewardship of the land and cumulative impacts in their traditional territories by creating meaningful space for traditional ecological knowledge alongside western science. ESI:SSAFF should be engaged to coordinate local implementation of the outcomes of the WCRP and support future planning updates.</td>\n",
       "            </tr>\n",
       "            <tr>\n",
       "                                <td id=\"T_6209a550_9673_11ed_a701_b445066bfd9brow11_col0\" class=\"data row11 col0\" >SkeenaWild Conservation Trust</td>\n",
       "                        <td id=\"T_6209a550_9673_11ed_a701_b445066bfd9brow11_col1\" class=\"data row11 col1\" >SkeenaWild engages in applied scientific research on salmon ecosystems and can help provide data. </td>\n",
       "            </tr>\n",
       "            <tr>\n",
       "                                <td id=\"T_6209a550_9673_11ed_a701_b445066bfd9brow12_col0\" class=\"data row12 col0\" >Stu Barns/Skeena Fisheries Commission</td>\n",
       "                        <td id=\"T_6209a550_9673_11ed_a701_b445066bfd9brow12_col1\" class=\"data row12 col1\" >The Skeena Fisheries Commission is an umbrella organization for First Nations and works directly with the Office of the Wet’suwet’en and the Gitxsan Watershed Authority. They can advise and support where needed. </td>\n",
       "            </tr>\n",
       "    </tbody></table>"
      ],
      "text/plain": [
       "<pandas.io.formats.style.Styler at 0x1f96a8f81c8>"
      ]
     },
     "metadata": {
      "scrapbook": {
       "mime_prefix": "",
       "name": "Table2"
      }
     },
     "output_type": "display_data"
    }
   ],
   "source": [
    "\n",
    "import pandas as pd\n",
    "import warnings\n",
    "\n",
    "warnings.filterwarnings('ignore')\n",
    "\n",
    "data = pd.read_csv('../tables/key_actors.csv', index_col=False)\n",
    "\n",
    "data = data.style.hide_index().set_properties(**{'text-align': 'left'})\n",
    "\n",
    "data.set_table_styles(\n",
    "[dict(selector = 'th', props=[('text-align', 'left')])])\n",
    "\n",
    "glue(\"Table2\", data)"
   ]
  },
  {
   "attachments": {},
   "cell_type": "markdown",
   "metadata": {},
   "source": [
    "```{glue:figure} Table2\n",
    ":name: \"table2\"\n",
    "\n",
    "*Additional Key Actors in the Bulkley River watershed. Key Actors are the individuals, groups, and/or organizations, outside of the planning team, with influence and relevant experience in the watershed, whose engagement will be critical for the successful implementation of this WCRP.* \n",
    "```"
   ]
  },
  {
   "attachments": {},
   "cell_type": "markdown",
   "metadata": {},
   "source": [
    "```{include} ../content/planning-md.md\n",
    ":start-after: \"# Project Scope\"\n",
    ":end-before: \"The primary geographic scope of this WCRP\"\n",
    "```"
   ]
  },
  {
   "attachments": {},
   "cell_type": "markdown",
   "metadata": {},
   "source": [
    "```{figure} ../figures/figure1.png\n",
    "---\n",
    "height: 400px\n",
    "width: 1000px\n",
    "name: fig1\n",
    "---\n",
    "*The primary geographic scope — the Bulkley River watershed, excluding the Morice River drainage.*\n",
    "```"
   ]
  },
  {
   "attachments": {},
   "cell_type": "markdown",
   "metadata": {},
   "source": [
    "```{include} ../content/planning-md.md\n",
    ":start-after: \"(i.e., road and rail lines) in the watershed.\"\n",
    ":end-before: \"The Horsefly River watershed comprises parts of Secwepemcúl’ecw\"\n",
    "```"
   ]
  },
  {
   "cell_type": "code",
   "execution_count": 6,
   "metadata": {
    "tags": [
     "remove-input",
     "remove-output"
    ]
   },
   "outputs": [
    {
     "data": {
      "text/html": [
       "<style  type=\"text/css\" >\n",
       "    #T_66203852_9673_11ed_98ce_b445066bfd9b th {\n",
       "          text-align: left;\n",
       "    }#T_66203852_9673_11ed_98ce_b445066bfd9brow0_col0,#T_66203852_9673_11ed_98ce_b445066bfd9brow0_col1,#T_66203852_9673_11ed_98ce_b445066bfd9brow0_col2,#T_66203852_9673_11ed_98ce_b445066bfd9brow0_col3,#T_66203852_9673_11ed_98ce_b445066bfd9brow1_col0,#T_66203852_9673_11ed_98ce_b445066bfd9brow1_col1,#T_66203852_9673_11ed_98ce_b445066bfd9brow1_col2,#T_66203852_9673_11ed_98ce_b445066bfd9brow1_col3,#T_66203852_9673_11ed_98ce_b445066bfd9brow2_col0,#T_66203852_9673_11ed_98ce_b445066bfd9brow2_col1,#T_66203852_9673_11ed_98ce_b445066bfd9brow2_col2,#T_66203852_9673_11ed_98ce_b445066bfd9brow2_col3,#T_66203852_9673_11ed_98ce_b445066bfd9brow3_col0,#T_66203852_9673_11ed_98ce_b445066bfd9brow3_col1,#T_66203852_9673_11ed_98ce_b445066bfd9brow3_col2,#T_66203852_9673_11ed_98ce_b445066bfd9brow3_col3{\n",
       "            text-align:  left;\n",
       "        }</style><table id=\"T_66203852_9673_11ed_98ce_b445066bfd9b\" ><thead>    <tr>        <th class=\"col_heading level0 col0\" >Gitxsanimax</th>        <th class=\"col_heading level0 col1\" >Witsuwit'en</th>        <th class=\"col_heading level0 col2\" >Common Name</th>        <th class=\"col_heading level0 col3\" >Scientific Name</th>    </tr></thead><tbody>\n",
       "                <tr>\n",
       "                                <td id=\"T_66203852_9673_11ed_98ce_b445066bfd9brow0_col0\" class=\"data row0 col0\" >Ya’aa</td>\n",
       "                        <td id=\"T_66203852_9673_11ed_98ce_b445066bfd9brow0_col1\" class=\"data row0 col1\" >Ggïs</td>\n",
       "                        <td id=\"T_66203852_9673_11ed_98ce_b445066bfd9brow0_col2\" class=\"data row0 col2\" >Chinook Salmon</td>\n",
       "                        <td id=\"T_66203852_9673_11ed_98ce_b445066bfd9brow0_col3\" class=\"data row0 col3\" >Oncorhynchus tshawytscha</td>\n",
       "            </tr>\n",
       "            <tr>\n",
       "                                <td id=\"T_66203852_9673_11ed_98ce_b445066bfd9brow1_col0\" class=\"data row1 col0\" >Eek</td>\n",
       "                        <td id=\"T_66203852_9673_11ed_98ce_b445066bfd9brow1_col1\" class=\"data row1 col1\" >Deedzex</td>\n",
       "                        <td id=\"T_66203852_9673_11ed_98ce_b445066bfd9brow1_col2\" class=\"data row1 col2\" >Coho Salmon</td>\n",
       "                        <td id=\"T_66203852_9673_11ed_98ce_b445066bfd9brow1_col3\" class=\"data row1 col3\" >Oncorhynchus kisutch</td>\n",
       "            </tr>\n",
       "            <tr>\n",
       "                                <td id=\"T_66203852_9673_11ed_98ce_b445066bfd9brow2_col0\" class=\"data row2 col0\" >Mi’soo</td>\n",
       "                        <td id=\"T_66203852_9673_11ed_98ce_b445066bfd9brow2_col1\" class=\"data row2 col1\" >Taalook</td>\n",
       "                        <td id=\"T_66203852_9673_11ed_98ce_b445066bfd9brow2_col2\" class=\"data row2 col2\" >Sockeye Salmon</td>\n",
       "                        <td id=\"T_66203852_9673_11ed_98ce_b445066bfd9brow2_col3\" class=\"data row2 col3\" >Oncorhynchus nerka</td>\n",
       "            </tr>\n",
       "            <tr>\n",
       "                                <td id=\"T_66203852_9673_11ed_98ce_b445066bfd9brow3_col0\" class=\"data row3 col0\" >Milit</td>\n",
       "                        <td id=\"T_66203852_9673_11ed_98ce_b445066bfd9brow3_col1\" class=\"data row3 col1\" >Tësdlï</td>\n",
       "                        <td id=\"T_66203852_9673_11ed_98ce_b445066bfd9brow3_col2\" class=\"data row3 col2\" >Steelhead</td>\n",
       "                        <td id=\"T_66203852_9673_11ed_98ce_b445066bfd9brow3_col3\" class=\"data row3 col3\" >Oncorhynchus mykiss</td>\n",
       "            </tr>\n",
       "    </tbody></table>"
      ],
      "text/plain": [
       "<pandas.io.formats.style.Styler at 0x1f96a968188>"
      ]
     },
     "metadata": {
      "scrapbook": {
       "mime_prefix": "",
       "name": "Table3"
      }
     },
     "output_type": "display_data"
    }
   ],
   "source": [
    "\n",
    "import pandas as pd\n",
    "import warnings\n",
    "\n",
    "warnings.filterwarnings('ignore')\n",
    "\n",
    "data = pd.read_csv('../tables/species_names.csv', index_col=False)\n",
    "\n",
    "data = data.style.hide_index().set_properties(**{'text-align': 'left'})\n",
    "\n",
    "data.set_table_styles(\n",
    "[dict(selector = 'th', props=[('text-align', 'left')])])\n",
    "\n",
    "glue(\"Table3\", data)"
   ]
  },
  {
   "attachments": {},
   "cell_type": "markdown",
   "metadata": {},
   "source": [
    "```{glue:figure} Table3\n",
    ":name: \"table3\"\n",
    "\n",
    "*Target fish species in the Bulkley River watershed. The Gitxsanimax, Witsuwit'en, and Western common and scientific species names are provided.*\n",
    "```"
   ]
  },
  {
   "attachments": {},
   "cell_type": "markdown",
   "metadata": {},
   "source": [
    "```{include} ../content/planning-md.md\n",
    ":start-after: \"sustenance and trading economies  ({numref}`table3`; Irvine 2021).\"\n",
    ":end-before: \"# Target Species\"\n",
    "```"
   ]
  },
  {
   "attachments": {},
   "cell_type": "markdown",
   "metadata": {},
   "source": [
    "```{figure} ../figures/figure2.png\n",
    "---\n",
    "height: 400px\n",
    "width: 1000px\n",
    "name: fig2\n",
    "---\n",
    "*Potentially accessible stream segments within the Bulkley River watershed. These do not represent useable habitat types, but rather identifies the stream segments within which habitat modelling and barrier mapping and prioritization was undertaken.*\n",
    "```"
   ]
  },
  {
   "attachments": {},
   "cell_type": "markdown",
   "metadata": {},
   "source": [
    "```{include} ../content/planning-md.md\n",
    ":start-after: \"and action planning {cite}`Mazany-Wright2021-rz`.\"\n",
    ":end-before: \"### Chinook Salmon | Ya’aa | Ggïs | Oncorhynchus tshawytscha\"\n",
    "```"
   ]
  },
  {
   "attachments": {},
   "cell_type": "markdown",
   "metadata": {},
   "source": [
    "### Chinook Salmon | Ya’aa | Ggïs | Oncorhynchus tshawytscha"
   ]
  },
  {
   "cell_type": "code",
   "execution_count": 7,
   "metadata": {
    "tags": [
     "remove-input"
    ]
   },
   "outputs": [
    {
     "data": {
      "text/html": [
       "<style  type=\"text/css\" >\n",
       "    #T_69e80a00_9673_11ed_950e_b445066bfd9b th {\n",
       "          text-align: left;\n",
       "    }#T_69e80a00_9673_11ed_950e_b445066bfd9brow0_col0,#T_69e80a00_9673_11ed_950e_b445066bfd9brow0_col1,#T_69e80a00_9673_11ed_950e_b445066bfd9brow0_col2,#T_69e80a00_9673_11ed_950e_b445066bfd9brow0_col3,#T_69e80a00_9673_11ed_950e_b445066bfd9brow0_col4,#T_69e80a00_9673_11ed_950e_b445066bfd9brow1_col0,#T_69e80a00_9673_11ed_950e_b445066bfd9brow1_col1,#T_69e80a00_9673_11ed_950e_b445066bfd9brow1_col2,#T_69e80a00_9673_11ed_950e_b445066bfd9brow1_col3,#T_69e80a00_9673_11ed_950e_b445066bfd9brow1_col4{\n",
       "            text-align:  left;\n",
       "        }</style><table id=\"T_69e80a00_9673_11ed_950e_b445066bfd9b\" ><thead>    <tr>        <th class=\"col_heading level0 col0\" >Conservation Unit</th>        <th class=\"col_heading level0 col1\" >Biological Status</th>        <th class=\"col_heading level0 col2\" >Run timing</th>        <th class=\"col_heading level0 col3\" >Trend in spawner abundance (all available data)</th>        <th class=\"col_heading level0 col4\" >Trend in spawner abundance (last 3 generations)</th>    </tr></thead><tbody>\n",
       "                <tr>\n",
       "                                <td id=\"T_69e80a00_9673_11ed_950e_b445066bfd9brow0_col0\" class=\"data row0 col0\" >Middle Skeena – Mainstem Tributaries</td>\n",
       "                        <td id=\"T_69e80a00_9673_11ed_950e_b445066bfd9brow0_col1\" class=\"data row0 col1\" >Good</td>\n",
       "                        <td id=\"T_69e80a00_9673_11ed_950e_b445066bfd9brow0_col2\" class=\"data row0 col2\" >July-September</td>\n",
       "                        <td id=\"T_69e80a00_9673_11ed_950e_b445066bfd9brow0_col3\" class=\"data row0 col3\" >575%</td>\n",
       "                        <td id=\"T_69e80a00_9673_11ed_950e_b445066bfd9brow0_col4\" class=\"data row0 col4\" >-63%</td>\n",
       "            </tr>\n",
       "            <tr>\n",
       "                                <td id=\"T_69e80a00_9673_11ed_950e_b445066bfd9brow1_col0\" class=\"data row1 col0\" >Upper Bulkley River</td>\n",
       "                        <td id=\"T_69e80a00_9673_11ed_950e_b445066bfd9brow1_col1\" class=\"data row1 col1\" >Data Deficient</td>\n",
       "                        <td id=\"T_69e80a00_9673_11ed_950e_b445066bfd9brow1_col2\" class=\"data row1 col2\" >Data Deficient</td>\n",
       "                        <td id=\"T_69e80a00_9673_11ed_950e_b445066bfd9brow1_col3\" class=\"data row1 col3\" >Data Deficient</td>\n",
       "                        <td id=\"T_69e80a00_9673_11ed_950e_b445066bfd9brow1_col4\" class=\"data row1 col4\" >Data Deficient</td>\n",
       "            </tr>\n",
       "    </tbody></table>"
      ],
      "text/plain": [
       "<pandas.io.formats.style.Styler at 0x1f96a8f8708>"
      ]
     },
     "execution_count": 7,
     "metadata": {},
     "output_type": "execute_result"
    }
   ],
   "source": [
    "from IPython.display import display, HTML\n",
    "import pandas as pd\n",
    "import warnings\n",
    "\n",
    "warnings.filterwarnings('ignore')\n",
    "\n",
    "data = pd.read_csv('../tables/Chinook1.csv', index_col=False)\n",
    "\n",
    "data = data.style.hide_index().set_properties(**{'text-align': 'left'})\n",
    "\n",
    "data.set_table_styles(\n",
    "[dict(selector = 'th', props=[('text-align', 'left')])])\n"
   ]
  },
  {
   "attachments": {},
   "cell_type": "markdown",
   "metadata": {},
   "source": [
    "\n",
    "```{glue:figure} Table4\n",
    ":name: \"table4\"\n",
    "\n",
    "*Chinook Salmon Conservation Units assessments in the Bulkley River watershed. Assessments undertaken by the [Pacific Salmon Foundation](https://www.salmonexplorer.ca/#!/skeena/chinook)(2020).*\n",
    "```"
   ]
  },
  {
   "attachments": {},
   "cell_type": "markdown",
   "metadata": {},
   "source": [
    "```{include} ../content/planning-md.md\n",
    ":start-after: \"### Chinook Salmon | Ya’aa | Ggïs | Oncorhynchus tshawytscha\"\n",
    ":end-before: \"### Coho Salmon | Eek | Deedzex | Oncorhynchus kisutch\"\n",
    "```"
   ]
  },
  {
   "attachments": {},
   "cell_type": "markdown",
   "metadata": {},
   "source": [
    "### Coho Salmon | Eek | Deedzex | Oncorhynchus kisutch"
   ]
  },
  {
   "cell_type": "code",
   "execution_count": 8,
   "metadata": {
    "tags": [
     "remove-input",
     "remove-output"
    ]
   },
   "outputs": [
    {
     "data": {
      "text/html": [
       "<style  type=\"text/css\" >\n",
       "    #T_79794064_9673_11ed_ba52_b445066bfd9b th {\n",
       "          text-align: left;\n",
       "    }#T_79794064_9673_11ed_ba52_b445066bfd9brow0_col0,#T_79794064_9673_11ed_ba52_b445066bfd9brow0_col1,#T_79794064_9673_11ed_ba52_b445066bfd9brow0_col2,#T_79794064_9673_11ed_ba52_b445066bfd9brow0_col3,#T_79794064_9673_11ed_ba52_b445066bfd9brow0_col4{\n",
       "            text-align:  left;\n",
       "        }</style><table id=\"T_79794064_9673_11ed_ba52_b445066bfd9b\" ><thead>    <tr>        <th class=\"col_heading level0 col0\" >Conservation Unit</th>        <th class=\"col_heading level0 col1\" >Biological Status</th>        <th class=\"col_heading level0 col2\" >Run timing</th>        <th class=\"col_heading level0 col3\" >Trend in spawner abundance (all available data)</th>        <th class=\"col_heading level0 col4\" >Trend in spawner abundance (last 3 generations)</th>    </tr></thead><tbody>\n",
       "                <tr>\n",
       "                                <td id=\"T_79794064_9673_11ed_ba52_b445066bfd9brow0_col0\" class=\"data row0 col0\" >Middle Skeena</td>\n",
       "                        <td id=\"T_79794064_9673_11ed_ba52_b445066bfd9brow0_col1\" class=\"data row0 col1\" >Good</td>\n",
       "                        <td id=\"T_79794064_9673_11ed_ba52_b445066bfd9brow0_col2\" class=\"data row0 col2\" >July-September</td>\n",
       "                        <td id=\"T_79794064_9673_11ed_ba52_b445066bfd9brow0_col3\" class=\"data row0 col3\" >82%</td>\n",
       "                        <td id=\"T_79794064_9673_11ed_ba52_b445066bfd9brow0_col4\" class=\"data row0 col4\" >-26%</td>\n",
       "            </tr>\n",
       "    </tbody></table>"
      ],
      "text/plain": [
       "<pandas.io.formats.style.Styler at 0x1f967d52ec8>"
      ]
     },
     "metadata": {
      "scrapbook": {
       "mime_prefix": "",
       "name": "Table5"
      }
     },
     "output_type": "display_data"
    }
   ],
   "source": [
    "import warnings\n",
    "\n",
    "warnings.filterwarnings('ignore')\n",
    "\n",
    "data = pd.read_csv('../tables/coho1.csv', index_col=False)\n",
    "data = data.style.hide_index().set_properties(**{'text-align': 'left'})\n",
    "\n",
    "data.set_table_styles(\n",
    "[dict(selector = 'th', props=[('text-align', 'left')])])\n",
    "\n",
    "glue(\"Table5\", data)\n"
   ]
  },
  {
   "attachments": {},
   "cell_type": "markdown",
   "metadata": {},
   "source": [
    "\n",
    "\n",
    "```{glue:figure} Table5\n",
    ":name: \"table5\"\n",
    "\n",
    "*Table 5. Coho Salmon Conservation Unit assessment in the Bulkley River Watershed. Assessments undertaken by the  [Pacific Salmon Explorer](https://www.salmonexplorer.ca/#!/skeena/chinook/middle-skeena-mainstem-tributaries&pop=ABUNDANCE_TREND&pop-detail=1)(2020).*\n",
    "```"
   ]
  },
  {
   "attachments": {},
   "cell_type": "markdown",
   "metadata": {},
   "source": [
    "```{include} ../content/planning-md.md\n",
    ":start-after: \"### Coho Salmon | Eek | Deedzex | Oncorhynchus kisutch\"\n",
    ":end-before: \"### Sockeye Salmon | Mi’soo | Taalook | Oncorhynchus nerka\"\n",
    "```"
   ]
  },
  {
   "attachments": {},
   "cell_type": "markdown",
   "metadata": {},
   "source": [
    "### Sockeye Salmon | Mi’soo | Taalook | Oncorhynchus nerka"
   ]
  },
  {
   "cell_type": "code",
   "execution_count": 9,
   "metadata": {
    "tags": [
     "remove-input",
     "remove-output"
    ]
   },
   "outputs": [
    {
     "data": {
      "text/html": [
       "<style  type=\"text/css\" >\n",
       "    #T_7abe5778_9673_11ed_b363_b445066bfd9b th {\n",
       "          text-align: left;\n",
       "    }#T_7abe5778_9673_11ed_b363_b445066bfd9brow0_col0,#T_7abe5778_9673_11ed_b363_b445066bfd9brow0_col1,#T_7abe5778_9673_11ed_b363_b445066bfd9brow0_col2,#T_7abe5778_9673_11ed_b363_b445066bfd9brow0_col3,#T_7abe5778_9673_11ed_b363_b445066bfd9brow0_col4,#T_7abe5778_9673_11ed_b363_b445066bfd9brow1_col0,#T_7abe5778_9673_11ed_b363_b445066bfd9brow1_col1,#T_7abe5778_9673_11ed_b363_b445066bfd9brow1_col2,#T_7abe5778_9673_11ed_b363_b445066bfd9brow1_col3,#T_7abe5778_9673_11ed_b363_b445066bfd9brow1_col4{\n",
       "            text-align:  left;\n",
       "        }</style><table id=\"T_7abe5778_9673_11ed_b363_b445066bfd9b\" ><thead>    <tr>        <th class=\"col_heading level0 col0\" >Conservation Unit</th>        <th class=\"col_heading level0 col1\" >Biological Status</th>        <th class=\"col_heading level0 col2\" >Run timing</th>        <th class=\"col_heading level0 col3\" >Trend in spawner abundance (all available data)</th>        <th class=\"col_heading level0 col4\" >Trend in spawner abundance (last 3 generations)</th>    </tr></thead><tbody>\n",
       "                <tr>\n",
       "                                <td id=\"T_7abe5778_9673_11ed_b363_b445066bfd9brow0_col0\" class=\"data row0 col0\" >Bulkley/Maxan (Lake type)</td>\n",
       "                        <td id=\"T_7abe5778_9673_11ed_b363_b445066bfd9brow0_col1\" class=\"data row0 col1\" >Data Deficient</td>\n",
       "                        <td id=\"T_7abe5778_9673_11ed_b363_b445066bfd9brow0_col2\" class=\"data row0 col2\" >Data Deficient</td>\n",
       "                        <td id=\"T_7abe5778_9673_11ed_b363_b445066bfd9brow0_col3\" class=\"data row0 col3\" >Data Deficient</td>\n",
       "                        <td id=\"T_7abe5778_9673_11ed_b363_b445066bfd9brow0_col4\" class=\"data row0 col4\" >Data Deficient</td>\n",
       "            </tr>\n",
       "            <tr>\n",
       "                                <td id=\"T_7abe5778_9673_11ed_b363_b445066bfd9brow1_col0\" class=\"data row1 col0\" >Skeena River (River-type)</td>\n",
       "                        <td id=\"T_7abe5778_9673_11ed_b363_b445066bfd9brow1_col1\" class=\"data row1 col1\" >Data Deficient</td>\n",
       "                        <td id=\"T_7abe5778_9673_11ed_b363_b445066bfd9brow1_col2\" class=\"data row1 col2\" >Data Deficient</td>\n",
       "                        <td id=\"T_7abe5778_9673_11ed_b363_b445066bfd9brow1_col3\" class=\"data row1 col3\" >Data Deficient</td>\n",
       "                        <td id=\"T_7abe5778_9673_11ed_b363_b445066bfd9brow1_col4\" class=\"data row1 col4\" >Data Deficient</td>\n",
       "            </tr>\n",
       "    </tbody></table>"
      ],
      "text/plain": [
       "<pandas.io.formats.style.Styler at 0x1f967d52a88>"
      ]
     },
     "metadata": {
      "scrapbook": {
       "mime_prefix": "",
       "name": "Table6"
      }
     },
     "output_type": "display_data"
    }
   ],
   "source": [
    "import warnings\n",
    "\n",
    "warnings.filterwarnings('ignore')\n",
    "\n",
    "\n",
    "data = pd.read_csv('../tables/Sockeye2.csv', index_col=False)\n",
    "data = data.style.hide_index().set_properties(**{'text-align': 'left'})\n",
    "\n",
    "data.set_table_styles(\n",
    "[dict(selector = 'th', props=[('text-align', 'left')])])\n",
    "\n",
    "glue(\"Table6\", data)"
   ]
  },
  {
   "attachments": {},
   "cell_type": "markdown",
   "metadata": {},
   "source": [
    "\n",
    "\n",
    "```{glue:figure} Table6\n",
    ":name: \"table6\"\n",
    "\n",
    "*Table 6. Sockeye Salmon Conservation Unit Assessments in the Bulkley River watershed. There were not enough data to support assessments for Sockeye Salmon populations at the time of analysis. Assessments undertaken by the [Pacific salmon Foundation](https://www.salmonexplorer.ca/#!/skeena/sockeye)(2020)*\n",
    "```"
   ]
  },
  {
   "attachments": {},
   "cell_type": "markdown",
   "metadata": {},
   "source": [
    "```{include} ../content/planning-md.md\n",
    ":start-after: \"### Sockeye Salmon | Mi’soo | Taalook | Oncorhynchus nerka\"\n",
    "```"
   ]
  }
 ],
 "metadata": {
  "kernelspec": {
   "display_name": "Python 3.7.12 ('test')",
   "language": "python",
   "name": "python3"
  },
  "language_info": {
   "codemirror_mode": {
    "name": "ipython",
    "version": 3
   },
   "file_extension": ".py",
   "mimetype": "text/x-python",
   "name": "python",
   "nbconvert_exporter": "python",
   "pygments_lexer": "ipython3",
   "version": "3.7.12 | packaged by conda-forge | (default, Oct 26 2021, 05:35:01) [MSC v.1916 64 bit (AMD64)]"
  },
  "orig_nbformat": 4,
  "vscode": {
   "interpreter": {
    "hash": "4d32f471e4c787df35246a436d6b5da50fcc80632abe0dd119be69a8b3537624"
   }
  }
 },
 "nbformat": 4,
 "nbformat_minor": 2
}
