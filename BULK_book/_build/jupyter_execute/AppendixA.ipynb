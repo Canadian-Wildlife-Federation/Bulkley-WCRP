{
 "cells": [
  {
   "cell_type": "markdown",
   "metadata": {},
   "source": [
    "# Appendix A"
   ]
  },
  {
   "attachments": {},
   "cell_type": "markdown",
   "metadata": {},
   "source": [
    "## Modelled Anadromous Salmon Habitat Maps\n",
    "\n",
    "High-resolution PDF maps of the Bulkley River watershed and model results can be accessed [here](https://github.com/smnorris/bcfishpass/tree/main/wcrp/pdfs). The watershed is divided into multiple maps sheets to allow for detailed examination of modelled spawning and rearing habitat and priority barriers identified through this planning process. The locations of WCRP priority barriers and associated map sheet numbers are shown below. In each individual map sheet, priority barriers are symbolized using the following notation:"
   ]
  },
  {
   "attachments": {},
   "cell_type": "markdown",
   "metadata": {},
   "source": [
    "```{figure} figure8.png\n",
    "---\n",
    "height: 400px\n",
    "width: 1000px\n",
    "name: fig8\n",
    "---\n",
    "*Bulkley River watershed overview map identifying the portions of the watershed covered by each map sheet (grey squares) and the prioritized barriers on the intermediate barrier list (orange points; see Appendix B).*\n",
    "```"
   ]
  },
  {
   "attachments": {},
   "cell_type": "markdown",
   "metadata": {},
   "source": [
    "##  Connectivity Status Assessment Methods\n",
    "\n",
    "The connectivity status assessment for anadromous salmonids in the Bulkley River watershed builds on existing connectivity modelling work undertaken by the BC Fish Passage Technical Working Group, resulting in a flexible, customizable open-source spatial model called \"bcfishpass\". The model spatially locates known and modelled barriers to fish passage, identifies potential spawning and rearing habitat for target species, and estimates the amount of habitat that is currently accessible to target species. The model uses an adapted version of the Intrinsic Potential (IP) fish habitat modelling framework (see Sheer et al. 2009 for an overview of the IP framework). The habitat model uses two geomorphic characteristics of the stream network — channel gradient and mean annual discharge — to identify potential spawning habitat and rearing habitat for each target species. The habitat model does not attempt to definitively map each habitat type nor estimate habitat quality, but rather identifies stream segments that have high potential to support spawning or rearing habitat for each species based on the geomorphic characteristics of the segment. For more details on the connectivity and habitat model structure and parameters, please see Mazany-Wright et al. 2021a. The variables and thresholds used to model potential spawning and rearing habitat for each target species are summarized in Table 13. The quantity of modelled habitat for each species was aggregated for each habitat type to inform the two KEAs — Accessible Spawning Habitat and Accessible Rearing Habitat — and represents a linear measure of potential habitat. To recognize the rearing value provided by features represented by polygons for certain species (e.g., wetlands for Coho Salmon and lakes for Sockeye Salmon) a multiplier of 1.5x the length of the stream segments flowing through the polygons was applied."
   ]
  },
  {
   "cell_type": "code",
   "execution_count": 1,
   "metadata": {
    "tags": [
     "remove-input",
     "remove-output"
    ]
   },
   "outputs": [
    {
     "data": {
      "text/html": [
       "<style  type=\"text/css\" >\n",
       "    #T_c6548aae_87ad_11ed_83af_b445066bfd9b th {\n",
       "          text-align: left;\n",
       "    }#T_c6548aae_87ad_11ed_83af_b445066bfd9brow0_col0,#T_c6548aae_87ad_11ed_83af_b445066bfd9brow0_col1,#T_c6548aae_87ad_11ed_83af_b445066bfd9brow0_col2,#T_c6548aae_87ad_11ed_83af_b445066bfd9brow0_col3,#T_c6548aae_87ad_11ed_83af_b445066bfd9brow0_col4,#T_c6548aae_87ad_11ed_83af_b445066bfd9brow0_col5,#T_c6548aae_87ad_11ed_83af_b445066bfd9brow0_col6,#T_c6548aae_87ad_11ed_83af_b445066bfd9brow1_col0,#T_c6548aae_87ad_11ed_83af_b445066bfd9brow1_col1,#T_c6548aae_87ad_11ed_83af_b445066bfd9brow1_col2,#T_c6548aae_87ad_11ed_83af_b445066bfd9brow1_col3,#T_c6548aae_87ad_11ed_83af_b445066bfd9brow1_col4,#T_c6548aae_87ad_11ed_83af_b445066bfd9brow1_col5,#T_c6548aae_87ad_11ed_83af_b445066bfd9brow1_col6,#T_c6548aae_87ad_11ed_83af_b445066bfd9brow2_col0,#T_c6548aae_87ad_11ed_83af_b445066bfd9brow2_col1,#T_c6548aae_87ad_11ed_83af_b445066bfd9brow2_col2,#T_c6548aae_87ad_11ed_83af_b445066bfd9brow2_col3,#T_c6548aae_87ad_11ed_83af_b445066bfd9brow2_col4,#T_c6548aae_87ad_11ed_83af_b445066bfd9brow2_col5,#T_c6548aae_87ad_11ed_83af_b445066bfd9brow2_col6,#T_c6548aae_87ad_11ed_83af_b445066bfd9brow3_col0,#T_c6548aae_87ad_11ed_83af_b445066bfd9brow3_col1,#T_c6548aae_87ad_11ed_83af_b445066bfd9brow3_col2,#T_c6548aae_87ad_11ed_83af_b445066bfd9brow3_col3,#T_c6548aae_87ad_11ed_83af_b445066bfd9brow3_col4,#T_c6548aae_87ad_11ed_83af_b445066bfd9brow3_col5,#T_c6548aae_87ad_11ed_83af_b445066bfd9brow3_col6{\n",
       "            text-align:  left;\n",
       "        }</style><table id=\"T_c6548aae_87ad_11ed_83af_b445066bfd9b\" ><thead>    <tr>        <th class=\"col_heading level0 col0\" >\r\n",
       "  Species\r\n",
       "  </th>        <th class=\"col_heading level0 col1\" >\r\n",
       "  Channel\r\n",
       "  Gradient (%)\r\n",
       "  </th>        <th class=\"col_heading level0 col2\" >\r\n",
       "  Mean\r\n",
       "  annual discharge (m3/s)\r\n",
       "  </th>        <th class=\"col_heading level0 col3\" >\r\n",
       "  Channel\r\n",
       "  Gradient (%)\r\n",
       "  .1</th>        <th class=\"col_heading level0 col4\" >\r\n",
       "  Mean\r\n",
       "  annual discharge (m3/s)\r\n",
       "  .1</th>        <th class=\"col_heading level0 col5\" >\r\n",
       "  Minimum\r\n",
       "  Lake area (ha)\r\n",
       "  </th>        <th class=\"col_heading level0 col6\" >\r\n",
       "  Multiplier\r\n",
       "  (1.5x)\r\n",
       "  </th>    </tr></thead><tbody>\n",
       "                <tr>\n",
       "                                <td id=\"T_c6548aae_87ad_11ed_83af_b445066bfd9brow0_col0\" class=\"data row0 col0\" >\r\n",
       "  Chinook Salmon\r\n",
       "  </td>\n",
       "                        <td id=\"T_c6548aae_87ad_11ed_83af_b445066bfd9brow0_col1\" class=\"data row0 col1\" >\r\n",
       "  0-3\r\n",
       "  (Busch et al. 2011, Cooney and Holzer 2006)\r\n",
       "  </td>\n",
       "                        <td id=\"T_c6548aae_87ad_11ed_83af_b445066bfd9brow0_col2\" class=\"data row0 col2\" >\r\n",
       "  0.46-322.5\r\n",
       "  (Bjornn and Reiser 1991, Neuman and Newcombe 1977, Woll et\r\n",
       "  al. 2017, Roberge et al. 2002, Raleigh and Miller 1986)\r\n",
       "  </td>\n",
       "                        <td id=\"T_c6548aae_87ad_11ed_83af_b445066bfd9brow0_col3\" class=\"data row0 col3\" >\r\n",
       "  0-5\r\n",
       "  (Woll et al. 2017, Porter et al. 2008)\r\n",
       "  </td>\n",
       "                        <td id=\"T_c6548aae_87ad_11ed_83af_b445066bfd9brow0_col4\" class=\"data row0 col4\" >\r\n",
       "  0.28-100\r\n",
       "  (Agrawal et al. 2005)\r\n",
       "  </td>\n",
       "                        <td id=\"T_c6548aae_87ad_11ed_83af_b445066bfd9brow0_col5\" class=\"data row0 col5\" >\r\n",
       "  NA\r\n",
       "  </td>\n",
       "                        <td id=\"T_c6548aae_87ad_11ed_83af_b445066bfd9brow0_col6\" class=\"data row0 col6\" >\r\n",
       "  NA\r\n",
       "  </td>\n",
       "            </tr>\n",
       "            <tr>\n",
       "                                <td id=\"T_c6548aae_87ad_11ed_83af_b445066bfd9brow1_col0\" class=\"data row1 col0\" >\r\n",
       "  Coho Salmon\r\n",
       "  </td>\n",
       "                        <td id=\"T_c6548aae_87ad_11ed_83af_b445066bfd9brow1_col1\" class=\"data row1 col1\" >\r\n",
       "  0-5\r\n",
       "  (Roberge et al. 2002, Sloat et al. 2017)\r\n",
       "  </td>\n",
       "                        <td id=\"T_c6548aae_87ad_11ed_83af_b445066bfd9brow1_col2\" class=\"data row1 col2\" >\r\n",
       "  0.164-59.15\r\n",
       "  (Bjornn and Reiser 1991, Sloat et al. 2017, Neuman and\r\n",
       "  Newcombe 1977, Woll et al. 2017, McMahon 1983)\r\n",
       "  </td>\n",
       "                        <td id=\"T_c6548aae_87ad_11ed_83af_b445066bfd9brow1_col3\" class=\"data row1 col3\" >\r\n",
       "  0-5\r\n",
       "  (Porter et al. 2008, Rosenfeld et al. 2000)\r\n",
       "  </td>\n",
       "                        <td id=\"T_c6548aae_87ad_11ed_83af_b445066bfd9brow1_col4\" class=\"data row1 col4\" >\r\n",
       "  0.03-40\r\n",
       "  (Agrawal et al. 2005, Burnett et al. 2007)\r\n",
       "  </td>\n",
       "                        <td id=\"T_c6548aae_87ad_11ed_83af_b445066bfd9brow1_col5\" class=\"data row1 col5\" >\r\n",
       "  NA\r\n",
       "  </td>\n",
       "                        <td id=\"T_c6548aae_87ad_11ed_83af_b445066bfd9brow1_col6\" class=\"data row1 col6\" >\r\n",
       "  Wetland\r\n",
       "  </td>\n",
       "            </tr>\n",
       "            <tr>\n",
       "                                <td id=\"T_c6548aae_87ad_11ed_83af_b445066bfd9brow2_col0\" class=\"data row2 col0\" >\r\n",
       "  Sockeye Salmon\r\n",
       "  </td>\n",
       "                        <td id=\"T_c6548aae_87ad_11ed_83af_b445066bfd9brow2_col1\" class=\"data row2 col1\" >\r\n",
       "  0-2\r\n",
       "  (Lake 1999, Hoopes 1972)\r\n",
       "  </td>\n",
       "                        <td id=\"T_c6548aae_87ad_11ed_83af_b445066bfd9brow2_col2\" class=\"data row2 col2\" >\r\n",
       "  0.175-65\r\n",
       "  (Bjornn and Reiser 1991, Woll et al. 2017, Neuman and\r\n",
       "  Newcombe 1977, Roberge et al. 2002)\r\n",
       "  </td>\n",
       "                        <td id=\"T_c6548aae_87ad_11ed_83af_b445066bfd9brow2_col3\" class=\"data row2 col3\" >\r\n",
       "  NA\r\n",
       "  </td>\n",
       "                        <td id=\"T_c6548aae_87ad_11ed_83af_b445066bfd9brow2_col4\" class=\"data row2 col4\" >\r\n",
       "  NA\r\n",
       "  </td>\n",
       "                        <td id=\"T_c6548aae_87ad_11ed_83af_b445066bfd9brow2_col5\" class=\"data row2 col5\" >\r\n",
       "  200\r\n",
       "  (Woll et al. 2017)\r\n",
       "  </td>\n",
       "                        <td id=\"T_c6548aae_87ad_11ed_83af_b445066bfd9brow2_col6\" class=\"data row2 col6\" >\r\n",
       "  Lake\r\n",
       "  </td>\n",
       "            </tr>\n",
       "            <tr>\n",
       "                                <td id=\"T_c6548aae_87ad_11ed_83af_b445066bfd9brow3_col0\" class=\"data row3 col0\" >\r\n",
       "  Steelhead\r\n",
       "  </td>\n",
       "                        <td id=\"T_c6548aae_87ad_11ed_83af_b445066bfd9brow3_col1\" class=\"data row3 col1\" >\r\n",
       "  0-4\r\n",
       "  (Sheer and Steel 2006, Cooney and Holzer 2006)\r\n",
       "  </td>\n",
       "                        <td id=\"T_c6548aae_87ad_11ed_83af_b445066bfd9brow3_col2\" class=\"data row3 col2\" >\r\n",
       "  0.447-75\r\n",
       "  (Bjornn and Reiser 1991, Neuman and Newcombe 1977, Roberge\r\n",
       "  et al. 2002)\r\n",
       "  </td>\n",
       "                        <td id=\"T_c6548aae_87ad_11ed_83af_b445066bfd9brow3_col3\" class=\"data row3 col3\" >\r\n",
       "  0-7.4\r\n",
       "  (Porter et al. 2008)\r\n",
       "  </td>\n",
       "                        <td id=\"T_c6548aae_87ad_11ed_83af_b445066bfd9brow3_col4\" class=\"data row3 col4\" >\r\n",
       "  0.02-60\r\n",
       "  (Agrawal et al. 2005, Burnett et al. 2007)\r\n",
       "  </td>\n",
       "                        <td id=\"T_c6548aae_87ad_11ed_83af_b445066bfd9brow3_col5\" class=\"data row3 col5\" >\r\n",
       "  NA\r\n",
       "  </td>\n",
       "                        <td id=\"T_c6548aae_87ad_11ed_83af_b445066bfd9brow3_col6\" class=\"data row3 col6\" >\r\n",
       "  NA\r\n",
       "  </td>\n",
       "            </tr>\n",
       "    </tbody></table>"
      ],
      "text/plain": [
       "<pandas.io.formats.style.Styler at 0x22b3e813288>"
      ]
     },
     "metadata": {
      "scrapbook": {
       "mime_prefix": "",
       "name": "Table15"
      }
     },
     "output_type": "display_data"
    }
   ],
   "source": [
    "\n",
    "from IPython.display import display, HTML\n",
    "import pandas as pd\n",
    "import numpy as np\n",
    "import warnings\n",
    "from myst_nb import glue\n",
    "\n",
    "warnings.filterwarnings('ignore')\n",
    "\n",
    "data = pd.read_csv('Table15.csv', index_col=False)\n",
    "\n",
    "data = data.replace(np.nan, '', regex=True)\n",
    "\n",
    "\n",
    "data = data.style.hide_index().set_properties(**{'text-align': 'left'})\n",
    "\n",
    "data.set_table_styles(\n",
    "[dict(selector = 'th', props=[('text-align', 'left')])])\n",
    "\n",
    "glue(\"Table15\", data)\n"
   ]
  },
  {
   "attachments": {},
   "cell_type": "markdown",
   "metadata": {},
   "source": [
    "```{glue:figure} Table15\n",
    ":name: \"table15\"\n",
    "\n",
    "*Parameters and thresholds used to inform the Intrinsic Potential habitat model for spawning and rearing habitat for each target species in the Bulkley River watershed.*\n",
    "```"
   ]
  }
 ],
 "metadata": {
  "kernelspec": {
   "display_name": "Python 3.7.12 ('test')",
   "language": "python",
   "name": "python3"
  },
  "language_info": {
   "codemirror_mode": {
    "name": "ipython",
    "version": 3
   },
   "file_extension": ".py",
   "mimetype": "text/x-python",
   "name": "python",
   "nbconvert_exporter": "python",
   "pygments_lexer": "ipython3",
   "version": "3.7.12"
  },
  "vscode": {
   "interpreter": {
    "hash": "4d32f471e4c787df35246a436d6b5da50fcc80632abe0dd119be69a8b3537624"
   }
  }
 },
 "nbformat": 4,
 "nbformat_minor": 2
}