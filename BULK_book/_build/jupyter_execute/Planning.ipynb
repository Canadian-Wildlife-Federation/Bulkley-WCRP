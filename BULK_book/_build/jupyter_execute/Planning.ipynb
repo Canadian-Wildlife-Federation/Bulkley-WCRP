{
 "cells": [
  {
   "attachments": {},
   "cell_type": "markdown",
   "metadata": {},
   "source": [
    "# Plan Purpose, Apporach and Scope\n",
    "\n",
    "\n",
    "\n",
    "The following Watershed Connectivity Remediation Plan (WCRP) represents the culmination of a one-year collaborative planning effort for the Bulkley River watershed (excluding the Morice River, see Project Scope), the overall aim of which is to clarify and reduce the threat of aquatic barriers to anadromous salmonids and the livelihoods that they support, including the values and laws of First Nations, as well their continued sustenance, cultural, and ceremonial needs both now and into the future. This 10-year plan was developed to identify priority actions that the Bulkley River WCRP planning team (see Planning Team for a list of team members) will undertake between 2021-2031 to conserve and restore fish passage in the watershed through strategies aimed at barrier remediation, barrier prevention, and strengthening Indigenous connections to land and water. \n",
    "\n",
    "WCRPs are long-term, actionable plans that blend local stakeholder and rightsholder knowledge with innovative GIS analyses to gain a shared understanding of where remediation efforts will have the greatest benefit for anadromous salmonids. The planning process is inspired by the [Conservation Standards](https://cmp-openstandards.org/wp-content/uploads/2020/07/CMP-Open-Standards-for-the-Practice-of-Conservation-v4.0.pdf) (v.4.0), which is a conservation planning framework that allows planning teams to systematically identify, implement, and monitor strategies to apply the most effective solutions to high priority conservation problems. There is a rich history of connectivity and fish passage planning and remediation work in the Bulkley River watershed that this WCRP builds upon, including the work undertaken by the BC Fish Passage Technical Working Group, the Skeena Fisheries Commission, the Office of the Wet’suwet’en, the Wet'suwet'en First Nation, and the Society for Ecosystem Restoration in Northern British Columbia (SERNbc), among others (Wilson and Rabnett 2007, McCarthy and Fernando 2015, Smith 2018, Casselman and Stanley 2010, Irvine 2018). The Canadian Wildlife Federation will continue to engage and coordinate with local partners and existing initiatives, in part through the Skeena Environmental Stewardship Initiative. SERNbc is also currently undertaking [fish passage work](https://www.newgraphenvironment.com/fish_passage_bulkley_2020_reporting/Bulkley.pdf) in the Bulkley River watershed, with some overlap and some differences in scope compared to the work and processes described in this WCRP. The SERNbc project relies on expert knowledge and field assessments in both the Bulkley and Morice watersheds to improve passage for all fish, including fluvial and resident species, and focuses on stream crossings that act as barriers (Irvine 2021). This WCRP focuses specifically on improving connectivity for anadromous salmonid species and uses consensus-based planning exercises and spatial model implementation to develop watershed-scale status assessments, goal setting, and prioritization for multiple barrier types. SERNbc and the WCRP planning team are currently collaborating on the development of the [bcfishpass](https://github.com/smnorris/bcfishpass) connectivity model and will continue to work together to promote coordination and collaboration between the two initiatives moving forward.\n",
    "\n",
    "The planning team compiled existing barrier location and assessment data, habitat data, and previously identified priorities, and combined this with local and Indigenous knowledge to create a strategic watershed-scale plan to improve connectivity. To expand on this work, the Bulkley River WCRP planning team applied the WCRP planning framework to define the \"thematic\" scope of freshwater connectivity and refine the \"geographic\" scope to identify those portions of the watershed where barrier prioritization will be conducted, and subsequent remediation efforts will take place. Additionally, the team selected target fish species, assessed their current connectivity status in the watershed, defined concrete goals for gains in connectivity, and developed a priority list of barriers for remediation to achieve those goals. During the 2021 field season, 28 barrier assessments and 21 habitat confirmations were completed. Seventeen barriers were added to the intermediate barrier list based on 2021 field assessments, and an additional 17 crossings were removed from the list, due to being passable, not existing, or having low quality habitat (see Table , Appendix C). The preliminary barriers list was further divided this year into an \"intermediate barriers\" list (Table , Appendix C), which includes barriers that require further assessment, and a \"priority barriers\" list (Table , Appendix C), which includes barriers that are actively being pursued for design and remediation. While the current version of this plan is based on the best-available information at the time of publishing, WCRPs are intended to be “living plans” that are updated regularly as new information becomes available, or if local priorities and contexts change. As such, this document should be interpreted as a current “snap-shot” in time, and future iterations of this WCRP will build upon the material presented in this plan to continuously improve aquatic barrier remediation for migratory fish in the Bulkley River watershed. For more information on how WCRPs are developed, see {cite}`Mazany-Wright2021-hs`. \n",
    "\n",
    "# Vision Statement \n",
    "\n",
    "*Healthy, well-connected streams and rivers within the Bulkley River watershed support thriving populations of migratory and resident fish. In turn, these fish provide the continued sustenance, cultural, and ceremonial needs of the Wet’suwet’en and Gitxsan peoples, as they have since time immemorial. First Nations, residents, and visitors to the watershed work together for environmental stewardship to clarify, implement, and assess the effectiveness of actions to mitigate the negative effects of aquatic barriers, improving the resiliency of streams and rivers for the benefit and appreciation of all.*"
   ]
  },
  {
   "cell_type": "markdown",
   "metadata": {},
   "source": [
    "# Planning Team"
   ]
  },
  {
   "cell_type": "code",
   "execution_count": 1,
   "metadata": {
    "tags": [
     "remove-input",
     "remove-output"
    ]
   },
   "outputs": [
    {
     "data": {
      "text/html": [
       "<style  type=\"text/css\" >\n",
       "    #T_ede21874_87ad_11ed_8882_b445066bfd9b th {\n",
       "          text-align: left;\n",
       "    }#T_ede21874_87ad_11ed_8882_b445066bfd9brow0_col0,#T_ede21874_87ad_11ed_8882_b445066bfd9brow0_col1,#T_ede21874_87ad_11ed_8882_b445066bfd9brow1_col0,#T_ede21874_87ad_11ed_8882_b445066bfd9brow1_col1,#T_ede21874_87ad_11ed_8882_b445066bfd9brow2_col0,#T_ede21874_87ad_11ed_8882_b445066bfd9brow2_col1,#T_ede21874_87ad_11ed_8882_b445066bfd9brow3_col0,#T_ede21874_87ad_11ed_8882_b445066bfd9brow3_col1,#T_ede21874_87ad_11ed_8882_b445066bfd9brow4_col0,#T_ede21874_87ad_11ed_8882_b445066bfd9brow4_col1,#T_ede21874_87ad_11ed_8882_b445066bfd9brow5_col0,#T_ede21874_87ad_11ed_8882_b445066bfd9brow5_col1,#T_ede21874_87ad_11ed_8882_b445066bfd9brow6_col0,#T_ede21874_87ad_11ed_8882_b445066bfd9brow6_col1,#T_ede21874_87ad_11ed_8882_b445066bfd9brow7_col0,#T_ede21874_87ad_11ed_8882_b445066bfd9brow7_col1,#T_ede21874_87ad_11ed_8882_b445066bfd9brow8_col0,#T_ede21874_87ad_11ed_8882_b445066bfd9brow8_col1,#T_ede21874_87ad_11ed_8882_b445066bfd9brow9_col0,#T_ede21874_87ad_11ed_8882_b445066bfd9brow9_col1,#T_ede21874_87ad_11ed_8882_b445066bfd9brow10_col0,#T_ede21874_87ad_11ed_8882_b445066bfd9brow10_col1,#T_ede21874_87ad_11ed_8882_b445066bfd9brow11_col0,#T_ede21874_87ad_11ed_8882_b445066bfd9brow11_col1,#T_ede21874_87ad_11ed_8882_b445066bfd9brow12_col0,#T_ede21874_87ad_11ed_8882_b445066bfd9brow12_col1,#T_ede21874_87ad_11ed_8882_b445066bfd9brow13_col0,#T_ede21874_87ad_11ed_8882_b445066bfd9brow13_col1,#T_ede21874_87ad_11ed_8882_b445066bfd9brow14_col0,#T_ede21874_87ad_11ed_8882_b445066bfd9brow14_col1,#T_ede21874_87ad_11ed_8882_b445066bfd9brow15_col0,#T_ede21874_87ad_11ed_8882_b445066bfd9brow15_col1,#T_ede21874_87ad_11ed_8882_b445066bfd9brow16_col0,#T_ede21874_87ad_11ed_8882_b445066bfd9brow16_col1,#T_ede21874_87ad_11ed_8882_b445066bfd9brow17_col0,#T_ede21874_87ad_11ed_8882_b445066bfd9brow17_col1,#T_ede21874_87ad_11ed_8882_b445066bfd9brow18_col0,#T_ede21874_87ad_11ed_8882_b445066bfd9brow18_col1{\n",
       "            text-align:  left;\n",
       "        }</style><table id=\"T_ede21874_87ad_11ed_8882_b445066bfd9b\" ><thead>    <tr>        <th class=\"col_heading level0 col0\" >Name</th>        <th class=\"col_heading level0 col1\" >Organization</th>    </tr></thead><tbody>\n",
       "                <tr>\n",
       "                                <td id=\"T_ede21874_87ad_11ed_8882_b445066bfd9brow0_col0\" class=\"data row0 col0\" >Betty Rebellato</td>\n",
       "                        <td id=\"T_ede21874_87ad_11ed_8882_b445066bfd9brow0_col1\" class=\"data row0 col1\" >Canadian Wildlife Federation</td>\n",
       "            </tr>\n",
       "            <tr>\n",
       "                                <td id=\"T_ede21874_87ad_11ed_8882_b445066bfd9brow1_col0\" class=\"data row1 col0\" >Nick Mazany-Wright</td>\n",
       "                        <td id=\"T_ede21874_87ad_11ed_8882_b445066bfd9brow1_col1\" class=\"data row1 col1\" >Canadian Wildlife Federation</td>\n",
       "            </tr>\n",
       "            <tr>\n",
       "                                <td id=\"T_ede21874_87ad_11ed_8882_b445066bfd9brow2_col0\" class=\"data row2 col0\" >Justin Duncan</td>\n",
       "                        <td id=\"T_ede21874_87ad_11ed_8882_b445066bfd9brow2_col1\" class=\"data row2 col1\" >Canadian Wildlife Federation</td>\n",
       "            </tr>\n",
       "            <tr>\n",
       "                                <td id=\"T_ede21874_87ad_11ed_8882_b445066bfd9brow3_col0\" class=\"data row3 col0\" >Nicolas Lapointe</td>\n",
       "                        <td id=\"T_ede21874_87ad_11ed_8882_b445066bfd9brow3_col1\" class=\"data row3 col1\" >Canadian Wildlife Federation</td>\n",
       "            </tr>\n",
       "            <tr>\n",
       "                                <td id=\"T_ede21874_87ad_11ed_8882_b445066bfd9brow4_col0\" class=\"data row4 col0\" >Sarah Sra</td>\n",
       "                        <td id=\"T_ede21874_87ad_11ed_8882_b445066bfd9brow4_col1\" class=\"data row4 col1\" >Canadian Wildlife Federation</td>\n",
       "            </tr>\n",
       "            <tr>\n",
       "                                <td id=\"T_ede21874_87ad_11ed_8882_b445066bfd9brow5_col0\" class=\"data row5 col0\" >Simon Norris</td>\n",
       "                        <td id=\"T_ede21874_87ad_11ed_8882_b445066bfd9brow5_col1\" class=\"data row5 col1\" >Hillcrest Geographics</td>\n",
       "            </tr>\n",
       "            <tr>\n",
       "                                <td id=\"T_ede21874_87ad_11ed_8882_b445066bfd9brow6_col0\" class=\"data row6 col0\" >Natalie Newman</td>\n",
       "                        <td id=\"T_ede21874_87ad_11ed_8882_b445066bfd9brow6_col1\" class=\"data row6 col1\" >Department of Fisheries and Oceans Canada</td>\n",
       "            </tr>\n",
       "            <tr>\n",
       "                                <td id=\"T_ede21874_87ad_11ed_8882_b445066bfd9brow7_col0\" class=\"data row7 col0\" >Peter Dekoning</td>\n",
       "                        <td id=\"T_ede21874_87ad_11ed_8882_b445066bfd9brow7_col1\" class=\"data row7 col1\" >Department of Fisheries and Oceans Canada</td>\n",
       "            </tr>\n",
       "            <tr>\n",
       "                                <td id=\"T_ede21874_87ad_11ed_8882_b445066bfd9brow8_col0\" class=\"data row8 col0\" >Sandra Devcic</td>\n",
       "                        <td id=\"T_ede21874_87ad_11ed_8882_b445066bfd9brow8_col1\" class=\"data row8 col1\" >Department of Fisheries and Oceans Canada</td>\n",
       "            </tr>\n",
       "            <tr>\n",
       "                                <td id=\"T_ede21874_87ad_11ed_8882_b445066bfd9brow9_col0\" class=\"data row9 col0\" >Brian Williams</td>\n",
       "                        <td id=\"T_ede21874_87ad_11ed_8882_b445066bfd9brow9_col1\" class=\"data row9 col1\" >Gitxsan Nation</td>\n",
       "            </tr>\n",
       "            <tr>\n",
       "                                <td id=\"T_ede21874_87ad_11ed_8882_b445066bfd9brow10_col0\" class=\"data row10 col0\" >Elaine Sampson</td>\n",
       "                        <td id=\"T_ede21874_87ad_11ed_8882_b445066bfd9brow10_col1\" class=\"data row10 col1\" >Gitxsan Nation</td>\n",
       "            </tr>\n",
       "            <tr>\n",
       "                                <td id=\"T_ede21874_87ad_11ed_8882_b445066bfd9brow11_col0\" class=\"data row11 col0\" >Gordon Sebastian</td>\n",
       "                        <td id=\"T_ede21874_87ad_11ed_8882_b445066bfd9brow11_col1\" class=\"data row11 col1\" >Gitxsan Nation</td>\n",
       "            </tr>\n",
       "            <tr>\n",
       "                                <td id=\"T_ede21874_87ad_11ed_8882_b445066bfd9brow12_col0\" class=\"data row12 col0\" >John Degagne</td>\n",
       "                        <td id=\"T_ede21874_87ad_11ed_8882_b445066bfd9brow12_col1\" class=\"data row12 col1\" >Ministry of Forests, Lands and Natural Resource Operations</td>\n",
       "            </tr>\n",
       "            <tr>\n",
       "                                <td id=\"T_ede21874_87ad_11ed_8882_b445066bfd9brow13_col0\" class=\"data row13 col0\" >Al Irvine</td>\n",
       "                        <td id=\"T_ede21874_87ad_11ed_8882_b445066bfd9brow13_col1\" class=\"data row13 col1\" >Society for Ecosystem Restoration in Northern BC</td>\n",
       "            </tr>\n",
       "            <tr>\n",
       "                                <td id=\"T_ede21874_87ad_11ed_8882_b445066bfd9brow14_col0\" class=\"data row14 col0\" >Sean Mitchell</td>\n",
       "                        <td id=\"T_ede21874_87ad_11ed_8882_b445066bfd9brow14_col1\" class=\"data row14 col1\" >Skeena Sustainability Assessment Forum</td>\n",
       "            </tr>\n",
       "            <tr>\n",
       "                                <td id=\"T_ede21874_87ad_11ed_8882_b445066bfd9brow15_col0\" class=\"data row15 col0\" >Jesse Stoeppler</td>\n",
       "                        <td id=\"T_ede21874_87ad_11ed_8882_b445066bfd9brow15_col1\" class=\"data row15 col1\" >Skeena Watershed Conservation Coalition</td>\n",
       "            </tr>\n",
       "            <tr>\n",
       "                                <td id=\"T_ede21874_87ad_11ed_8882_b445066bfd9brow16_col0\" class=\"data row16 col0\" >David Dewit</td>\n",
       "                        <td id=\"T_ede21874_87ad_11ed_8882_b445066bfd9brow16_col1\" class=\"data row16 col1\" >Office of the Wet’suwet’en</td>\n",
       "            </tr>\n",
       "            <tr>\n",
       "                                <td id=\"T_ede21874_87ad_11ed_8882_b445066bfd9brow17_col0\" class=\"data row17 col0\" >Mike Ridsdale</td>\n",
       "                        <td id=\"T_ede21874_87ad_11ed_8882_b445066bfd9brow17_col1\" class=\"data row17 col1\" >Office of the Wet’suwet’en</td>\n",
       "            </tr>\n",
       "            <tr>\n",
       "                                <td id=\"T_ede21874_87ad_11ed_8882_b445066bfd9brow18_col0\" class=\"data row18 col0\" >Dallas Nikal</td>\n",
       "                        <td id=\"T_ede21874_87ad_11ed_8882_b445066bfd9brow18_col1\" class=\"data row18 col1\" >Witset First Nation</td>\n",
       "            </tr>\n",
       "    </tbody></table>"
      ],
      "text/plain": [
       "<pandas.io.formats.style.Styler at 0x1ae1a0e7b08>"
      ]
     },
     "metadata": {
      "scrapbook": {
       "mime_prefix": "",
       "name": "Table1"
      }
     },
     "output_type": "display_data"
    }
   ],
   "source": [
    "import pandas as pd\n",
    "import warnings\n",
    "from myst_nb import glue\n",
    "#from IPython.display import display, HTML\n",
    "\n",
    "warnings.filterwarnings('ignore')\n",
    "\n",
    "\n",
    "data = pd.read_csv('planning_team.csv', index_col=False)\n",
    "\n",
    "data = data.style.hide_index().set_properties(**{'text-align': 'left'})\n",
    "\n",
    "data.set_table_styles(\n",
    "[dict(selector = 'th', props=[('text-align', 'left')])])\n",
    "\n",
    "glue(\"Table1\", data)\n",
    "\n",
    "\n",
    "#newerror\n"
   ]
  },
  {
   "attachments": {},
   "cell_type": "markdown",
   "metadata": {},
   "source": [
    "```{glue:figure} Table1\n",
    ":name: \"table1\"\n",
    "\n",
    "*Bulkley River watershed WCRP planning team members. Planning team members contributed to the development of this plan by participating in a series of workshops and document and data review. The plan was generated based on the input and feedback of the local groups and organizations list in this table.*\n",
    "```"
   ]
  },
  {
   "cell_type": "markdown",
   "metadata": {},
   "source": [
    "# Key Actors\n",
    "\n"
   ]
  },
  {
   "cell_type": "code",
   "execution_count": 2,
   "metadata": {
    "tags": [
     "remove-input",
     "remove-output"
    ]
   },
   "outputs": [
    {
     "data": {
      "text/html": [
       "<style  type=\"text/css\" >\n",
       "    #T_edf546d8_87ad_11ed_b140_b445066bfd9b th {\n",
       "          text-align: left;\n",
       "    }#T_edf546d8_87ad_11ed_b140_b445066bfd9brow0_col0,#T_edf546d8_87ad_11ed_b140_b445066bfd9brow0_col1,#T_edf546d8_87ad_11ed_b140_b445066bfd9brow1_col0,#T_edf546d8_87ad_11ed_b140_b445066bfd9brow1_col1,#T_edf546d8_87ad_11ed_b140_b445066bfd9brow2_col0,#T_edf546d8_87ad_11ed_b140_b445066bfd9brow2_col1,#T_edf546d8_87ad_11ed_b140_b445066bfd9brow3_col0,#T_edf546d8_87ad_11ed_b140_b445066bfd9brow3_col1,#T_edf546d8_87ad_11ed_b140_b445066bfd9brow4_col0,#T_edf546d8_87ad_11ed_b140_b445066bfd9brow4_col1,#T_edf546d8_87ad_11ed_b140_b445066bfd9brow5_col0,#T_edf546d8_87ad_11ed_b140_b445066bfd9brow5_col1,#T_edf546d8_87ad_11ed_b140_b445066bfd9brow6_col0,#T_edf546d8_87ad_11ed_b140_b445066bfd9brow6_col1,#T_edf546d8_87ad_11ed_b140_b445066bfd9brow7_col0,#T_edf546d8_87ad_11ed_b140_b445066bfd9brow7_col1,#T_edf546d8_87ad_11ed_b140_b445066bfd9brow8_col0,#T_edf546d8_87ad_11ed_b140_b445066bfd9brow8_col1,#T_edf546d8_87ad_11ed_b140_b445066bfd9brow9_col0,#T_edf546d8_87ad_11ed_b140_b445066bfd9brow9_col1,#T_edf546d8_87ad_11ed_b140_b445066bfd9brow10_col0,#T_edf546d8_87ad_11ed_b140_b445066bfd9brow10_col1,#T_edf546d8_87ad_11ed_b140_b445066bfd9brow11_col0,#T_edf546d8_87ad_11ed_b140_b445066bfd9brow11_col1,#T_edf546d8_87ad_11ed_b140_b445066bfd9brow12_col0,#T_edf546d8_87ad_11ed_b140_b445066bfd9brow12_col1{\n",
       "            text-align:  left;\n",
       "        }</style><table id=\"T_edf546d8_87ad_11ed_b140_b445066bfd9b\" ><thead>    <tr>        <th class=\"col_heading level0 col0\" >Individual or Organization Name</th>        <th class=\"col_heading level0 col1\" >Role and Primary Interest</th>    </tr></thead><tbody>\n",
       "                <tr>\n",
       "                                <td id=\"T_edf546d8_87ad_11ed_b140_b445066bfd9brow0_col0\" class=\"data row0 col0\" >B.C. Fish Passage Technical Working Group</td>\n",
       "                        <td id=\"T_edf546d8_87ad_11ed_b140_b445066bfd9brow0_col1\" class=\"data row0 col1\" >The provincial government of B.C. can assist with local knowledge, data, expertise and can help facilitate barrier remediation work. </td>\n",
       "            </tr>\n",
       "            <tr>\n",
       "                                <td id=\"T_edf546d8_87ad_11ed_b140_b445066bfd9brow1_col0\" class=\"data row1 col0\" >Cindy Verbeek/ A Rocha Canada, Upper Bulkley Streamkeepers</td>\n",
       "                        <td id=\"T_edf546d8_87ad_11ed_b140_b445066bfd9brow1_col1\" class=\"data row1 col1\" >A Rocha educates and coordinates environmental stewardship activities for local people in the upper Bulkley watershed and can advise and support where needed.  A Rocha Canada runs the Upper Bulkley River Streamkeepers project working with local environmental organizations, churches, schools, governments and citizens to ensure the watershed is healthy and flourishing. They have bio-inventory surveying data, water temperature data, and can help ensure that salmon reach their spawning ground. </td>\n",
       "            </tr>\n",
       "            <tr>\n",
       "                                <td id=\"T_edf546d8_87ad_11ed_b140_b445066bfd9brow2_col0\" class=\"data row2 col0\" >Canadian National Rail (CN Rail)</td>\n",
       "                        <td id=\"T_edf546d8_87ad_11ed_b140_b445066bfd9brow2_col1\" class=\"data row2 col1\" >CN Rail is a major proponent and barrier owner that can play a role in improving and replacing crossings in the valley bottom of the Bulkley River watershed. </td>\n",
       "            </tr>\n",
       "            <tr>\n",
       "                                <td id=\"T_edf546d8_87ad_11ed_b140_b445066bfd9brow3_col0\" class=\"data row3 col0\" >David Wilford – Ministry of Forests, Lands, Natural Resource Operations and Rural Development (FLNRO)</td>\n",
       "                        <td id=\"T_edf546d8_87ad_11ed_b140_b445066bfd9brow3_col1\" class=\"data row3 col1\" >Dave Wilford is a hydrologist and researcher working in the watershed. </td>\n",
       "            </tr>\n",
       "            <tr>\n",
       "                                <td id=\"T_edf546d8_87ad_11ed_b140_b445066bfd9brow4_col0\" class=\"data row4 col0\" >Gitksan Watershed Authorities</td>\n",
       "                        <td id=\"T_edf546d8_87ad_11ed_b140_b445066bfd9brow4_col1\" class=\"data row4 col1\" >Gitksan Watershed Authorities is a traditional and science-based body of fisheries professionals, biologists, field technicians, community leaders and support staff. This group is governed according to the traditional Gitksan house system. The GWA functions to represent the Gitksan for the management of fisheries on the Skeena and within the Gitksan territories.</td>\n",
       "            </tr>\n",
       "            <tr>\n",
       "                                <td id=\"T_edf546d8_87ad_11ed_b140_b445066bfd9brow5_col0\" class=\"data row5 col0\" >Jeff Anderson</td>\n",
       "                        <td id=\"T_edf546d8_87ad_11ed_b140_b445066bfd9brow5_col1\" class=\"data row5 col1\" >Jeff Anderson is a hydrologist at Geomorphic Consulting working in the watershed. </td>\n",
       "            </tr>\n",
       "            <tr>\n",
       "                                <td id=\"T_edf546d8_87ad_11ed_b140_b445066bfd9brow6_col0\" class=\"data row6 col0\" >Skeena Knowledge Trust</td>\n",
       "                        <td id=\"T_edf546d8_87ad_11ed_b140_b445066bfd9brow6_col1\" class=\"data row6 col1\" >The Skeena Knowledge Trust can help with data management. </td>\n",
       "            </tr>\n",
       "            <tr>\n",
       "                                <td id=\"T_edf546d8_87ad_11ed_b140_b445066bfd9brow7_col0\" class=\"data row7 col0\" >Ken Rabnett</td>\n",
       "                        <td id=\"T_edf546d8_87ad_11ed_b140_b445066bfd9brow7_col1\" class=\"data row7 col1\" >Ken Rabnett is a researcher, field lead and an excellent source of local knowledge.</td>\n",
       "            </tr>\n",
       "            <tr>\n",
       "                                <td id=\"T_edf546d8_87ad_11ed_b140_b445066bfd9brow8_col0\" class=\"data row8 col0\" >Ministry of Transportation and Infrastructure (MOTI)</td>\n",
       "                        <td id=\"T_edf546d8_87ad_11ed_b140_b445066bfd9brow8_col1\" class=\"data row8 col1\" >MOTI is a major proponent and barrier owner that can play a role in improving and replacing crossings in the valley bottom of the Bulkley River watershed.</td>\n",
       "            </tr>\n",
       "            <tr>\n",
       "                                <td id=\"T_edf546d8_87ad_11ed_b140_b445066bfd9brow9_col0\" class=\"data row9 col0\" >Ministry of Forests, Lands, Natural Resource Operations, and Rural Development (FLNRORD)</td>\n",
       "                        <td id=\"T_edf546d8_87ad_11ed_b140_b445066bfd9brow9_col1\" class=\"data row9 col1\" >FLNRORD can assist with engineering and design work for remediation projects. </td>\n",
       "            </tr>\n",
       "            <tr>\n",
       "                                <td id=\"T_edf546d8_87ad_11ed_b140_b445066bfd9brow10_col0\" class=\"data row10 col0\" >Environmental Stewardship Initiative – Skeena Sustainability Assessment Forum (ESI:SSAF)</td>\n",
       "                        <td id=\"T_edf546d8_87ad_11ed_b140_b445066bfd9brow10_col1\" class=\"data row10 col1\" >ESI:SSAF is a forum that allows first Nations and the Province to Fully collaborate to enhance environmental sustainability, and to address First Nation’s long standing concerns with stewardship of the land and cumulative impacts in their traditional territories by creating meaningful space for traditional ecological knowledge alongside western science. ESI:SSAFF should be engaged to coordinate local implementation of the outcomes of the WCRP and support future planning updates.</td>\n",
       "            </tr>\n",
       "            <tr>\n",
       "                                <td id=\"T_edf546d8_87ad_11ed_b140_b445066bfd9brow11_col0\" class=\"data row11 col0\" >SkeenaWild Conservation Trust</td>\n",
       "                        <td id=\"T_edf546d8_87ad_11ed_b140_b445066bfd9brow11_col1\" class=\"data row11 col1\" >SkeenaWild engages in applied scientific research on salmon ecosystems and can help provide data. </td>\n",
       "            </tr>\n",
       "            <tr>\n",
       "                                <td id=\"T_edf546d8_87ad_11ed_b140_b445066bfd9brow12_col0\" class=\"data row12 col0\" >Stu Barns/Skeena Fisheries Commission</td>\n",
       "                        <td id=\"T_edf546d8_87ad_11ed_b140_b445066bfd9brow12_col1\" class=\"data row12 col1\" >The Skeena Fisheries Commission is an umbrella organization for First Nations and works directly with the Office of the Wet’suwet’en and the Gitxsan Watershed Authority. They can advise and support where needed. </td>\n",
       "            </tr>\n",
       "    </tbody></table>"
      ],
      "text/plain": [
       "<pandas.io.formats.style.Styler at 0x1ae1e654a08>"
      ]
     },
     "metadata": {
      "scrapbook": {
       "mime_prefix": "",
       "name": "Table2"
      }
     },
     "output_type": "display_data"
    }
   ],
   "source": [
    "\n",
    "import pandas as pd\n",
    "import warnings\n",
    "\n",
    "warnings.filterwarnings('ignore')\n",
    "\n",
    "data = pd.read_csv('key_actors.csv', index_col=False)\n",
    "\n",
    "data = data.style.hide_index().set_properties(**{'text-align': 'left'})\n",
    "\n",
    "data.set_table_styles(\n",
    "[dict(selector = 'th', props=[('text-align', 'left')])])\n",
    "\n",
    "glue(\"Table2\", data)"
   ]
  },
  {
   "attachments": {},
   "cell_type": "markdown",
   "metadata": {},
   "source": [
    "```{glue:figure} Table2\n",
    ":name: \"table2\"\n",
    "\n",
    "*Additional Key Actors in the Bulkley River watershed. Key Actors are the individuals, groups, and/or organizations, outside of the planning team, with influence and relevant experience in the watershed, whose engagement will be critical for the successful implementation of this WCRP.* \n",
    "```"
   ]
  },
  {
   "attachments": {},
   "cell_type": "markdown",
   "metadata": {},
   "source": [
    "# Project Scope\n",
    "\n",
    "Connectivity is a critical component of freshwater ecosystems that encompasses a variety of factors related to ecosystem structure and function, such as the ability of aquatic organisms to disperse and/or migrate, the transportation of energy and matter (e.g., nutrient cycling and sediment flows), and temperature regulation {cite}`Seliger2018-be`. Though each of these factors are important when considering the health of a watershed, for the purposes of this WCRP the term \"connectivity\" is defined as the degree to which aquatic organisms can disperse and/or migrate freely through freshwater systems. Within this context, connectivity is primarily constrained by physical barriers including anthropogenic infrastructure such as dams, weirs, and stream crossings, and natural features such as waterfalls and debris flows. This plan is intended to focus on the direct remediation and prevention of localized, physical barriers instead of the broad land-use patterns that are causing chronic connectivity issues in the watershed. The planning team decided that the primary focus of this WCRP is addressing barriers to longitudinal connectivity (i.e., along the upstream-downstream plane) due to the magnitude of the threat posed by linear development (i.e., road and rail lines) in the watershed. \n",
    "\n",
    " "
   ]
  },
  {
   "attachments": {},
   "cell_type": "markdown",
   "metadata": {},
   "source": [
    "```{figure} figure1.png\n",
    "---\n",
    "height: 400px\n",
    "width: 1000px\n",
    "name: fig1\n",
    "---\n",
    "*The primary geographic scope — the Bulkley River watershed, excluding the Morice River drainage.*\n",
    "```"
   ]
  },
  {
   "attachments": {},
   "cell_type": "markdown",
   "metadata": {},
   "source": [
    "The primary geographic scope of this WCRP is the Bulkley River watershed, located in the mid-eastern portion of the Skeena River drainage basin in northwestern British Columbia ({numref}`fig1`). The scope constitutes the Bulkley River \"watershed group\" as defined by the [British Columbia Freshwater Atlas](https://catalogue.data.gov.bc.ca/dataset/freshwater-atlas-watershed-groups) (FWA), which excludes the Morice River drainage area due to an effort made to standardize spatial scales of the watershed groups. A consistent spatial framework was necessary to undertake a watershed-selection process at the provincial scale to identify target watersheds to improve connectivity for salmonids. The Bulkley River watershed was identified by the BC Fish Passage Restoration Initiative as one of four target watersheds for WCRP development {cite}`Mazany-Wright2021-do`. The Bulkley River watershed has a drainage area of 776,200 ha, spanning from Bulkley Lake in the southeast to the confluence with the Skeena River in the northwest. The watershed is generally divided into the \"lower\" Bulkley River and the \"upper\" Bulkley River by the confluence with the Morice River near the town of Houston. Culturally and economically important populations of Chinook Salmon (Oncorhynchus tshawytscha), Coho Salmon (Oncorhynchus kisutch), Sockeye Salmon (Oncorhynchus nerka), and Steelhead (Oncorhynchus mykiss) are all found in the watershed, which historically supported Indigenous sustenance and trading economies  ({numref}`table3`; Irvine 2021). "
   ]
  },
  {
   "cell_type": "code",
   "execution_count": 3,
   "metadata": {
    "tags": [
     "remove-input",
     "remove-output"
    ]
   },
   "outputs": [
    {
     "data": {
      "text/html": [
       "<style  type=\"text/css\" >\n",
       "    #T_edfbccb4_87ad_11ed_9783_b445066bfd9b th {\n",
       "          text-align: left;\n",
       "    }#T_edfbccb4_87ad_11ed_9783_b445066bfd9brow0_col0,#T_edfbccb4_87ad_11ed_9783_b445066bfd9brow0_col1,#T_edfbccb4_87ad_11ed_9783_b445066bfd9brow0_col2,#T_edfbccb4_87ad_11ed_9783_b445066bfd9brow0_col3,#T_edfbccb4_87ad_11ed_9783_b445066bfd9brow1_col0,#T_edfbccb4_87ad_11ed_9783_b445066bfd9brow1_col1,#T_edfbccb4_87ad_11ed_9783_b445066bfd9brow1_col2,#T_edfbccb4_87ad_11ed_9783_b445066bfd9brow1_col3,#T_edfbccb4_87ad_11ed_9783_b445066bfd9brow2_col0,#T_edfbccb4_87ad_11ed_9783_b445066bfd9brow2_col1,#T_edfbccb4_87ad_11ed_9783_b445066bfd9brow2_col2,#T_edfbccb4_87ad_11ed_9783_b445066bfd9brow2_col3,#T_edfbccb4_87ad_11ed_9783_b445066bfd9brow3_col0,#T_edfbccb4_87ad_11ed_9783_b445066bfd9brow3_col1,#T_edfbccb4_87ad_11ed_9783_b445066bfd9brow3_col2,#T_edfbccb4_87ad_11ed_9783_b445066bfd9brow3_col3{\n",
       "            text-align:  left;\n",
       "        }</style><table id=\"T_edfbccb4_87ad_11ed_9783_b445066bfd9b\" ><thead>    <tr>        <th class=\"col_heading level0 col0\" >Gitxsanimax</th>        <th class=\"col_heading level0 col1\" >Witsuwit'en</th>        <th class=\"col_heading level0 col2\" >Common Name</th>        <th class=\"col_heading level0 col3\" >Scientific Name</th>    </tr></thead><tbody>\n",
       "                <tr>\n",
       "                                <td id=\"T_edfbccb4_87ad_11ed_9783_b445066bfd9brow0_col0\" class=\"data row0 col0\" >Ya’aa</td>\n",
       "                        <td id=\"T_edfbccb4_87ad_11ed_9783_b445066bfd9brow0_col1\" class=\"data row0 col1\" >Ggïs</td>\n",
       "                        <td id=\"T_edfbccb4_87ad_11ed_9783_b445066bfd9brow0_col2\" class=\"data row0 col2\" >Chinook Salmon</td>\n",
       "                        <td id=\"T_edfbccb4_87ad_11ed_9783_b445066bfd9brow0_col3\" class=\"data row0 col3\" >Oncorhynchus tshawytscha</td>\n",
       "            </tr>\n",
       "            <tr>\n",
       "                                <td id=\"T_edfbccb4_87ad_11ed_9783_b445066bfd9brow1_col0\" class=\"data row1 col0\" >Eek</td>\n",
       "                        <td id=\"T_edfbccb4_87ad_11ed_9783_b445066bfd9brow1_col1\" class=\"data row1 col1\" >Deedzex</td>\n",
       "                        <td id=\"T_edfbccb4_87ad_11ed_9783_b445066bfd9brow1_col2\" class=\"data row1 col2\" >Coho Salmon</td>\n",
       "                        <td id=\"T_edfbccb4_87ad_11ed_9783_b445066bfd9brow1_col3\" class=\"data row1 col3\" >Oncorhynchus kisutch</td>\n",
       "            </tr>\n",
       "            <tr>\n",
       "                                <td id=\"T_edfbccb4_87ad_11ed_9783_b445066bfd9brow2_col0\" class=\"data row2 col0\" >Mi’soo</td>\n",
       "                        <td id=\"T_edfbccb4_87ad_11ed_9783_b445066bfd9brow2_col1\" class=\"data row2 col1\" >Taalook</td>\n",
       "                        <td id=\"T_edfbccb4_87ad_11ed_9783_b445066bfd9brow2_col2\" class=\"data row2 col2\" >Sockeye Salmon</td>\n",
       "                        <td id=\"T_edfbccb4_87ad_11ed_9783_b445066bfd9brow2_col3\" class=\"data row2 col3\" >Oncorhynchus nerka</td>\n",
       "            </tr>\n",
       "            <tr>\n",
       "                                <td id=\"T_edfbccb4_87ad_11ed_9783_b445066bfd9brow3_col0\" class=\"data row3 col0\" >Milit</td>\n",
       "                        <td id=\"T_edfbccb4_87ad_11ed_9783_b445066bfd9brow3_col1\" class=\"data row3 col1\" >Tësdlï</td>\n",
       "                        <td id=\"T_edfbccb4_87ad_11ed_9783_b445066bfd9brow3_col2\" class=\"data row3 col2\" >Steelhead</td>\n",
       "                        <td id=\"T_edfbccb4_87ad_11ed_9783_b445066bfd9brow3_col3\" class=\"data row3 col3\" >Oncorhynchus mykiss</td>\n",
       "            </tr>\n",
       "    </tbody></table>"
      ],
      "text/plain": [
       "<pandas.io.formats.style.Styler at 0x1ae1e6db148>"
      ]
     },
     "metadata": {
      "scrapbook": {
       "mime_prefix": "",
       "name": "Table3"
      }
     },
     "output_type": "display_data"
    }
   ],
   "source": [
    "\n",
    "import pandas as pd\n",
    "import warnings\n",
    "\n",
    "warnings.filterwarnings('ignore')\n",
    "\n",
    "data = pd.read_csv('species_names.csv', index_col=False)\n",
    "\n",
    "data = data.style.hide_index().set_properties(**{'text-align': 'left'})\n",
    "\n",
    "data.set_table_styles(\n",
    "[dict(selector = 'th', props=[('text-align', 'left')])])\n",
    "\n",
    "glue(\"Table3\", data)"
   ]
  },
  {
   "attachments": {},
   "cell_type": "markdown",
   "metadata": {},
   "source": [
    "```{glue:figure} Table3\n",
    ":name: \"table3\"\n",
    "\n",
    "*Target fish species in the Bulkley River watershed. The Gitxsanimax, Witsuwit'en, and Western common and scientific species names are provided.*\n",
    "```"
   ]
  },
  {
   "attachments": {},
   "cell_type": "markdown",
   "metadata": {},
   "source": [
    "The Horsefly River watershed comprises parts of Secwepemcúl’ecw, the traditional territory of the Northern Secwepemc te Qelmucw (NStQ), represented by the Northern Shuswap Tribal Council and four member communities or autonomous nations:\n",
    "\n",
    "- **Gitxsan** peoples– the traditional Gitxsan Laxyip spans the northern portion of the watershed, including the Suskwa River, and is governed by a hereditary system of 60 Wilps or House Groups who are represented by Simgigyat (hereditary chiefs). Each Wilp has jurisdiction over several Anaat, or fishing sites. The Wilp groups that have territory coinciding with the Bulkley River watershed include Djogaslee, Gyet’m Galdo’o, Luutkudziiwas, Axtii Tsex, Yagosip, and Spookw (G. Sebastian pers. comm.). The Gitxsan steward the land and waters based on Ayookw (Gitxsan law) and Adaakw (oral histories; Gitxsan 2019, Irvine 2021). It is necessary to receive permission from the individual Wilp chief for any work to occur on their territory.\n",
    "\n",
    "- **Wet’suwet’en** peoples– the Wedzin Kwah (Bulkley River watershed) is part of the larger Wet’suwet’en traditional territory. The hereditary territory is governed by a system made up of five clans – Gilseyhu (Big Frog), Laksilyu (Small Frog), Tsayu (Beaver), Gitdumden (Wolf/Bear) and Laksamshu (Fireweed) – each of which comprises multiple Yikhs (House Groups) represented by hereditary chiefs. The Wet’suwet’en steward the land based on Inuk Nu’at’en (Wet'suwet'en law), and the principle of Yintahk, meaning everything is connected to the land (Office of the Wet’suwet’en 2013, Irvine 2021). It is necessary to receive permission from the appropriate bands (Witset First Nation or Wet'suwet'en first Nation, Skin Tyee, Nee Tahi Buhn, or Burns Lake Band), nation representatives (Office of the Wet’suwet’en), and the individual Yikh chiefs for any work to occur on their territory.\n",
    "\n",
    "The geographic scope of this WCRP was further refined by identifying “potentially accessible” stream segments, which are defined as streams that target species should be able to access in the absence of anthropogenic barriers (Figure 2). Potentially accessible stream segments were spatially delineated using fish species observation and distribution data, as well as data on \"exclusionary points\", which are waterfalls greater than 5 m in height and gradient barriers based on species-specific swimming abilities. These maps were explored by the planning team to incorporate additional local knowledge, ensure accuracy, and finalize the constraints on potentially accessible stream segments. All other stream segments were removed from the scope for further consideration. The \"constrained geographic scope\" formed the foundation for all subsequent analyses and planning steps, including mapping and modelling useable habitat types, quantifying the current connectivity status, goal setting, and action planning {cite}`Mazany-Wright2021-rz`. "
   ]
  },
  {
   "attachments": {},
   "cell_type": "markdown",
   "metadata": {},
   "source": [
    "```{figure} figure2.png\n",
    "---\n",
    "height: 400px\n",
    "width: 1000px\n",
    "name: fig2\n",
    "---\n",
    "*Potentially accessible stream segments within the Bulkley River watershed. These do not represent useable habitat types, but rather identifies the stream segments within which habitat modelling and barrier mapping and prioritization was undertaken.*\n",
    "```"
   ]
  },
  {
   "attachments": {},
   "cell_type": "markdown",
   "metadata": {},
   "source": [
    "# Target species\n",
    "Target species represent the ecologically and culturally important species for which habitat connectivity is being conserved and/or restored in the watershed. In the Bulkley River watershed, the planning team selected Anadromous Salmonids as the target species group, which comprises Chinook Salmon, Coho Salmon, Sockeye Salmon, and Steelhead. Anadromous salmonids also include Pink Salmon (Oncorhynchus gorbuscha) and Chum Salmon (Oncorhynchus keta) as beneficiary species (i.e., species that are not actively targeted through the planning process but will also benefit from connectivity improvements for target anadromous species in the watershed). The selection of these target species was driven primarily by the target species of the primary fund supporting this planning work. The planning team also identified other culturally and ecologically important species within the watershed to consider for inclusion in future iterations of the WCRP, including Pacific Lamprey (Entosphenus tridentatus) and Bull Trout (Salvelinus confluentus).\n",
    "### Anadromous Salmonids\n",
    "Anadromous salmonids are cultural and ecological keystone species that contribute to productive ecosystems by contributing marine-derived nutrients to the watershed and forming an important food source for grizzly bears and other species (Schindler et al. 2003). Salmon have enduring food, social, and ceremonial value for the Gitxsan and Wet’suwet’en peoples and contribute significant economic value for recreational and commercial fisheries. Salmon have sustained the culture and economies of Indigenous peoples in the watershed since time immemorial – providing the primary food source for communities, supporting wide-ranging trade systems, and helping pass knowledge and ceremony to future generations through fishing and fish processing (SSAF 2021, Office of the Wet’suwet’en 2013, Rescan 2012).\n",
    "\n",
    "Anadromous salmonid populations in the Bulkley River watershed have declined significantly in recent decades, leading both the Gitxsan and Wet’suwet’en nations to declare harvest moratoriums or fishing bans in their territories (Office of the Wet’suwet’en 2013, Gitxsan Huwilp Government 2019). The stewardship of these resources in their territories are imbued in the spirit and culture of these nations through a symbiotic relationship with these fish species – threats to the fish are threats to the well-being of the Wet’suwet’en and Gitxsan peoples (SSAF 2021). The stewardship of their waters continues through the work of the [Gitksan Watershed](http://gitksanwatershed.com/) and the [Wet’suwet’en Fisheries Program](http://www.wetsuweten.com/departments/fisheries-and-wildlife/), as well as collaborative initiatives like the Skeena Environment Stewardship Initiative. \n",
    "\n",
    "For the purposes of this WCRP, anadromous salmonid populations are defined using Fisheries and Oceans Canada's Conservation Units. A Conservation Unit (CU) is a group of wild Pacific salmon sufficiently isolated from other groups that, if extirpated, is very unlikely to recolonize naturally within an acceptable timeframe, such as a human lifetime or a specified number of salmon generations. Conservation Units are not defined for Steelhead, as such there is no assessment information to provide for the Bulkley River watershed population. See Appendix A for maps of modelled anadromous salmonid spawning and rearing habitat in the Bulkley River watershed.\n",
    "\n",
    "### Chinook Salmon | Ya’aa | Ggïs | Oncorhynchus tshawytscha\n",
    "\n"
   ]
  },
  {
   "cell_type": "code",
   "execution_count": 4,
   "metadata": {
    "tags": [
     "remove-input"
    ]
   },
   "outputs": [
    {
     "data": {
      "text/html": [
       "<style  type=\"text/css\" >\n",
       "    #T_ee0036c6_87ad_11ed_a75d_b445066bfd9b th {\n",
       "          text-align: left;\n",
       "    }#T_ee0036c6_87ad_11ed_a75d_b445066bfd9brow0_col0,#T_ee0036c6_87ad_11ed_a75d_b445066bfd9brow0_col1,#T_ee0036c6_87ad_11ed_a75d_b445066bfd9brow0_col2,#T_ee0036c6_87ad_11ed_a75d_b445066bfd9brow0_col3,#T_ee0036c6_87ad_11ed_a75d_b445066bfd9brow0_col4,#T_ee0036c6_87ad_11ed_a75d_b445066bfd9brow1_col0,#T_ee0036c6_87ad_11ed_a75d_b445066bfd9brow1_col1,#T_ee0036c6_87ad_11ed_a75d_b445066bfd9brow1_col2,#T_ee0036c6_87ad_11ed_a75d_b445066bfd9brow1_col3,#T_ee0036c6_87ad_11ed_a75d_b445066bfd9brow1_col4{\n",
       "            text-align:  left;\n",
       "        }</style><table id=\"T_ee0036c6_87ad_11ed_a75d_b445066bfd9b\" ><thead>    <tr>        <th class=\"col_heading level0 col0\" >Conservation Unit</th>        <th class=\"col_heading level0 col1\" >Biological Status</th>        <th class=\"col_heading level0 col2\" >Run timing</th>        <th class=\"col_heading level0 col3\" >Trend in spawner abundance (all available data)</th>        <th class=\"col_heading level0 col4\" >Trend in spawner abundance (last 3 generations)</th>    </tr></thead><tbody>\n",
       "                <tr>\n",
       "                                <td id=\"T_ee0036c6_87ad_11ed_a75d_b445066bfd9brow0_col0\" class=\"data row0 col0\" >Middle Skeena – Mainstem Tributaries</td>\n",
       "                        <td id=\"T_ee0036c6_87ad_11ed_a75d_b445066bfd9brow0_col1\" class=\"data row0 col1\" >Good</td>\n",
       "                        <td id=\"T_ee0036c6_87ad_11ed_a75d_b445066bfd9brow0_col2\" class=\"data row0 col2\" >July-September</td>\n",
       "                        <td id=\"T_ee0036c6_87ad_11ed_a75d_b445066bfd9brow0_col3\" class=\"data row0 col3\" >575%</td>\n",
       "                        <td id=\"T_ee0036c6_87ad_11ed_a75d_b445066bfd9brow0_col4\" class=\"data row0 col4\" >-63%</td>\n",
       "            </tr>\n",
       "            <tr>\n",
       "                                <td id=\"T_ee0036c6_87ad_11ed_a75d_b445066bfd9brow1_col0\" class=\"data row1 col0\" >Upper Bulkley River</td>\n",
       "                        <td id=\"T_ee0036c6_87ad_11ed_a75d_b445066bfd9brow1_col1\" class=\"data row1 col1\" >Data Deficient</td>\n",
       "                        <td id=\"T_ee0036c6_87ad_11ed_a75d_b445066bfd9brow1_col2\" class=\"data row1 col2\" >Data Deficient</td>\n",
       "                        <td id=\"T_ee0036c6_87ad_11ed_a75d_b445066bfd9brow1_col3\" class=\"data row1 col3\" >Data Deficient</td>\n",
       "                        <td id=\"T_ee0036c6_87ad_11ed_a75d_b445066bfd9brow1_col4\" class=\"data row1 col4\" >Data Deficient</td>\n",
       "            </tr>\n",
       "    </tbody></table>"
      ],
      "text/plain": [
       "<pandas.io.formats.style.Styler at 0x1ae1e6deac8>"
      ]
     },
     "execution_count": 4,
     "metadata": {},
     "output_type": "execute_result"
    }
   ],
   "source": [
    "from IPython.display import display, HTML\n",
    "import pandas as pd\n",
    "import warnings\n",
    "\n",
    "warnings.filterwarnings('ignore')\n",
    "\n",
    "data = pd.read_csv('Chinook1.csv', index_col=False)\n",
    "\n",
    "data = data.style.hide_index().set_properties(**{'text-align': 'left'})\n",
    "\n",
    "data.set_table_styles(\n",
    "[dict(selector = 'th', props=[('text-align', 'left')])])\n"
   ]
  },
  {
   "attachments": {},
   "cell_type": "markdown",
   "metadata": {},
   "source": [
    "\n",
    "```{glue:figure} Table4\n",
    ":name: \"table4\"\n",
    "\n",
    "*Chinook Salmon Conservation Units assessments in the Bulkley River watershed. Assessments undertaken by the [Pacific Salmon Foundation](https://www.salmonexplorer.ca/#!/skeena/chinook)(2020).*\n",
    "```"
   ]
  },
  {
   "attachments": {},
   "cell_type": "markdown",
   "metadata": {},
   "source": [
    "The Middle Skeena – Mainstem Tributaries Chinook Salmon spawn in the mainstem Bulkley River (downstream of the confluence with the Morice River) and in key tributaries, including Telkwa River, Goathorn Creek, Howson Creek, Kathlyn Creek, Suskwa River, Harold Price Creek, and Natlan Creek. The Middle Skeena Chinook Salmon stocks have seen a decline in recent years, particularly over the last three generations of spawners [Pacific Salmon Explorer](https://www.salmonexplorer.ca/#!/skeena/chinook/middle-skeena-mainstem-tributaries&pop=ABUNDANCE_TREND&pop-detail=1). \n",
    "\n",
    "The upper Bulkley River Chinook Salmon (upstream of the confluence with the Morice River) are the first salmon to return in the year, usually early-to-mid June, marking the start of the salmon fishery in the watershed (Office of the Wet’suwet’en 2013). The upper Bulkley River population is known to spawn in the mainstem and tributaries of the Bulkley River, including Buck Creek, Byman Creek, Richfield Creek, Maxan Creek, and Foxy Creek. In some years, low water flows prevent adult Chinook Salmon from migrating past Bulkley Falls. The upper Bulkley Chinook Salmon stocks have been observed to be in decline and are threatened, in part, by habitat degradation, including linear development (e.g., highway, rail, and road infrastructure) that fragments tributaries (Office of the Wet’suwet’en 2013, [Pacific Salmon Explorer](https://www.salmonexplorer.ca/#!/skeena/chinook/middle-skeena-mainstem-tributaries&pop=ABUNDANCE_TREND&pop-detail=1)).\n",
    "\n",
    "### Coho Salmon | Eek | Deedzex | Oncorhynchus kisutch"
   ]
  },
  {
   "cell_type": "code",
   "execution_count": 5,
   "metadata": {
    "tags": [
     "remove-input",
     "remove-output"
    ]
   },
   "outputs": [
    {
     "data": {
      "text/html": [
       "<style  type=\"text/css\" >\n",
       "    #T_ee04d6f8_87ad_11ed_a6a9_b445066bfd9b th {\n",
       "          text-align: left;\n",
       "    }#T_ee04d6f8_87ad_11ed_a6a9_b445066bfd9brow0_col0,#T_ee04d6f8_87ad_11ed_a6a9_b445066bfd9brow0_col1,#T_ee04d6f8_87ad_11ed_a6a9_b445066bfd9brow0_col2,#T_ee04d6f8_87ad_11ed_a6a9_b445066bfd9brow0_col3,#T_ee04d6f8_87ad_11ed_a6a9_b445066bfd9brow0_col4{\n",
       "            text-align:  left;\n",
       "        }</style><table id=\"T_ee04d6f8_87ad_11ed_a6a9_b445066bfd9b\" ><thead>    <tr>        <th class=\"col_heading level0 col0\" >Conservation Unit</th>        <th class=\"col_heading level0 col1\" >Biological Status</th>        <th class=\"col_heading level0 col2\" >Run timing</th>        <th class=\"col_heading level0 col3\" >Trend in spawner abundance (all available data)</th>        <th class=\"col_heading level0 col4\" >Trend in spawner abundance (last 3 generations)</th>    </tr></thead><tbody>\n",
       "                <tr>\n",
       "                                <td id=\"T_ee04d6f8_87ad_11ed_a6a9_b445066bfd9brow0_col0\" class=\"data row0 col0\" >Middle Skeena</td>\n",
       "                        <td id=\"T_ee04d6f8_87ad_11ed_a6a9_b445066bfd9brow0_col1\" class=\"data row0 col1\" >Good</td>\n",
       "                        <td id=\"T_ee04d6f8_87ad_11ed_a6a9_b445066bfd9brow0_col2\" class=\"data row0 col2\" >July-September</td>\n",
       "                        <td id=\"T_ee04d6f8_87ad_11ed_a6a9_b445066bfd9brow0_col3\" class=\"data row0 col3\" >82%</td>\n",
       "                        <td id=\"T_ee04d6f8_87ad_11ed_a6a9_b445066bfd9brow0_col4\" class=\"data row0 col4\" >-26%</td>\n",
       "            </tr>\n",
       "    </tbody></table>"
      ],
      "text/plain": [
       "<pandas.io.formats.style.Styler at 0x1ae1e719a08>"
      ]
     },
     "metadata": {
      "scrapbook": {
       "mime_prefix": "",
       "name": "Table5"
      }
     },
     "output_type": "display_data"
    }
   ],
   "source": [
    "import warnings\n",
    "\n",
    "warnings.filterwarnings('ignore')\n",
    "\n",
    "data = pd.read_csv('coho1.csv', index_col=False)\n",
    "data = data.style.hide_index().set_properties(**{'text-align': 'left'})\n",
    "\n",
    "data.set_table_styles(\n",
    "[dict(selector = 'th', props=[('text-align', 'left')])])\n",
    "\n",
    "glue(\"Table5\", data)\n"
   ]
  },
  {
   "attachments": {},
   "cell_type": "markdown",
   "metadata": {},
   "source": [
    "\n",
    "\n",
    "```{glue:figure} Table5\n",
    ":name: \"table5\"\n",
    "\n",
    "*Table 5. Coho Salmon Conservation Unit assessment in the Bulkley River Watershed. Assessments undertaken by the  [Pacific Salmon Explorer](https://www.salmonexplorer.ca/#!/skeena/chinook/middle-skeena-mainstem-tributaries&pop=ABUNDANCE_TREND&pop-detail=1)(2020).*\n",
    "```"
   ]
  },
  {
   "attachments": {},
   "cell_type": "markdown",
   "metadata": {},
   "source": [
    "\n",
    "Coho Salmon are the most widely dispersed anadromous salmonid species in the Bulkley River watershed due to their ability to move into smaller tributaries, including headwater streams. Coho Salmon spawning migration peaks in early-to-mid August, though traditionally the main Coho Salmon fishery occurs later in the season (Office of the Wet’suwet’en 2013). Spawning and rearing of the Middle Skeena population is known to occur within the watershed in the mainstem channels of the Bulkley, Telkwa, and Suskwa Rivers, and key tributaries, including Buck Creek, Aitken Creek, McQuarrie Creek, Byman Creek, Richfield Creek, Ailport Creek, and Maxan Creek. In recent decades, Coho Salmon distribution has often been limited to areas downstream of Bulkley Falls, but in years with sufficient flow, tributaries upstream of the falls are well-used by rearing juveniles (M. Risdale pers. comm.). The Coho Salmon population in the watershed appeared to begin recovering around 1998 but has since declined over the last three generations of spawners (Office of the Wet’suwet’en 2013, PSF 2014). Additionally, since 1989, tens of thousands of Coho Salmon fry have been released into the upper Bulkley River mainstem from the Toboggan Hatchery on Toboggan Creek (Office of the Wet’suwet’en 2013).\n",
    "\n",
    "### Sockeye Salmon | Mi’soo | Taalook | Oncorhynchus nerka\n",
    "\n"
   ]
  },
  {
   "cell_type": "code",
   "execution_count": 6,
   "metadata": {
    "tags": [
     "remove-input",
     "remove-output"
    ]
   },
   "outputs": [
    {
     "data": {
      "text/html": [
       "<style  type=\"text/css\" >\n",
       "    #T_ee09402c_87ad_11ed_8035_b445066bfd9b th {\n",
       "          text-align: left;\n",
       "    }#T_ee09402c_87ad_11ed_8035_b445066bfd9brow0_col0,#T_ee09402c_87ad_11ed_8035_b445066bfd9brow0_col1,#T_ee09402c_87ad_11ed_8035_b445066bfd9brow0_col2,#T_ee09402c_87ad_11ed_8035_b445066bfd9brow0_col3,#T_ee09402c_87ad_11ed_8035_b445066bfd9brow0_col4,#T_ee09402c_87ad_11ed_8035_b445066bfd9brow1_col0,#T_ee09402c_87ad_11ed_8035_b445066bfd9brow1_col1,#T_ee09402c_87ad_11ed_8035_b445066bfd9brow1_col2,#T_ee09402c_87ad_11ed_8035_b445066bfd9brow1_col3,#T_ee09402c_87ad_11ed_8035_b445066bfd9brow1_col4{\n",
       "            text-align:  left;\n",
       "        }</style><table id=\"T_ee09402c_87ad_11ed_8035_b445066bfd9b\" ><thead>    <tr>        <th class=\"col_heading level0 col0\" >Conservation Unit</th>        <th class=\"col_heading level0 col1\" >Biological Status</th>        <th class=\"col_heading level0 col2\" >Run timing</th>        <th class=\"col_heading level0 col3\" >Trend in spawner abundance (all available data)</th>        <th class=\"col_heading level0 col4\" >Trend in spawner abundance (last 3 generations)</th>    </tr></thead><tbody>\n",
       "                <tr>\n",
       "                                <td id=\"T_ee09402c_87ad_11ed_8035_b445066bfd9brow0_col0\" class=\"data row0 col0\" >Bulkley/Maxan (Lake type)</td>\n",
       "                        <td id=\"T_ee09402c_87ad_11ed_8035_b445066bfd9brow0_col1\" class=\"data row0 col1\" >Data Deficient</td>\n",
       "                        <td id=\"T_ee09402c_87ad_11ed_8035_b445066bfd9brow0_col2\" class=\"data row0 col2\" >Data Deficient</td>\n",
       "                        <td id=\"T_ee09402c_87ad_11ed_8035_b445066bfd9brow0_col3\" class=\"data row0 col3\" >Data Deficient</td>\n",
       "                        <td id=\"T_ee09402c_87ad_11ed_8035_b445066bfd9brow0_col4\" class=\"data row0 col4\" >Data Deficient</td>\n",
       "            </tr>\n",
       "            <tr>\n",
       "                                <td id=\"T_ee09402c_87ad_11ed_8035_b445066bfd9brow1_col0\" class=\"data row1 col0\" >Skeena River (River-type)</td>\n",
       "                        <td id=\"T_ee09402c_87ad_11ed_8035_b445066bfd9brow1_col1\" class=\"data row1 col1\" >Data Deficient</td>\n",
       "                        <td id=\"T_ee09402c_87ad_11ed_8035_b445066bfd9brow1_col2\" class=\"data row1 col2\" >Data Deficient</td>\n",
       "                        <td id=\"T_ee09402c_87ad_11ed_8035_b445066bfd9brow1_col3\" class=\"data row1 col3\" >Data Deficient</td>\n",
       "                        <td id=\"T_ee09402c_87ad_11ed_8035_b445066bfd9brow1_col4\" class=\"data row1 col4\" >Data Deficient</td>\n",
       "            </tr>\n",
       "    </tbody></table>"
      ],
      "text/plain": [
       "<pandas.io.formats.style.Styler at 0x1ae1e722808>"
      ]
     },
     "metadata": {
      "scrapbook": {
       "mime_prefix": "",
       "name": "Table6"
      }
     },
     "output_type": "display_data"
    }
   ],
   "source": [
    "import warnings\n",
    "\n",
    "warnings.filterwarnings('ignore')\n",
    "\n",
    "\n",
    "data = pd.read_csv('Sockeye2.csv', index_col=False)\n",
    "data = data.style.hide_index().set_properties(**{'text-align': 'left'})\n",
    "\n",
    "data.set_table_styles(\n",
    "[dict(selector = 'th', props=[('text-align', 'left')])])\n",
    "\n",
    "glue(\"Table6\", data)"
   ]
  },
  {
   "attachments": {},
   "cell_type": "markdown",
   "metadata": {},
   "source": [
    "\n",
    "\n",
    "```{glue:figure} Table6\n",
    ":name: \"table6\"\n",
    "\n",
    "*Table 6. Sockeye Salmon Conservation Unit Assessments in the Bulkley River watershed. There were not enough data to support assessments for Sockeye Salmon populations at the time of analysis. Assessments undertaken by the [Pacific salmon Foundation](https://www.salmonexplorer.ca/#!/skeena/sockeye)(2020)*\n",
    "```"
   ]
  },
  {
   "attachments": {},
   "cell_type": "markdown",
   "metadata": {},
   "source": [
    "Sockeye Salmon have cultural and commercial importance within the watershed, especially for First Nations communities, in part due to their fat content which is optimal for the smoke-drying process. Limitations on the Sockeye Salmon harvest in the watershed have hindered the ability of the Wet’suwet’en and Gitxsan to practice important cultural activities and the associated sharing of oral traditions and histories (SSAF 2021, Office of the Wet’suwet’en 2013). The Sockeye Salmon runs generally follow the spring Chinook Salmon migrations in the Bulkley River system, but Bulkley Falls and flows in some parts of Maxan Creek can limit migration during low-flow years. Data are insufficient for population assessments; however, it is believed that the Bulkley/Maxan populations are at risk of extirpation. There are two Sockeye Salmon populations present in the watershed with distinct life histories – the lake-type and the river-type (Office of the Wet’suwet’en 2013, PSF 2014). Two lake-type Sockeye Salmon sub-populations spawn and rear in and around Bulkley Lake and Maxan Lake, and a third lake-type sub-population was extirpated from Toboggan Lake. River-type Sockeye distribution and habitat use within the Bulkley River watershed is not well documented; however, there are records of Sockeye Salmon river spawners in the mainstem Bulkley River around Richfield Creek, McQuarrie Creek, the Morice River confluence, and the Suskwa River mainstem near Natlan Creek.\n",
    "\n",
    "### Steelhead | Milit | Tësdlï | Oncorhynchus mykiss\n",
    "\n",
    "Steelhead migrations coincide with the arrival of Coho Salmon in the watershed and are an important traditional food source to augment winter stores (Office of the Wet’suwet’en 2013). Steelhead are known to spawn and rear in the mainstem Bulkley River and important tributaries, including the Telkwa River, Hubert Creek, Buck Creek, McQuarrie Creek, Byman Creek, Richfield Creek, Ailport Creek, Johnny David Creek, and Robert Hatch Creek. In the lower part of the watershed, Steelhead are known to spawn and rear throughout the Suskwa River system, all the way up through Harold Price Creek and Blunt Creek. Local knowledge indicates that Steelhead populations have been declining in recent decades and are currently in poor condition throughout the entire watershed. In response, some stocking enhancement actions have been undertaken in an attempt to increase the population in the watershed (Office of the Wet’suwet’en 2013, Chudyk 1979)."
   ]
  }
 ],
 "metadata": {
  "kernelspec": {
   "display_name": "Python 3.7.12 ('test')",
   "language": "python",
   "name": "python3"
  },
  "language_info": {
   "codemirror_mode": {
    "name": "ipython",
    "version": 3
   },
   "file_extension": ".py",
   "mimetype": "text/x-python",
   "name": "python",
   "nbconvert_exporter": "python",
   "pygments_lexer": "ipython3",
   "version": "3.7.12"
  },
  "vscode": {
   "interpreter": {
    "hash": "4d32f471e4c787df35246a436d6b5da50fcc80632abe0dd119be69a8b3537624"
   }
  }
 },
 "nbformat": 4,
 "nbformat_minor": 2
}